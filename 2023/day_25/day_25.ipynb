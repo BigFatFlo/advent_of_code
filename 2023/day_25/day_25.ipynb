{
 "cells": [
  {
   "cell_type": "code",
   "execution_count": 145,
   "metadata": {},
   "outputs": [
    {
     "name": "stdout",
     "output_type": "stream",
     "text": [
      "3266\n",
      "1458\n",
      "731.0 727.0 531437.0 3\n"
     ]
    }
   ],
   "source": [
    "from copy import deepcopy\n",
    "from queue import Queue\n",
    "from random import choice\n",
    "from time import sleep\n",
    "from tabulate import tabulate\n",
    "import math as m\n",
    "\n",
    "f = open(\"input.txt\", 'r')\n",
    "\n",
    "wires = {}\n",
    "components = set()\n",
    "\n",
    "for line in f:\n",
    "    c_name, c_list = line.replace('\\n', '').split(':')\n",
    "    components.add(c_name)\n",
    "    c_list = [c for c in c_list.split(' ') if c != '']\n",
    "    for c in c_list:\n",
    "        components.add(c)\n",
    "        wire = tuple(sorted([c, c_name]))\n",
    "        wires[wire] = 1\n",
    "\n",
    "print(len(wires))\n",
    "nb_of_components = len(components)\n",
    "print(nb_of_components)\n",
    "\n",
    "def contract(wires):\n",
    "    (x, y) = choice(list(wires.keys()))\n",
    "    contracted_component = x+y\n",
    "    new_wires = {}\n",
    "    for (a, b) in wires:\n",
    "        if (a, b) == (x, y):\n",
    "            continue\n",
    "        new_wire = None\n",
    "        if a in [x, y]:\n",
    "            new_wire = tuple(sorted([contracted_component, b]))\n",
    "        elif b in [x, y]:\n",
    "            new_wire = tuple(sorted([contracted_component, a]))\n",
    "        else:\n",
    "            new_wires[(a, b)] = wires[(a, b)]\n",
    "            continue\n",
    "        if new_wire in new_wires:\n",
    "            new_wires[new_wire] += wires[(a, b)]\n",
    "        else:\n",
    "            new_wires[new_wire] = wires[(a, b)]\n",
    "    return new_wires\n",
    "\n",
    "def contractToSize(wires, size, target_size):\n",
    "    while size > target_size:\n",
    "        wires = contract(wires)\n",
    "        size -= 1\n",
    "    return wires, size\n",
    "\n",
    "# Karger–Stein algorithm: https://en.wikipedia.org/wiki/Karger%27s_algorithm\n",
    "def findCut(wires, size):\n",
    "    if size <= 4:\n",
    "        wires, size = contractToSize(wires, size, 2)\n",
    "        (a, b) = list(wires.keys())[0]\n",
    "        weight = wires[(a, b)]\n",
    "        if weight == 3:\n",
    "            print(len(a)/3, len(b)/3, len(a)*len(b)/9, weight)\n",
    "        return weight == 3\n",
    "    else:\n",
    "        target_size = int(1+size/m.sqrt(2))\n",
    "        wires_0, size_0 = contractToSize(wires, size, target_size)\n",
    "        wires_1, size_1 = contractToSize(wires, size, target_size)\n",
    "        return findCut(wires_0, size_0) or findCut(wires_1, size_1)\n",
    "\n",
    "while not findCut(wires, nb_of_components):\n",
    "    sleep(0.001)\n",
    "\n",
    "    \n"
   ]
  }
 ],
 "metadata": {
  "kernelspec": {
   "display_name": ".venv",
   "language": "python",
   "name": "python3"
  },
  "language_info": {
   "codemirror_mode": {
    "name": "ipython",
    "version": 3
   },
   "file_extension": ".py",
   "mimetype": "text/x-python",
   "name": "python",
   "nbconvert_exporter": "python",
   "pygments_lexer": "ipython3",
   "version": "3.12.0"
  }
 },
 "nbformat": 4,
 "nbformat_minor": 2
}
