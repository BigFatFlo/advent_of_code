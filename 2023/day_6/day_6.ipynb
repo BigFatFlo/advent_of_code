{
 "cells": [
  {
   "cell_type": "code",
   "execution_count": 18,
   "metadata": {},
   "outputs": [
    {
     "name": "stdout",
     "output_type": "stream",
     "text": [
      "[42, 89, 91, 89] [308, 1170, 1291, 1467]\n",
      "[[10, 33], [17, 73], [18, 74], [22, 68]]\n",
      "3317888\n"
     ]
    }
   ],
   "source": [
    "import math as m\n",
    "\n",
    "f = open(\"input.txt\", \"r\")\n",
    "time = []\n",
    "distance = []\n",
    "\n",
    "for line in f:\n",
    "    numbers = [int(number) for number in line.split(\":\")[1].split(\" \") if number != '']\n",
    "    if line.startswith(\"Time\"):\n",
    "        time[:] = numbers\n",
    "    else:\n",
    "        distance[:] = numbers\n",
    "\n",
    "print(time, distance)\n",
    "\n",
    "ranges = [[] for t in time]\n",
    "\n",
    "for race in range(len(time)):\n",
    "    # With tf the total time of the race, dr the record distance and t the time we release the button,\n",
    "    # the record is matched if t*(tf-t) = dr so we get two solutions which give us the range of ways to beat the record\n",
    "    tf = time[race]\n",
    "    dr = distance[race]\n",
    "    delta = tf**2 - 4*dr\n",
    "    t0 = m.ceil((tf - m.sqrt(delta))/2)\n",
    "    t1 = m.ceil((tf + m.sqrt(delta))/2)\n",
    "    ranges[race] = [t0, t1]\n",
    "\n",
    "print(ranges)\n",
    "total = 1\n",
    "for start, end in ranges:\n",
    "    total *= (end - start)\n",
    "\n",
    "print(total)"
   ]
  },
  {
   "cell_type": "code",
   "execution_count": 22,
   "metadata": {},
   "outputs": [
    {
     "name": "stdout",
     "output_type": "stream",
     "text": [
      "42899189 308117012911467\n",
      "24655068\n"
     ]
    }
   ],
   "source": [
    "single_time = 0\n",
    "single_distance = 0\n",
    "\n",
    "f = open(\"input.txt\", \"r\")\n",
    "for line in f:\n",
    "    number = line.split(\":\")[1].replace(\" \", \"\")\n",
    "    if line.startswith(\"Time\"):\n",
    "        single_time = int(number)\n",
    "    else:\n",
    "        single_distance = int(number)\n",
    "\n",
    "print(single_time, single_distance)\n",
    "\n",
    "tf = single_time\n",
    "dr = single_distance\n",
    "delta = tf**2 - 4*dr\n",
    "t0 = m.ceil((tf - m.sqrt(delta))/2)\n",
    "t1 = m.ceil((tf + m.sqrt(delta))/2)\n",
    "\n",
    "print(t1 - t0)"
   ]
  }
 ],
 "metadata": {
  "kernelspec": {
   "display_name": ".venv",
   "language": "python",
   "name": "python3"
  },
  "language_info": {
   "codemirror_mode": {
    "name": "ipython",
    "version": 3
   },
   "file_extension": ".py",
   "mimetype": "text/x-python",
   "name": "python",
   "nbconvert_exporter": "python",
   "pygments_lexer": "ipython3",
   "version": "3.7.3"
  }
 },
 "nbformat": 4,
 "nbformat_minor": 2
}
