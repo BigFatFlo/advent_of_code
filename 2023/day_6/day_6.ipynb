{
 "cells": [
  {
   "cell_type": "code",
   "execution_count": null,
   "metadata": {},
   "outputs": [],
   "source": [
    "import math as m\n",
    "\n",
    "f = open(\"input.txt\", \"r\")\n",
    "time = []\n",
    "distance = []\n",
    "\n",
    "for line in f:\n",
    "    numbers = [int(number) for number in line.split(\":\")[1].split(\" \") if number != '']\n",
    "    if line.startswith(\"Time\"):\n",
    "        time[:] = numbers\n",
    "    else:\n",
    "        distance[:] = numbers\n",
    "\n",
    "print(time, distance)\n",
    "\n",
    "ranges = [[] for t in time]\n",
    "\n",
    "for race in range(len(time)):\n",
    "    # With tf the total time of the race, dr the record distance and t the time we release the button,\n",
    "    # the record is matched if t*(tf-t) = dr so we get two solutions which give us the range of ways to beat the record\n",
    "    tf = time[race]\n",
    "    dr = distance[race]\n",
    "    delta = tf**2 - 4*dr\n",
    "    t0 = m.ceil((tf - m.sqrt(delta))/2)\n",
    "    t1 = m.ceil((tf + m.sqrt(delta))/2)\n",
    "    ranges[race] = [t0, t1]\n",
    "\n",
    "print(ranges)\n",
    "total = 1\n",
    "for start, end in ranges:\n",
    "    total *= (end - start)\n",
    "\n",
    "print(total)"
   ]
  },
  {
   "cell_type": "code",
   "execution_count": null,
   "metadata": {},
   "outputs": [],
   "source": [
    "single_time = 0\n",
    "single_distance = 0\n",
    "\n",
    "f = open(\"input.txt\", \"r\")\n",
    "for line in f:\n",
    "    number = line.split(\":\")[1].replace(\" \", \"\")\n",
    "    if line.startswith(\"Time\"):\n",
    "        single_time = int(number)\n",
    "    else:\n",
    "        single_distance = int(number)\n",
    "\n",
    "print(single_time, single_distance)\n",
    "\n",
    "tf = single_time\n",
    "dr = single_distance\n",
    "delta = tf**2 - 4*dr\n",
    "t0 = m.ceil((tf - m.sqrt(delta))/2)\n",
    "t1 = m.ceil((tf + m.sqrt(delta))/2)\n",
    "\n",
    "print(t1 - t0)"
   ]
  }
 ],
 "metadata": {
  "language_info": {
   "name": "python"
  }
 },
 "nbformat": 4,
 "nbformat_minor": 2
}
