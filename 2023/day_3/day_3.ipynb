{
 "cells": [
  {
   "cell_type": "code",
   "execution_count": 12,
   "metadata": {},
   "outputs": [
    {
     "name": "stdout",
     "output_type": "stream",
     "text": [
      "537732\n"
     ]
    }
   ],
   "source": [
    "f=open(\"input.txt\", \"r\")\n",
    "\n",
    "matrix = []\n",
    "\n",
    "for line in f:\n",
    "    matrix.append(list(line.replace(\"\\n\",\"\")))\n",
    "\n",
    "height = len(matrix)\n",
    "width = len(matrix[0])\n",
    "part_numbers = []\n",
    "part_numbers_sum = 0\n",
    "for i in range(height):\n",
    "    part_numbers.append([])\n",
    "    j = 0\n",
    "    while j < width:\n",
    "        c = matrix[i][j]\n",
    "        if not c.isdigit():\n",
    "            j += 1\n",
    "            continue\n",
    "        else:\n",
    "            start = j\n",
    "            end = j\n",
    "            while end < width and matrix[i][end].isdigit():\n",
    "                end += 1\n",
    "            j = end\n",
    "            number = int(\"\".join(d for d in matrix[i][start:end]))\n",
    "            found_symbol = False\n",
    "            for r in range(-1,2):\n",
    "                if r == 0:\n",
    "                    if start - 1 >= 0 and matrix[i][start-1] != '.':\n",
    "                        found_symbol = True\n",
    "                        break\n",
    "                    if end < width and matrix[i][end] != '.':\n",
    "                        found_symbol = True\n",
    "                        break\n",
    "                elif i+r >= 0 and i+r < height:\n",
    "                    for k in range(max(0, start-1), min(width, end+1)):\n",
    "                        if not matrix[i+r][k].isdigit() and matrix[i+r][k] != '.':\n",
    "                            found_symbol = True\n",
    "                            break\n",
    "                    if found_symbol:\n",
    "                        break\n",
    "            if found_symbol:\n",
    "                part_numbers_sum += number\n",
    "                part_numbers[i].append((start, end-1, number))\n",
    "print(part_numbers_sum)"
   ]
  },
  {
   "cell_type": "code",
   "execution_count": 13,
   "metadata": {},
   "outputs": [
    {
     "name": "stdout",
     "output_type": "stream",
     "text": [
      "84883664\n"
     ]
    }
   ],
   "source": [
    "gear_ratios_sum = 0\n",
    "for i in range(height):\n",
    "    for j in range(width):\n",
    "        c = matrix[i][j]\n",
    "        if c == '*':\n",
    "            nb_adjacent_numbers = 0\n",
    "            gear_ratio = 1\n",
    "            for r in range(-1,2):\n",
    "                if r == 0:\n",
    "                    for (first_digit, last_digit, number) in part_numbers[i]:\n",
    "                        if j == first_digit - 1 or j == last_digit + 1:\n",
    "                            nb_adjacent_numbers += 1\n",
    "                            if nb_adjacent_numbers > 2:\n",
    "                                break\n",
    "                            gear_ratio *= number\n",
    "                    if nb_adjacent_numbers > 2:\n",
    "                        break\n",
    "                elif i+r >= 0 and i+r < height:\n",
    "                    for (first_digit, last_digit, number) in part_numbers[i+r]:\n",
    "                        if j >= first_digit - 1 and j <= last_digit + 1:\n",
    "                            nb_adjacent_numbers += 1\n",
    "                            if nb_adjacent_numbers > 2:\n",
    "                                break\n",
    "                            gear_ratio *= number\n",
    "                    if nb_adjacent_numbers > 2:\n",
    "                        break\n",
    "                if nb_adjacent_numbers > 2:\n",
    "                        break\n",
    "            if nb_adjacent_numbers == 2:\n",
    "                gear_ratios_sum += gear_ratio\n",
    "print(gear_ratios_sum)"
   ]
  }
 ],
 "metadata": {
  "kernelspec": {
   "display_name": "Python 3",
   "language": "python",
   "name": "python3"
  },
  "language_info": {
   "codemirror_mode": {
    "name": "ipython",
    "version": 3
   },
   "file_extension": ".py",
   "mimetype": "text/x-python",
   "name": "python",
   "nbconvert_exporter": "python",
   "pygments_lexer": "ipython3",
   "version": "3.7.3"
  }
 },
 "nbformat": 4,
 "nbformat_minor": 2
}
