{
 "cells": [
  {
   "cell_type": "code",
   "execution_count": 48,
   "metadata": {},
   "outputs": [
    {
     "name": "stdout",
     "output_type": "stream",
     "text": [
      "LLRRRLLRLRRRLLRLRLRLRLRRRLRRLRRLRLLLRRLLRRLRRLRRLRRRLLLRRLRLRRRLRRRLRLRRLRRRLRLRRRLRLRLLLRLRRLRLRRLRRRLRLRRRLRRRLRRRLRRRLRLRRRLRRRLRLLRRLRLRLRRRLRRLRRRLRRRLRRRLRRRLLLLRRLLRLRRLRRLRRRLRRRLLLRRLRRLRLRRLRRRLRRLRLRRRLRLRRLLRLLRRLRLRRRLRRLRRLRLRRLLLRRRLRLRRRLRLRLLRLRLRRRLRLRLRRRLRRLRRLRRRLRRLLRRRR\n",
      "[13771, 20803, 23147, 19631, 17287, 17873]\n",
      "23147\n",
      "18625484023687\n"
     ]
    }
   ],
   "source": [
    "import math as m\n",
    "\n",
    "f = open(\"input.txt\", \"r\")\n",
    "\n",
    "class Node:\n",
    "    def __init__(self, node, left, right) -> None:\n",
    "        self.node = node\n",
    "        self.left = left\n",
    "        self.right = right\n",
    "\n",
    "nodes = {}\n",
    "starting_nodes = []\n",
    "\n",
    "for line_nb, line in enumerate(f):\n",
    "    if line_nb == 0:\n",
    "        instructions = line.replace(\"\\n\", \"\")\n",
    "    elif line_nb >= 2:\n",
    "        line = line.replace(\"(\", \"\").replace(\")\", \"\").replace(\" \", \"\").replace(\"\\n\", \"\").split(\"=\")\n",
    "        node = line[0]\n",
    "        (left, right) = line[1].split(\",\")\n",
    "        nodes[node] = Node(node, left, right)\n",
    "        if node[2] == 'A':\n",
    "            starting_nodes.append(nodes[node])\n",
    "\n",
    "print(instructions)\n",
    "\n",
    "nb_of_steps = 0\n",
    "current_inst_index = 0\n",
    "current_nodes = starting_nodes\n",
    "reached_end = True\n",
    "cycle_lengths = [0 for node in starting_nodes]\n",
    "for node in current_nodes:\n",
    "    if node.node[2] != 'Z':\n",
    "        reached_end = False\n",
    "        break\n",
    "while not reached_end:\n",
    "    if current_inst_index == len(instructions):\n",
    "        current_inst_index = 0\n",
    "    inst = instructions[current_inst_index]\n",
    "    nb_of_steps += 1\n",
    "    current_inst_index += 1\n",
    "    next_nodes = []\n",
    "    for node in current_nodes:\n",
    "        if inst == \"L\":\n",
    "            next_node = node.left\n",
    "        elif inst == \"R\":\n",
    "            next_node = node.right\n",
    "        next_nodes.append(nodes[next_node])\n",
    "    current_nodes = next_nodes\n",
    "    reached_end = True\n",
    "    for index, node in enumerate(current_nodes):\n",
    "        if node.node[2] == 'Z':\n",
    "            if cycle_lengths[index] == 0 and nb_of_steps > 1:\n",
    "                cycle_lengths[index] = nb_of_steps\n",
    "        if cycle_lengths[index] == 0:\n",
    "            reached_end = False\n",
    "\n",
    "# This only works on this specific input because each starting node begins a cycle\n",
    "print(cycle_lengths)\n",
    "print(m.lcm(*cycle_lengths))\n",
    "\n"
   ]
  }
 ],
 "metadata": {
  "kernelspec": {
   "display_name": ".venv",
   "language": "python",
   "name": "python3"
  },
  "language_info": {
   "codemirror_mode": {
    "name": "ipython",
    "version": 3
   },
   "file_extension": ".py",
   "mimetype": "text/x-python",
   "name": "python",
   "nbconvert_exporter": "python",
   "pygments_lexer": "ipython3",
   "version": "3.12.0"
  }
 },
 "nbformat": 4,
 "nbformat_minor": 2
}
