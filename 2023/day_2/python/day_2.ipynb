{
 "cells": [
  {
   "cell_type": "code",
   "execution_count": null,
   "metadata": {},
   "outputs": [],
   "source": [
    "from typing import Self\n",
    "import math as m\n",
    "\n",
    "EXAMPLE = \"../example.txt\"\n",
    "INPUT = \"../input.txt\""
   ]
  },
  {
   "cell_type": "code",
   "execution_count": null,
   "metadata": {},
   "outputs": [],
   "source": [
    "class Game:\n",
    "    plays: list[dict[str, int]]\n",
    "\n",
    "    def __init__(self, game_id: int, plays: list[dict[str, int]]) -> None:\n",
    "        self.id = game_id\n",
    "        self.plays = plays\n",
    "\n",
    "    @classmethod\n",
    "    def build(cls, game_line: str) -> Self:\n",
    "        line = game_line.replace('\\n', \"\")\n",
    "        game_id, plays = line.split(':')\n",
    "        _, game_id = game_id.split(\" \")\n",
    "        game_id = int(game_id)\n",
    "        plays_list = plays.split(';')\n",
    "        plays = []\n",
    "        for play in plays_list:\n",
    "            new_play = {}\n",
    "            cubes = play.split(',')\n",
    "            for cube in cubes:\n",
    "                nb, color = cube.strip().split(' ')\n",
    "                nb = int(nb.strip())\n",
    "                color = color.strip()\n",
    "                new_play[color] = nb\n",
    "            plays.append(new_play)\n",
    "        return cls(game_id, plays)\n",
    "    \n",
    "    def is_possible(self, bag: dict[str, int]) -> bool:\n",
    "        for play in self.plays:\n",
    "            for color, max in bag.items():\n",
    "                if color in play and play[color] > max:\n",
    "                    return False\n",
    "        return True\n",
    "    \n",
    "    def minimum_cubes(self) -> dict[str, int]:\n",
    "        result = {\"red\": 0, \"green\": 0, \"blue\": 0}\n",
    "        for play in self.plays:\n",
    "            for color in result:\n",
    "                if color in play and play[color] > result[color]:\n",
    "                    result[color] = play[color]\n",
    "        return result\n"
   ]
  },
  {
   "cell_type": "code",
   "execution_count": null,
   "metadata": {},
   "outputs": [],
   "source": [
    "def get_games(input_file_name: str) -> list[Game]:\n",
    "    games = []\n",
    "    with open(input_file_name, 'r') as f:\n",
    "        for line in f:\n",
    "            games.append(Game.build(line))\n",
    "    return games"
   ]
  },
  {
   "cell_type": "code",
   "execution_count": null,
   "metadata": {},
   "outputs": [],
   "source": [
    "games = get_games(EXAMPLE)\n",
    "for game in games:\n",
    "    print(f\"Game n°{game.id}: {game.plays}\")"
   ]
  },
  {
   "cell_type": "code",
   "execution_count": null,
   "metadata": {},
   "outputs": [],
   "source": [
    "BAG = {\"red\": 12, \"green\": 13, \"blue\": 14}"
   ]
  },
  {
   "cell_type": "code",
   "execution_count": null,
   "metadata": {},
   "outputs": [],
   "source": [
    "for game in games:\n",
    "    print(f\"Game n°{game.id} possible = {game.is_possible(BAG)}\")"
   ]
  },
  {
   "cell_type": "code",
   "execution_count": null,
   "metadata": {},
   "outputs": [],
   "source": [
    "def part_1(input_file_name: str) -> None:\n",
    "    games = get_games(input_file_name)\n",
    "    result = 0\n",
    "    for game in games:\n",
    "        if game.is_possible(BAG):\n",
    "            result += game.id\n",
    "    print(result)"
   ]
  },
  {
   "cell_type": "code",
   "execution_count": null,
   "metadata": {},
   "outputs": [],
   "source": [
    "part_1(EXAMPLE)"
   ]
  },
  {
   "cell_type": "code",
   "execution_count": null,
   "metadata": {},
   "outputs": [],
   "source": [
    "part_1(INPUT)"
   ]
  },
  {
   "cell_type": "code",
   "execution_count": null,
   "metadata": {},
   "outputs": [],
   "source": [
    "for game in games:\n",
    "    print(f\"Game n°{game.id} minimum cubes = {game.minimum_cubes()}\")"
   ]
  },
  {
   "cell_type": "code",
   "execution_count": null,
   "metadata": {},
   "outputs": [],
   "source": [
    "def part_2(input_file_name: str) -> None:\n",
    "    games = get_games(input_file_name)\n",
    "    result = 0\n",
    "    for game in games:\n",
    "        min_cubes = game.minimum_cubes()\n",
    "        result += m.prod(min_cubes.values())\n",
    "    print(result)"
   ]
  },
  {
   "cell_type": "code",
   "execution_count": null,
   "metadata": {},
   "outputs": [],
   "source": [
    "part_2(EXAMPLE)"
   ]
  },
  {
   "cell_type": "code",
   "execution_count": null,
   "metadata": {},
   "outputs": [],
   "source": [
    "part_2(INPUT)"
   ]
  }
 ],
 "metadata": {
  "language_info": {
   "name": "python"
  }
 },
 "nbformat": 4,
 "nbformat_minor": 2
}
