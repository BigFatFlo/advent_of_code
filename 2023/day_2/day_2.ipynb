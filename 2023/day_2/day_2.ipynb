{
 "cells": [
  {
   "cell_type": "code",
   "execution_count": 11,
   "metadata": {},
   "outputs": [
    {
     "name": "stdout",
     "output_type": "stream",
     "text": [
      "2476\n"
     ]
    }
   ],
   "source": [
    "f=open(\"input.txt\", \"r\")\n",
    "game_id = 0\n",
    "games = {}\n",
    "for line in f:\n",
    "    game_id+=1\n",
    "    games[game_id] = []\n",
    "    all_draws = line.split(':')[1]\n",
    "    draws = all_draws.split(';')\n",
    "    for draw in draws:\n",
    "        games[game_id].append({})\n",
    "        cubes = draw.split(',')\n",
    "        for cube in cubes:\n",
    "            cube = cube.replace(\" \",\"\")\n",
    "            i = 0\n",
    "            number_string = \"\"\n",
    "            while i < len(cube) and cube[i].isdigit():\n",
    "                number_string+=cube[i]\n",
    "                i += 1\n",
    "            color = cube[i:].replace(\"\\n\", \"\")\n",
    "            number = int(number_string)\n",
    "            games[game_id][-1][color] = number\n",
    "nb_of_games = game_id\n",
    "total=0\n",
    "max_colors = {\"red\": 12, \"green\": 13, \"blue\": 14}\n",
    "for game_id in range(1, nb_of_games+1):\n",
    "    possible = True\n",
    "    game = games[game_id]\n",
    "    for draw in game:\n",
    "        for color, max_nb in max_colors.items():\n",
    "            if draw.get(color, 0) > max_nb:\n",
    "                possible = False\n",
    "                break\n",
    "        if not possible:\n",
    "            break\n",
    "    if possible:\n",
    "        total += game_id\n",
    "\n",
    "print(total)\n",
    "\n",
    "        \n",
    "\n",
    "\n",
    "\n",
    "\n"
   ]
  },
  {
   "cell_type": "code",
   "execution_count": 12,
   "metadata": {},
   "outputs": [
    {
     "name": "stdout",
     "output_type": "stream",
     "text": [
      "54911\n"
     ]
    }
   ],
   "source": [
    "total=0\n",
    "for game_id in range(1, nb_of_games+1):\n",
    "    possible = True\n",
    "    game = games[game_id]\n",
    "    min_nb_of_cubes = {\"red\": 0, \"green\": 0, \"blue\": 0}\n",
    "    for draw in game:\n",
    "        for color, min_nb in min_nb_of_cubes.items():\n",
    "            nb = draw.get(color, 0)\n",
    "            if nb > min_nb:\n",
    "                min_nb_of_cubes[color] = nb\n",
    "    power = 1\n",
    "    for min_nb in min_nb_of_cubes.values():\n",
    "        power *= min_nb\n",
    "    total += power\n",
    "print(total)"
   ]
  }
 ],
 "metadata": {
  "kernelspec": {
   "display_name": "Python 3",
   "language": "python",
   "name": "python3"
  },
  "language_info": {
   "codemirror_mode": {
    "name": "ipython",
    "version": 3
   },
   "file_extension": ".py",
   "mimetype": "text/x-python",
   "name": "python",
   "nbconvert_exporter": "python",
   "pygments_lexer": "ipython3",
   "version": "3.7.3"
  }
 },
 "nbformat": 4,
 "nbformat_minor": 2
}
