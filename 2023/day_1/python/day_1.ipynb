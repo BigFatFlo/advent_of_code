{
 "cells": [
  {
   "cell_type": "code",
   "execution_count": null,
   "metadata": {},
   "outputs": [],
   "source": [
    "EXAMPLE_1 = \"../example_1.txt\"\n",
    "EXAMPLE_2 = \"../example_2.txt\"\n",
    "INPUT = \"../input.txt\""
   ]
  },
  {
   "cell_type": "code",
   "execution_count": null,
   "metadata": {},
   "outputs": [],
   "source": [
    "def get_lines(input_file_name: str) -> list[str]:\n",
    "    lines = []\n",
    "    with open(input_file_name, 'r') as f:\n",
    "        for line in f:\n",
    "            lines.append(line.replace('\\n', \"\"))\n",
    "    return lines"
   ]
  },
  {
   "cell_type": "code",
   "execution_count": null,
   "metadata": {},
   "outputs": [],
   "source": [
    "lines = get_lines(EXAMPLE_1)\n",
    "print(lines)"
   ]
  },
  {
   "cell_type": "code",
   "execution_count": null,
   "metadata": {},
   "outputs": [],
   "source": [
    "def find_digits(line: str) -> tuple[int, int]:\n",
    "    first_digit = -1\n",
    "    last_digit = -1\n",
    "    n = len(line)\n",
    "    for i in range(n):\n",
    "        if first_digit == -1:\n",
    "            if line[i].isdigit():\n",
    "                first_digit = int(line[i])\n",
    "        if last_digit == -1:\n",
    "            if line[n-1 - i].isdigit():\n",
    "                last_digit = int(line[n-1 - i])\n",
    "        if first_digit != -1 and last_digit != -1:\n",
    "            break\n",
    "    return first_digit, last_digit"
   ]
  },
  {
   "cell_type": "code",
   "execution_count": null,
   "metadata": {},
   "outputs": [],
   "source": [
    "for line in lines:\n",
    "    print(find_digits(line))"
   ]
  },
  {
   "cell_type": "code",
   "execution_count": null,
   "metadata": {},
   "outputs": [],
   "source": [
    "def calculate_calibration(t: int, u: int) -> int:\n",
    "    return t*10 + u"
   ]
  },
  {
   "cell_type": "code",
   "execution_count": null,
   "metadata": {},
   "outputs": [],
   "source": [
    "def part_1(input_file_name: str) -> None:\n",
    "    lines = get_lines(input_file_name)\n",
    "    result = 0\n",
    "    for line in lines:\n",
    "        t, u = find_digits(line)\n",
    "        result += calculate_calibration(t, u)\n",
    "    print(result)"
   ]
  },
  {
   "cell_type": "code",
   "execution_count": null,
   "metadata": {},
   "outputs": [],
   "source": [
    "part_1(EXAMPLE_1)"
   ]
  },
  {
   "cell_type": "code",
   "execution_count": null,
   "metadata": {},
   "outputs": [],
   "source": [
    "part_1(INPUT)"
   ]
  },
  {
   "cell_type": "code",
   "execution_count": null,
   "metadata": {},
   "outputs": [],
   "source": [
    "TEXT_DIGITS = {\"one\":'1', \"two\":'2', \"three\":'3', \"four\":'4', \"five\":'5', \"six\":'6', \"seven\":'7', \"eight\":'8', \"nine\":'9'}\n",
    "\n",
    "def get_digit(line: str, i: int)->int:\n",
    "    n = len(line)\n",
    "    if line[i].isdigit():\n",
    "        return int(line[i])\n",
    "    elif i+3 <= n and line[i:i+3] in TEXT_DIGITS:\n",
    "            return int(TEXT_DIGITS[line[i:i+3]])\n",
    "    elif i+4 <= n and line[i:i+4] in TEXT_DIGITS:\n",
    "            return int(TEXT_DIGITS[line[i:i+4]])\n",
    "    elif i+5 <= n and line[i:i+5] in TEXT_DIGITS:\n",
    "            return int(TEXT_DIGITS[line[i:i+5]])\n",
    "    else:\n",
    "        return -1"
   ]
  },
  {
   "cell_type": "code",
   "execution_count": null,
   "metadata": {},
   "outputs": [],
   "source": [
    "def find_digits_2(line: str) -> tuple[int, int]:\n",
    "    first_digit = -1\n",
    "    last_digit = -1\n",
    "    n = len(line)\n",
    "    for i in range(n):\n",
    "        if first_digit == -1:\n",
    "            d = get_digit(line, i)\n",
    "            if d != -1:\n",
    "                first_digit = d\n",
    "        if last_digit == -1:\n",
    "            d = get_digit(line, n-1-i)\n",
    "            if d != -1:\n",
    "                last_digit = d\n",
    "        if first_digit != -1 and last_digit != -1:\n",
    "            break\n",
    "    return first_digit, last_digit"
   ]
  },
  {
   "cell_type": "code",
   "execution_count": null,
   "metadata": {},
   "outputs": [],
   "source": [
    "def part_2(input_file_name: str) -> None:\n",
    "    lines = get_lines(input_file_name)\n",
    "    result = 0\n",
    "    for line in lines:\n",
    "        t, u = find_digits_2(line)\n",
    "        result += calculate_calibration(t, u)\n",
    "    print(result)"
   ]
  },
  {
   "cell_type": "code",
   "execution_count": null,
   "metadata": {},
   "outputs": [],
   "source": [
    "part_2(EXAMPLE_2)"
   ]
  },
  {
   "cell_type": "code",
   "execution_count": null,
   "metadata": {},
   "outputs": [],
   "source": [
    "part_2(INPUT)"
   ]
  }
 ],
 "metadata": {
  "language_info": {
   "name": "python"
  }
 },
 "nbformat": 4,
 "nbformat_minor": 2
}
