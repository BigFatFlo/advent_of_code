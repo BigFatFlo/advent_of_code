{
 "cells": [
  {
   "cell_type": "code",
   "execution_count": 24,
   "metadata": {},
   "outputs": [
    {
     "name": "stdout",
     "output_type": "stream",
     "text": [
      "52\n",
      "513643\n",
      "265345\n"
     ]
    }
   ],
   "source": [
    "from tabulate import tabulate\n",
    "\n",
    "f = open(\"input.txt\")\n",
    "\n",
    "seq = []\n",
    "\n",
    "for line in f:\n",
    "    seq = line.split(',')\n",
    "\n",
    "def hash(s):\n",
    "    val = 0\n",
    "    for c in s:\n",
    "        val += ord(c)\n",
    "        val *= 17\n",
    "        val %= 256\n",
    "    return val\n",
    "\n",
    "print(hash(\"HASH\"))\n",
    "\n",
    "total = 0\n",
    "\n",
    "for inst in seq:\n",
    "    total += hash(inst)\n",
    "\n",
    "print(total)\n",
    "\n",
    "boxes = [{\"lenses\": [], \"labels\": set()} for i in range(256)]\n",
    "\n",
    "for inst in seq:\n",
    "    label = \"\"\n",
    "    fl = -1\n",
    "    if '-' in inst:\n",
    "        label = inst.split('-')[0]\n",
    "        box_nb = hash(label)\n",
    "        box = boxes[box_nb]\n",
    "        if label in box[\"labels\"]:\n",
    "            for i in range(len(box[\"lenses\"])):\n",
    "                if box[\"lenses\"][i][\"label\"] == label:\n",
    "                    del box[\"lenses\"][i]\n",
    "                    box[\"labels\"].remove(label)\n",
    "                    break\n",
    "    elif '=' in inst:\n",
    "        label = inst.split('=')[0]\n",
    "        fl = int(inst.split('=')[1])\n",
    "        box_nb = hash(label)\n",
    "        box = boxes[box_nb]\n",
    "        if label in box[\"labels\"]:\n",
    "            for i in range(len(box[\"lenses\"])):\n",
    "                if box[\"lenses\"][i][\"label\"] == label:\n",
    "                    box[\"lenses\"][i][\"fl\"] = fl\n",
    "                    break\n",
    "        else:\n",
    "            box[\"labels\"].add(label)\n",
    "            box[\"lenses\"].append({\"label\": label, \"fl\": fl})\n",
    "\n",
    "total = 0\n",
    "\n",
    "for index, box in enumerate(boxes):\n",
    "    n = len(box[\"lenses\"])\n",
    "    if n > 0:\n",
    "        for slot in range(n):\n",
    "            lens = box[\"lenses\"][slot]\n",
    "            total += (index+1)*(slot+1)*lens[\"fl\"]\n",
    "\n",
    "print(total)\n",
    "\n",
    "\n"
   ]
  }
 ],
 "metadata": {
  "kernelspec": {
   "display_name": ".venv",
   "language": "python",
   "name": "python3"
  },
  "language_info": {
   "codemirror_mode": {
    "name": "ipython",
    "version": 3
   },
   "file_extension": ".py",
   "mimetype": "text/x-python",
   "name": "python",
   "nbconvert_exporter": "python",
   "pygments_lexer": "ipython3",
   "version": "3.12.0"
  }
 },
 "nbformat": 4,
 "nbformat_minor": 2
}
