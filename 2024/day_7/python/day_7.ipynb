{
 "cells": [
  {
   "cell_type": "code",
   "execution_count": null,
   "metadata": {},
   "outputs": [],
   "source": [
    "EXAMPLE = \"../example.txt\"\n",
    "INPUT = \"../input.txt\""
   ]
  },
  {
   "cell_type": "code",
   "execution_count": null,
   "metadata": {},
   "outputs": [],
   "source": [
    "def get_equations(input_file_name):\n",
    "    equations = []\n",
    "    with open(input_file_name, \"r\") as file:\n",
    "        for line in file:\n",
    "            total, numbers = line.strip().replace(\"\\n\", \"\").split(\":\")\n",
    "            numbers = [int(nb) for nb in numbers.strip().split(\" \")]\n",
    "            equations.append({\"total\": int(total), \"numbers\": numbers})\n",
    "    return equations"
   ]
  },
  {
   "cell_type": "code",
   "execution_count": null,
   "metadata": {},
   "outputs": [],
   "source": [
    "equations = get_equations(EXAMPLE)\n",
    "print(equations)"
   ]
  },
  {
   "cell_type": "code",
   "execution_count": null,
   "metadata": {},
   "outputs": [],
   "source": [
    "def apply_operator(operator, a, b):\n",
    "    if operator in ['+', '*']:\n",
    "        expression = f\"{a} {operator} {b}\"\n",
    "        return int(eval(expression))\n",
    "    if operator == '||':\n",
    "        return int(str(a)+str(b))"
   ]
  },
  {
   "cell_type": "code",
   "execution_count": null,
   "metadata": {},
   "outputs": [],
   "source": [
    "print(apply_operator('+', 21, 54))\n",
    "print(apply_operator('*', 21, 54))\n",
    "print(apply_operator('||', 21, 54))"
   ]
  },
  {
   "cell_type": "code",
   "execution_count": null,
   "metadata": {},
   "outputs": [],
   "source": [
    "def is_equation_possible(equation, operators):\n",
    "    target = equation[\"total\"]\n",
    "    numbers = equation[\"numbers\"]\n",
    "    totals = set([numbers[0]])\n",
    "    i = 1\n",
    "    while i < len(numbers):\n",
    "        new_totals = set()\n",
    "        for operator in operators:\n",
    "            for total in totals:\n",
    "                condition = False\n",
    "                match operator:\n",
    "                    case '+':\n",
    "                        condition = total < target\n",
    "                    case '*':\n",
    "                        condition = total <= target\n",
    "                    case '||':\n",
    "                        condition = total <= target//10\n",
    "                    \n",
    "                if condition:\n",
    "                    new_total = apply_operator(operator, total, numbers[i])\n",
    "                    if new_total <= target:\n",
    "                        new_totals.add(new_total)\n",
    "                if i == len(numbers) - 1 and target in new_totals:\n",
    "                    return True\n",
    "        totals = new_totals\n",
    "        i += 1\n",
    "    return False\n"
   ]
  },
  {
   "cell_type": "code",
   "execution_count": null,
   "metadata": {},
   "outputs": [],
   "source": [
    "def part_1(input_file_name):\n",
    "    equations = get_equations(input_file_name)\n",
    "    operators = ['+', '*']\n",
    "    result = 0\n",
    "    for equation in equations:\n",
    "        if is_equation_possible(equation, operators):\n",
    "            result += equation[\"total\"]\n",
    "    print(result)"
   ]
  },
  {
   "cell_type": "code",
   "execution_count": null,
   "metadata": {},
   "outputs": [],
   "source": [
    "part_1(EXAMPLE)"
   ]
  },
  {
   "cell_type": "code",
   "execution_count": null,
   "metadata": {},
   "outputs": [],
   "source": [
    "part_1(INPUT)"
   ]
  },
  {
   "cell_type": "code",
   "execution_count": null,
   "metadata": {},
   "outputs": [],
   "source": [
    "def part_2(input_file_name):\n",
    "    equations = get_equations(input_file_name)\n",
    "    operators = ['+', '*', '||']\n",
    "    result = 0\n",
    "    for equation in equations:\n",
    "        if is_equation_possible(equation, operators):\n",
    "            result += equation[\"total\"]\n",
    "    print(result)"
   ]
  },
  {
   "cell_type": "code",
   "execution_count": null,
   "metadata": {},
   "outputs": [],
   "source": [
    "part_2(EXAMPLE)"
   ]
  },
  {
   "cell_type": "code",
   "execution_count": null,
   "metadata": {},
   "outputs": [],
   "source": [
    "part_2(INPUT)"
   ]
  },
  {
   "cell_type": "markdown",
   "metadata": {},
   "source": [
    "Better solution after checking Reddit"
   ]
  },
  {
   "cell_type": "code",
   "execution_count": null,
   "metadata": {},
   "outputs": [],
   "source": [
    "def is_target_reachable(target, numbers, operators):\n",
    "    # Start with the end and recursively check if the target is reachable\n",
    "    *head, tail = numbers\n",
    "    if not head:\n",
    "        # Only one number\n",
    "        return tail == target\n",
    "    if '||' in operators:\n",
    "        # Target is reachable via final concatenation only if target ends with the digits of the last number\n",
    "        if str(target).endswith(str(tail)) and is_target_reachable(target // 10**(len(str(tail))),head, operators):\n",
    "            return True\n",
    "    if '*' in operators:\n",
    "        # Target is reachable via final multiplication only if target is divisible by the last number\n",
    "        q, r = divmod(target, tail)\n",
    "        if r == 0 and is_target_reachable(target//tail, head, operators):\n",
    "            return True\n",
    "    # Finally, check if target is reachable via final addition\n",
    "    return is_target_reachable(target-tail, head, operators)"
   ]
  },
  {
   "cell_type": "code",
   "execution_count": null,
   "metadata": {},
   "outputs": [],
   "source": [
    "def get_result(input_file_name, operators):\n",
    "    equations = get_equations(input_file_name)\n",
    "    result = 0\n",
    "    for equation in equations:\n",
    "        target = equation[\"total\"]\n",
    "        numbers = equation[\"numbers\"]\n",
    "        if is_target_reachable(target, numbers, operators):\n",
    "            result += target\n",
    "    return result"
   ]
  },
  {
   "cell_type": "code",
   "execution_count": null,
   "metadata": {},
   "outputs": [],
   "source": [
    "def part_1(input_file_name):\n",
    "    print(get_result(input_file_name, ['+', '*']))"
   ]
  },
  {
   "cell_type": "code",
   "execution_count": null,
   "metadata": {},
   "outputs": [],
   "source": [
    "def part_2(input_file_name):\n",
    "    print(get_result(input_file_name, ['+', '*', '||']))"
   ]
  },
  {
   "cell_type": "code",
   "execution_count": null,
   "metadata": {},
   "outputs": [],
   "source": [
    "part_1(EXAMPLE)"
   ]
  },
  {
   "cell_type": "code",
   "execution_count": null,
   "metadata": {},
   "outputs": [],
   "source": [
    "part_1(INPUT)"
   ]
  },
  {
   "cell_type": "code",
   "execution_count": null,
   "metadata": {},
   "outputs": [],
   "source": [
    "part_2(EXAMPLE)"
   ]
  },
  {
   "cell_type": "code",
   "execution_count": null,
   "metadata": {},
   "outputs": [],
   "source": [
    "part_2(INPUT)"
   ]
  }
 ],
 "metadata": {
  "language_info": {
   "name": "python"
  }
 },
 "nbformat": 4,
 "nbformat_minor": 2
}
