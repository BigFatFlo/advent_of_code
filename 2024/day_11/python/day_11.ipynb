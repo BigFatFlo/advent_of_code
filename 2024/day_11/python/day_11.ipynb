{
 "cells": [
  {
   "cell_type": "code",
   "execution_count": null,
   "metadata": {},
   "outputs": [],
   "source": [
    "EXAMPLE = \"../example.txt\"\n",
    "INPUT = \"../input.txt\""
   ]
  },
  {
   "cell_type": "code",
   "execution_count": null,
   "metadata": {},
   "outputs": [],
   "source": [
    "def get_stones(input_file_name):\n",
    "    with open(input_file_name, 'r') as f:\n",
    "        for line in f:\n",
    "            stones = [int(c) for c in line.replace(\"\\n\", \"\").strip().split(\" \")]\n",
    "    return stones"
   ]
  },
  {
   "cell_type": "code",
   "execution_count": null,
   "metadata": {},
   "outputs": [],
   "source": [
    "stones = get_stones(EXAMPLE)\n",
    "print(stones)"
   ]
  },
  {
   "cell_type": "code",
   "execution_count": null,
   "metadata": {},
   "outputs": [],
   "source": [
    "def get_stone_dict(stones):\n",
    "    stone_dict = {}\n",
    "    for stone in stones:\n",
    "        if stone in stone_dict:\n",
    "            stone_dict[stone] += 1\n",
    "        else:\n",
    "            stone_dict[stone] = 1\n",
    "    return stone_dict"
   ]
  },
  {
   "cell_type": "code",
   "execution_count": null,
   "metadata": {},
   "outputs": [],
   "source": [
    "stone_dict = get_stone_dict(stones)\n",
    "print(stone_dict)"
   ]
  },
  {
   "cell_type": "code",
   "execution_count": null,
   "metadata": {},
   "outputs": [],
   "source": [
    "def get_new_stones(stone):\n",
    "    if stone == 0:\n",
    "        return [1]\n",
    "    stone_s = str(stone)\n",
    "    l = len(stone_s)\n",
    "    if l % 2 == 0:\n",
    "        return [int(stone_s[:l // 2]), int(stone_s[l // 2:])]\n",
    "    return [stone * 2024]"
   ]
  },
  {
   "cell_type": "code",
   "execution_count": null,
   "metadata": {},
   "outputs": [],
   "source": [
    "def blink(stone_dict):\n",
    "    new_stone_dict = {}\n",
    "    for stone, nb in stone_dict.items():\n",
    "        for new_stone in get_new_stones(stone):\n",
    "            if new_stone in new_stone_dict:\n",
    "                new_stone_dict[new_stone] += nb\n",
    "            else:\n",
    "                new_stone_dict[new_stone] = nb\n",
    "    return new_stone_dict"
   ]
  },
  {
   "cell_type": "code",
   "execution_count": null,
   "metadata": {},
   "outputs": [],
   "source": [
    "print(blink(stone_dict))"
   ]
  },
  {
   "cell_type": "code",
   "execution_count": null,
   "metadata": {},
   "outputs": [],
   "source": [
    "def part_1(input_file_name):\n",
    "    stones = get_stones(input_file_name)\n",
    "    stone_dict = get_stone_dict(stones)\n",
    "    for _ in range(25):\n",
    "        stone_dict = blink(stone_dict)\n",
    "    print(sum(stone_dict.values()))"
   ]
  },
  {
   "cell_type": "code",
   "execution_count": null,
   "metadata": {},
   "outputs": [],
   "source": [
    "part_1(EXAMPLE)"
   ]
  },
  {
   "cell_type": "code",
   "execution_count": null,
   "metadata": {},
   "outputs": [],
   "source": [
    "part_1(INPUT)"
   ]
  },
  {
   "cell_type": "code",
   "execution_count": null,
   "metadata": {},
   "outputs": [],
   "source": [
    "def part_2(input_file_name):\n",
    "    stones = get_stones(input_file_name)\n",
    "    stone_dict = get_stone_dict(stones)\n",
    "    for _ in range(75):\n",
    "        stone_dict = blink(stone_dict)\n",
    "    print(sum(stone_dict.values()))"
   ]
  },
  {
   "cell_type": "code",
   "execution_count": null,
   "metadata": {},
   "outputs": [],
   "source": [
    "part_2(EXAMPLE)"
   ]
  },
  {
   "cell_type": "code",
   "execution_count": null,
   "metadata": {},
   "outputs": [],
   "source": [
    "part_2(INPUT)"
   ]
  }
 ],
 "metadata": {
  "language_info": {
   "name": "python"
  }
 },
 "nbformat": 4,
 "nbformat_minor": 2
}
