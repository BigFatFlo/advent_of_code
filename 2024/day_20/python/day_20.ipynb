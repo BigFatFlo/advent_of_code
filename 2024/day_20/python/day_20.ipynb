{
 "cells": [
  {
   "cell_type": "code",
   "execution_count": null,
   "metadata": {},
   "outputs": [],
   "source": [
    "from tabulate import tabulate\n",
    "\n",
    "EXAMPLE = \"../example.txt\"\n",
    "EXAMPLE_MIN_GAIN = 20\n",
    "\n",
    "INPUT = \"../input.txt\"\n",
    "INPUT_MIN_GAIN = 100"
   ]
  },
  {
   "cell_type": "code",
   "execution_count": null,
   "metadata": {},
   "outputs": [],
   "source": [
    "class Map:\n",
    "    grid: list[list[str]]\n",
    "    height: int\n",
    "    width: int\n",
    "    start: tuple[int, int]\n",
    "    end: tuple[int, int]\n",
    "    moves: list[tuple[int, int]] = [(-1, 0), (1, 0), (0, -1), (0, 1)]\n",
    "    cheats: dict[tuple[tuple[int, int], tuple[int, int]], int]\n",
    "    gains: dict[int, int]\n",
    "\n",
    "    def __init__(self, grid):\n",
    "        self.grid = grid\n",
    "        self.height = len(self.grid)\n",
    "        self.width = len(self.grid[0])\n",
    "        self.find_start_stop()\n",
    "\n",
    "    @classmethod\n",
    "    def build(cls, input_file_name):\n",
    "        grid = []\n",
    "        with open(input_file_name, \"r\") as f:\n",
    "            for line in f:\n",
    "                grid.append([c for c in line.replace(\"\\n\", \"\").strip()])\n",
    "        return cls(grid)\n",
    "\n",
    "    def find_start_stop(self):\n",
    "        self.start, self.end = (-1, -1), (-1, -1)\n",
    "        for row in range(self.height):\n",
    "            for col in range(self.width):\n",
    "                if self.grid[row][col] == \"S\":\n",
    "                    self.start = (row, col)\n",
    "                if self.grid[row][col] == \"E\":\n",
    "                    self.end = (row, col)\n",
    "                if self.start != (-1, -1) and self.end != (-1, -1):\n",
    "                    return\n",
    "\n",
    "    def next_position(self, position):\n",
    "        # Find the next position (unique since the track is predetermined)\n",
    "        row, col = position\n",
    "        for r, c in self.moves:\n",
    "            new_row, new_col = row + r, col + c\n",
    "            if (new_row, new_col) not in self.track:\n",
    "                if 0 <= new_row < self.height and 0 <= new_col < self.width:\n",
    "                    if self.grid[new_row][new_col] != \"#\":\n",
    "                        return (new_row, new_col)\n",
    "\n",
    "    def find_race_track(self):\n",
    "        # Save the positions of the track and the time it takes to reach each one\n",
    "        position = self.start\n",
    "        self.track = {}\n",
    "        time = 0\n",
    "        while position != self.end:\n",
    "            self.track[position] = time\n",
    "            position = self.next_position(position)\n",
    "            time += 1\n",
    "        self.track[self.end] = time\n",
    "\n",
    "    def find_cheats(self, max_nb_of_moves):\n",
    "        self.cheats = {}\n",
    "        self.gains = {}\n",
    "        # Go through all positions of the track, each one could be the start of a cheat\n",
    "        for cheat_start in self.track:\n",
    "            nb_of_moves = 1\n",
    "            # Keep track of the positions we've reached by cheating from this start position in \"nb_of_moves\" moves\n",
    "            current_positions = set([cheat_start])\n",
    "            while nb_of_moves <= max_nb_of_moves:\n",
    "                new_positions = set()\n",
    "                # For each current position, calculate the next possible ones\n",
    "                for row, col in current_positions:\n",
    "                    for r, c in self.moves:\n",
    "                        # New possible position\n",
    "                        cheat_end = (\n",
    "                            row + r,\n",
    "                            col + c,\n",
    "                        )\n",
    "                        # We can't leave the grid\n",
    "                        if (\n",
    "                            row + r < 0\n",
    "                            or row + r >= self.height\n",
    "                            or col + r < c\n",
    "                            or col + c >= self.width\n",
    "                        ):\n",
    "                            continue\n",
    "                        # If the current cheat already exists, no need to pursue it further, we've already explored it\n",
    "                        if (cheat_start, cheat_end) in self.cheats:\n",
    "                            continue\n",
    "                        if cheat_end in self.track:\n",
    "                            # The new position is on the track so it could be the end of a cheat\n",
    "                            # Calculate the time gain that cheat would give\n",
    "                            gain = (\n",
    "                                self.track[cheat_end]\n",
    "                                - self.track[cheat_start]\n",
    "                                - nb_of_moves\n",
    "                            )\n",
    "                            # If the gain is a net positive, save the cheat and update the number of cheats for that gain value\n",
    "                            if gain > 0:\n",
    "                                self.cheats[(cheat_start, cheat_end)] = gain\n",
    "                                if gain in self.gains:\n",
    "                                    self.gains[gain] += 1\n",
    "                                else:\n",
    "                                    self.gains[gain] = 1\n",
    "                        # This new position will be a starting point for the next step\n",
    "                        new_positions.add(cheat_end)\n",
    "                nb_of_moves += 1\n",
    "                current_positions = new_positions\n",
    "\n",
    "    def count_cheats_above(self, min_gain):\n",
    "        result = 0\n",
    "        for gain, nb in self.gains.items():\n",
    "            if gain >= min_gain:\n",
    "                result += nb\n",
    "        return result"
   ]
  },
  {
   "cell_type": "code",
   "execution_count": null,
   "metadata": {},
   "outputs": [],
   "source": [
    "map = Map.build(EXAMPLE)\n",
    "print(tabulate(map.grid))\n",
    "map.find_race_track()\n",
    "print(map.track)"
   ]
  },
  {
   "cell_type": "code",
   "execution_count": null,
   "metadata": {},
   "outputs": [],
   "source": [
    "map.find_cheats(max_nb_of_moves=2)\n",
    "print(map.cheats)\n",
    "print(map.gains)"
   ]
  },
  {
   "cell_type": "code",
   "execution_count": null,
   "metadata": {},
   "outputs": [],
   "source": [
    "def part_1(input_file_name, min_gain):\n",
    "    map = Map.build(input_file_name)\n",
    "    map.find_race_track()\n",
    "    map.find_cheats(max_nb_of_moves=2)\n",
    "    result = map.count_cheats_above(min_gain)\n",
    "    print(result)"
   ]
  },
  {
   "cell_type": "code",
   "execution_count": null,
   "metadata": {},
   "outputs": [],
   "source": [
    "part_1(EXAMPLE, EXAMPLE_MIN_GAIN)"
   ]
  },
  {
   "cell_type": "code",
   "execution_count": null,
   "metadata": {},
   "outputs": [],
   "source": [
    "part_1(INPUT, INPUT_MIN_GAIN)"
   ]
  },
  {
   "cell_type": "code",
   "execution_count": null,
   "metadata": {},
   "outputs": [],
   "source": [
    "def part_2(input_file_name, min_gain):\n",
    "    map = Map.build(input_file_name)\n",
    "    map.find_race_track()\n",
    "    map.find_cheats(max_nb_of_moves=20)\n",
    "    result = map.count_cheats_above(min_gain)\n",
    "    print(result)"
   ]
  },
  {
   "cell_type": "code",
   "execution_count": null,
   "metadata": {},
   "outputs": [],
   "source": [
    "EXAMPLE_MIN_GAIN = 70\n",
    "part_2(EXAMPLE, EXAMPLE_MIN_GAIN)"
   ]
  },
  {
   "cell_type": "code",
   "execution_count": null,
   "metadata": {},
   "outputs": [],
   "source": [
    "part_2(INPUT, INPUT_MIN_GAIN)"
   ]
  }
 ],
 "metadata": {
  "language_info": {
   "name": "python"
  }
 },
 "nbformat": 4,
 "nbformat_minor": 2
}
