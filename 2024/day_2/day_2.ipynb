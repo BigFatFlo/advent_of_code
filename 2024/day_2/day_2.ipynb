{
 "cells": [
  {
   "cell_type": "code",
   "execution_count": null,
   "metadata": {},
   "outputs": [],
   "source": [
    "def get_reports(input_file_name: str) -> list[list[int]]:\n",
    "    reports = []\n",
    "\n",
    "    with open(input_file_name, 'r') as f:\n",
    "        for line in f:\n",
    "            report = [int(x) for x in line.strip().replace(\"\\n\", \"\").split(\" \")]\n",
    "            reports.append(report)\n",
    "\n",
    "    return reports"
   ]
  },
  {
   "cell_type": "code",
   "execution_count": null,
   "metadata": {},
   "outputs": [],
   "source": [
    "reports = get_reports(\"example.txt\")\n",
    "print(reports)"
   ]
  },
  {
   "cell_type": "code",
   "execution_count": null,
   "metadata": {},
   "outputs": [],
   "source": [
    "def is_report_safe(report: list[int]) -> bool:\n",
    "    if report[1] == report[0]:\n",
    "        return False\n",
    "    rate = 1 if report[1] > report[0] else -1\n",
    "    for i in range(len(report) - 1):\n",
    "        growth = report[i+1] - report[i]\n",
    "        if (growth) * rate <= 0:\n",
    "            return False\n",
    "        if abs(growth) < 1 or abs(growth) > 3:\n",
    "            return False\n",
    "    return True"
   ]
  },
  {
   "cell_type": "code",
   "execution_count": null,
   "metadata": {},
   "outputs": [],
   "source": [
    "def part_1(input_file_name: str) -> None:\n",
    "    reports = get_reports(input_file_name)\n",
    "    safe_reports = 0\n",
    "    for report in reports:\n",
    "        if is_report_safe(report):\n",
    "            safe_reports += 1\n",
    "    print(safe_reports)"
   ]
  },
  {
   "cell_type": "code",
   "execution_count": null,
   "metadata": {},
   "outputs": [],
   "source": [
    "part_1(\"example.txt\")"
   ]
  },
  {
   "cell_type": "code",
   "execution_count": null,
   "metadata": {},
   "outputs": [],
   "source": [
    "part_1(\"input.txt\")"
   ]
  },
  {
   "cell_type": "code",
   "execution_count": null,
   "metadata": {},
   "outputs": [],
   "source": [
    "def remove_one_level(report: list[int]) -> list[list[int]]:\n",
    "    alternative_reports = []\n",
    "    for i in range(len(report)):\n",
    "        new_report = []\n",
    "        for j in range(len(report)):\n",
    "            if j != i:\n",
    "                new_report.append(report[j])\n",
    "        alternative_reports.append(new_report)\n",
    "    return alternative_reports"
   ]
  },
  {
   "cell_type": "code",
   "execution_count": null,
   "metadata": {},
   "outputs": [],
   "source": [
    "print(remove_one_level(reports[0]))"
   ]
  },
  {
   "cell_type": "code",
   "execution_count": null,
   "metadata": {},
   "outputs": [],
   "source": [
    "def can_report_be_safe(report: list[int]) -> bool:\n",
    "    if is_report_safe(report):\n",
    "        return True\n",
    "    else:\n",
    "        for alternative_report in remove_one_level(report):\n",
    "            if is_report_safe(alternative_report):\n",
    "                return True\n",
    "    return False"
   ]
  },
  {
   "cell_type": "code",
   "execution_count": null,
   "metadata": {},
   "outputs": [],
   "source": [
    "def part_2(input_file_name: str) -> None:\n",
    "    reports = get_reports(input_file_name)\n",
    "    safe_reports = 0\n",
    "    for report in reports:\n",
    "        if can_report_be_safe(report):\n",
    "            safe_reports += 1\n",
    "    print(safe_reports)"
   ]
  },
  {
   "cell_type": "code",
   "execution_count": null,
   "metadata": {},
   "outputs": [],
   "source": [
    "part_2(\"example.txt\")"
   ]
  },
  {
   "cell_type": "code",
   "execution_count": null,
   "metadata": {},
   "outputs": [],
   "source": [
    "part_2(\"input.txt\")"
   ]
  }
 ],
 "metadata": {
  "language_info": {
   "name": "python"
  }
 },
 "nbformat": 4,
 "nbformat_minor": 2
}
