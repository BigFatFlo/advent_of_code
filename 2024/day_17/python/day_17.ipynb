{
 "cells": [
  {
   "cell_type": "code",
   "execution_count": null,
   "metadata": {},
   "outputs": [],
   "source": [
    "from tabulate import tabulate\n",
    "import numpy as np\n",
    "import math as m\n",
    "\n",
    "EXAMPLE_1 = \"../example_1.txt\"\n",
    "EXAMPLE_2 = \"../example_2.txt\"\n",
    "INPUT = \"../input.txt\""
   ]
  },
  {
   "cell_type": "code",
   "execution_count": null,
   "metadata": {},
   "outputs": [],
   "source": [
    "def parse_input(input_file_name):\n",
    "    registers = {}\n",
    "    program = []\n",
    "    reading_program = True\n",
    "    with open(input_file_name, \"r\") as f:\n",
    "        for line in f:\n",
    "            if line == \"\\n\":\n",
    "                reading_program = False\n",
    "                continue\n",
    "            if reading_program:\n",
    "                register, value = line.strip().replace(\"\\n\", \"\").split(\":\")\n",
    "                register = register.strip().split(\" \")[1]\n",
    "                value = int(value.strip())\n",
    "                registers[register] = value\n",
    "            else:\n",
    "                _, program = line.strip().replace(\"\\n\", \"\").split(\":\")\n",
    "                program = [int(c) for c in program.strip().split(\",\")]\n",
    "    return registers, program"
   ]
  },
  {
   "cell_type": "code",
   "execution_count": null,
   "metadata": {},
   "outputs": [],
   "source": [
    "registers, program = parse_input(EXAMPLE_1)\n",
    "print(registers)\n",
    "print(program)"
   ]
  },
  {
   "cell_type": "code",
   "execution_count": null,
   "metadata": {},
   "outputs": [],
   "source": [
    "class Computer:\n",
    "    A: int\n",
    "    B: int\n",
    "    C: int\n",
    "    ic: int\n",
    "    program: list[int]\n",
    "    outputs: list[int]\n",
    "\n",
    "    def __init__(self, input_file_name):\n",
    "        registers, self.program = parse_input(input_file_name)\n",
    "        for s, v in registers.items():\n",
    "            if s == \"A\":\n",
    "                self.A = v\n",
    "            if s == \"B\":\n",
    "                self.B = v\n",
    "            if s == \"C\":\n",
    "                self.C = v\n",
    "        self.ic = 0\n",
    "        self.outputs = []\n",
    "\n",
    "    def opcode(self):\n",
    "        return self.program[self.ic]\n",
    "\n",
    "    def operand(self):\n",
    "        return self.program[self.ic + 1]\n",
    "\n",
    "    def combo(self, op: int):\n",
    "        if op <= 3:\n",
    "            return op\n",
    "        if op == 4:\n",
    "            return self.A\n",
    "        if op == 5:\n",
    "            return self.B\n",
    "        if op == 6:\n",
    "            return self.C\n",
    "        if op == 7:\n",
    "            print(\"ERROR, OPERAND 7\")\n",
    "        return -1\n",
    "\n",
    "    def execute(self) -> bool:\n",
    "        if self.ic >= len(self.program):\n",
    "            return True\n",
    "        match self.program[self.ic]:\n",
    "            case 0:\n",
    "                self.adv()\n",
    "                self.ic += 2\n",
    "            case 1:\n",
    "                self.bxl()\n",
    "                self.ic += 2\n",
    "            case 2:\n",
    "                self.bst()\n",
    "                self.ic += 2\n",
    "            case 3:\n",
    "                if not self.jnz():\n",
    "                    self.ic += 2\n",
    "            case 4:\n",
    "                self.bxc()\n",
    "                self.ic += 2\n",
    "            case 5:\n",
    "                self.out()\n",
    "                self.ic += 2\n",
    "            case 6:\n",
    "                self.bdv()\n",
    "                self.ic += 2\n",
    "            case 7:\n",
    "                self.cdv()\n",
    "                self.ic += 2\n",
    "        return False\n",
    "\n",
    "    def adv(self):\n",
    "        numerator = self.A\n",
    "        denominator = 2 ** self.combo(self.operand())\n",
    "        self.A = numerator // denominator\n",
    "\n",
    "    def bxl(self):\n",
    "        self.B = self.B ^ self.operand()\n",
    "\n",
    "    def bst(self):\n",
    "        self.B = self.combo(self.operand()) % 8\n",
    "\n",
    "    def jnz(self) -> bool:\n",
    "        if self.A == 0:\n",
    "            return False\n",
    "        self.ic = self.operand()\n",
    "        return True\n",
    "\n",
    "    def bxc(self):\n",
    "        self.B = self.B ^ self.C\n",
    "\n",
    "    def out(self):\n",
    "        self.outputs.append(self.combo(self.operand()) % 8)\n",
    "\n",
    "    def bdv(self):\n",
    "        numerator = self.A\n",
    "        denominator = 2 ** self.combo(self.operand())\n",
    "        self.B = numerator // denominator\n",
    "\n",
    "    def cdv(self):\n",
    "        numerator = self.A\n",
    "        denominator = 2 ** self.combo(self.operand())\n",
    "        self.C = numerator // denominator\n",
    "\n",
    "    def execute_program(self):\n",
    "        halt = False\n",
    "        while not halt:\n",
    "            halt = self.execute()\n",
    "\n",
    "    def get_output(self):\n",
    "        return \",\".join([str(i) for i in self.outputs])"
   ]
  },
  {
   "cell_type": "code",
   "execution_count": null,
   "metadata": {},
   "outputs": [],
   "source": [
    "computer = Computer(EXAMPLE_1)\n",
    "print(vars(computer))"
   ]
  },
  {
   "cell_type": "code",
   "execution_count": null,
   "metadata": {},
   "outputs": [],
   "source": [
    "computer.C = 9\n",
    "computer.program = [2, 6]\n",
    "computer.execute_program()\n",
    "print(vars(computer))"
   ]
  },
  {
   "cell_type": "code",
   "execution_count": null,
   "metadata": {},
   "outputs": [],
   "source": [
    "def part_1(input_file_name):\n",
    "    computer = Computer(input_file_name)\n",
    "    computer.execute_program()\n",
    "    print(computer.get_output())"
   ]
  },
  {
   "cell_type": "code",
   "execution_count": null,
   "metadata": {},
   "outputs": [],
   "source": [
    "part_1(EXAMPLE_1)"
   ]
  },
  {
   "cell_type": "code",
   "execution_count": null,
   "metadata": {},
   "outputs": [],
   "source": [
    "part_1(INPUT)"
   ]
  },
  {
   "cell_type": "markdown",
   "metadata": {},
   "source": [
    "Let's check what part 2 looks like on the example.\n"
   ]
  },
  {
   "cell_type": "code",
   "execution_count": null,
   "metadata": {},
   "outputs": [],
   "source": [
    "computer = Computer(EXAMPLE_2)\n",
    "computer.A = 117440\n",
    "computer.execute_program()\n",
    "print(vars(computer))"
   ]
  },
  {
   "cell_type": "markdown",
   "metadata": {},
   "source": [
    "The outputs do match the program.\n",
    "\n",
    "Brute forcing it by trying all values for A until the outputs match the program does not work for INPUT, it runs for too long.\n",
    "\n",
    "But let's run it on EXAMPLE_2 for a second to see what the outputs look like.\n"
   ]
  },
  {
   "cell_type": "code",
   "execution_count": null,
   "metadata": {},
   "outputs": [],
   "source": [
    "computer = Computer(EXAMPLE_2)\n",
    "A = 0\n",
    "while not (computer.outputs == computer.program) and A < 1000:\n",
    "    computer = Computer(EXAMPLE_2)\n",
    "    computer.A = A\n",
    "    computer.execute_program()\n",
    "    print(A, computer.outputs)\n",
    "    A += 1"
   ]
  },
  {
   "cell_type": "markdown",
   "metadata": {},
   "source": [
    "We notice a nice grouping of outputs by 8 values.\n",
    "\n",
    "Let's see what it looks like for INPUT.\n"
   ]
  },
  {
   "cell_type": "code",
   "execution_count": null,
   "metadata": {},
   "outputs": [],
   "source": [
    "computer = Computer(INPUT)\n",
    "A = 0\n",
    "while not (computer.outputs == computer.program) and A < 1000:\n",
    "    computer = Computer(INPUT)\n",
    "    computer.A = A\n",
    "    computer.execute_program()\n",
    "    print(A, computer.outputs)\n",
    "    A += 1"
   ]
  },
  {
   "cell_type": "markdown",
   "metadata": {},
   "source": [
    "The pattern is harder to see here but if we look closely we can notice that the sequence of values for first 8 singletons values, excluding the first, $(5,7,6,1,0,3,2)$ appears in the next outputs as the last digits.\n",
    "\n",
    "The next 8 outputs are of the form $[x_{5,k}, 5]_{k\\in[0;7]}$, then $[x_{7,k}, 7]_{k\\in[0;7]}$, then $[x_{6,k}, 6]_{k\\in[0;7]}$, and so on until $[x_{2,k}, 2]_{k\\in[0;7]}$\n",
    "\n",
    "But then we can see that for the outputs with 3 numbers, we get something similar:\n",
    "\n",
    "first 8 outputs of the form $[(y_{x_{5,0}})_k, x_{5,0}, 5]_{k\\in[0;7]}$, then 8 of the form $[(y_{x_{5,1}})_k, x_{5,1}, 5]_{k\\in[0;7]}$ until $[(y_{x_{5,7}})_k, x_{5,7}, 5]_{k\\in[0;7]}$\n",
    "\n",
    "then we move on to the ones ending in 7: 8 outputs of the form $[(y_{x_{7,0}})_k, x_{7,0}, 7]_{k\\in[0;7]}$, then 8 of the form $[(y_{x_{7,1}})_k, x_{7,1}, 7]_{k\\in[0;7]}$ until $[(y_{x_{7,7}})_k, x_{7,7}, 7]_{k\\in[0;7]}$\n",
    "\n",
    "It looks like a more complex version of an adder.\n",
    "\n",
    "To get a clearer picture, let's look at the $x_{n,k}$ and $(y_{x_{n,m}})_k$ sequences. To do that, we'll keep track of the numbers at the first position of the outputs, 8 by 8.\n"
   ]
  },
  {
   "cell_type": "code",
   "execution_count": null,
   "metadata": {},
   "outputs": [],
   "source": [
    "def get_sequences(input_file_name, max):\n",
    "    computer = Computer(input_file_name)\n",
    "    A = 0\n",
    "    sequences = []\n",
    "    sequence = []\n",
    "    outputs = []\n",
    "    while not (computer.outputs == computer.program) and A < max:\n",
    "        computer = Computer(input_file_name)\n",
    "        computer.A = A\n",
    "        computer.execute_program()\n",
    "        sequence.append(computer.outputs[0])\n",
    "        outputs.append(computer.outputs)\n",
    "        if A % 8 == 7:\n",
    "            sequences.append(sequence)\n",
    "            print(A, outputs)\n",
    "            print(tabulate(sequences))\n",
    "            sequence = []\n",
    "            outputs = []\n",
    "        A += 1\n",
    "    return sequences"
   ]
  },
  {
   "cell_type": "code",
   "execution_count": null,
   "metadata": {},
   "outputs": [],
   "source": [
    "get_sequences(INPUT, 128)"
   ]
  },
  {
   "cell_type": "markdown",
   "metadata": {},
   "source": [
    "Now we can see that we get a nice matrix containing all the numbers from the outputs, with a way to construct the outputs from the matrix.\n",
    "\n",
    "But that's only useful if the matrix has interesting properties that would allow us to build it for very high values of A without running the program.\n",
    "\n",
    "Let's see what it looks like on the example.\n"
   ]
  },
  {
   "cell_type": "code",
   "execution_count": null,
   "metadata": {},
   "outputs": [],
   "source": [
    "get_sequences(EXAMPLE_2, 128)"
   ]
  },
  {
   "cell_type": "markdown",
   "metadata": {},
   "source": [
    "On the example, there seems to be a very nice periodicity to the matrix.\n",
    "\n",
    "Looking back at the matrix for the input, there could be something similar (albeit more complex).\n",
    "\n",
    "Let's build the matrix for more values and see if it's indeed the case.\n"
   ]
  },
  {
   "cell_type": "code",
   "execution_count": null,
   "metadata": {},
   "outputs": [],
   "source": [
    "def get_sequences(input_file_name, max):\n",
    "    computer = Computer(input_file_name)\n",
    "    A = 0\n",
    "    sequences = []\n",
    "    sequence = []\n",
    "    outputs = []\n",
    "    while not (computer.outputs == computer.program) and A < max:\n",
    "        computer = Computer(input_file_name)\n",
    "        computer.A = A\n",
    "        computer.execute_program()\n",
    "        sequence.append(computer.outputs[0])\n",
    "        outputs.append(computer.outputs)\n",
    "        if A % 8 == 7:\n",
    "            sequences.append(sequence)\n",
    "            sequence = []\n",
    "            outputs = []\n",
    "        A += 1\n",
    "    return sequences"
   ]
  },
  {
   "cell_type": "code",
   "execution_count": null,
   "metadata": {},
   "outputs": [],
   "source": [
    "sequences = get_sequences(INPUT, 2048)\n",
    "print(tabulate(sequences))"
   ]
  },
  {
   "cell_type": "markdown",
   "metadata": {},
   "source": [
    "It looks like each column has its own pattern! So we should be able to predict any line of the matrix without running the computer up to that point.\n",
    "\n",
    "If we can do that, we should be able to predict the output of the program for any value of A, without needing to run it!\n",
    "\n",
    "That's not the goal of part 2, but it should be useful to get there.\n",
    "\n",
    "First step is to get a long enough sequence for each column in order to be able to extract the period/cycle from each one.\n"
   ]
  },
  {
   "cell_type": "code",
   "execution_count": null,
   "metadata": {},
   "outputs": [],
   "source": [
    "def get_columns(input_file_name):\n",
    "    sequences = np.array(get_sequences(input_file_name, 10000))\n",
    "    columns = []\n",
    "    for j in range(1, 9):\n",
    "        columns.append(list(sequences[:, j - 1 : j][:1000].flatten()))\n",
    "    return columns"
   ]
  },
  {
   "cell_type": "code",
   "execution_count": null,
   "metadata": {},
   "outputs": [],
   "source": [
    "columns = get_columns(INPUT)\n",
    "print(tabulate(columns))"
   ]
  },
  {
   "cell_type": "markdown",
   "metadata": {},
   "source": [
    "Now we have our list of columns. Let's find the cycle in each of them, using a modified version of Floyd's Tortoise and hare algorithm (which is applicable to linked list).\n"
   ]
  },
  {
   "cell_type": "code",
   "execution_count": null,
   "metadata": {},
   "outputs": [],
   "source": [
    "# Floyd's tortoise and hare algo to find cycle\n",
    "\n",
    "\n",
    "# Check if numbers after both animals match\n",
    "def numbers_match(numbers, t, h):\n",
    "    # Contrary to the original algorithm we need to check for a certain range of values after each animal\n",
    "    # Because in the original, each element of the cycle is unique, but not here\n",
    "    # 100 is purely empirical\n",
    "    for i in range(100):\n",
    "        if numbers[t + i] != numbers[h + i]:\n",
    "            return False\n",
    "    return True\n",
    "\n",
    "\n",
    "def get_col_cycles(input_file_name):\n",
    "    columns = get_columns(input_file_name)\n",
    "    col_cycles = []\n",
    "    for j in range(8):\n",
    "        col = columns[j]\n",
    "        # Initialize the animals\n",
    "        t = 1\n",
    "        h = 2\n",
    "\n",
    "        # The hare moves twice as fast as the tortoise\n",
    "        while not numbers_match(col, t, h):\n",
    "            t += 1\n",
    "            h += 2\n",
    "\n",
    "        # Now t contains a multiple of the cycle length\n",
    "        # To be certain we get the actual cycle length, let's use a clever method found on stack overflow:\n",
    "        # https://stackoverflow.com/questions/29481088/how-can-i-tell-if-a-string-repeats-itself-in-python/29482936#29482936\n",
    "        # It works because the cycles start at the beginning of the columns.\n",
    "        col_str = \"\".join(list(map(str, col[:t])))\n",
    "        # We look for the first occurence of col_str inside the big string we get by concatenating col_str to itself\n",
    "        # We exclude the first element, otherwise it would return 0\n",
    "        # Fundamentally, a string contains a cycle if it is equal to a non trivial rotation of itself\n",
    "        # If the string doesn't contain cycle, it will return the length of the string, which in our case means we have already\n",
    "        # found the correct cycle length\n",
    "        cycle_length = (col_str + col_str).find(col_str, 1)\n",
    "        if cycle_length == -1:\n",
    "            print(\"ERROR, cycle not found\")\n",
    "        else:\n",
    "            col_cycles.append(col[:cycle_length])\n",
    "    return col_cycles"
   ]
  },
  {
   "cell_type": "code",
   "execution_count": null,
   "metadata": {},
   "outputs": [],
   "source": [
    "col_cycles = get_col_cycles(INPUT)\n",
    "print(col_cycles)\n",
    "for cycle in col_cycles:\n",
    "    print(len(cycle))"
   ]
  },
  {
   "cell_type": "markdown",
   "metadata": {},
   "source": [
    "Now we can calculate the digits of a specific line of our matrix!\n"
   ]
  },
  {
   "cell_type": "code",
   "execution_count": null,
   "metadata": {},
   "outputs": [],
   "source": [
    "def calculate_digits(col_cycles, line_nb):\n",
    "    digits = []\n",
    "    for i in range(8):\n",
    "        digits.append(col_cycles[i][line_nb % len(col_cycles[i])])\n",
    "    return digits"
   ]
  },
  {
   "cell_type": "markdown",
   "metadata": {},
   "source": [
    "Let's check that they match what we got earlier by running the actual program.\n"
   ]
  },
  {
   "cell_type": "code",
   "execution_count": null,
   "metadata": {},
   "outputs": [],
   "source": [
    "print(calculate_digits(col_cycles, 13))\n",
    "print(sequences[13])\n",
    "print(calculate_digits(col_cycles, 255))\n",
    "print(sequences[255])"
   ]
  },
  {
   "cell_type": "markdown",
   "metadata": {},
   "source": [
    "Now let's predict the output of the program for an arbitrary A value.\n",
    "\n",
    "For each digit of the output, we need to know what line it's from in the matrix and at which position it is in this line.\n",
    "Notice that the first digit is always from the last line in the matrix, the number of which we can get by dividing the number of runs (A) by 8.\n",
    "For each value of the second digit, we go through 8 lines of first digit, so if we divide by 8 again, we get the number of the line for the second digit.\n",
    "The last digit is always from the first line in the matrix. If we keep dividing by 8, we'll get 0 which is the correct line number.\n",
    "\n",
    "The position in the line is then simply the remainder of the division.\n",
    "\n",
    "Another way of looking at it is:\n",
    "the last digit is from line 0, the second digit is from lines 1 to 7, the third one from lines 8 to 63, etc.\n"
   ]
  },
  {
   "cell_type": "code",
   "execution_count": null,
   "metadata": {},
   "outputs": [],
   "source": [
    "def predict_output(col_cycles, A):\n",
    "    q = A\n",
    "    digits = []\n",
    "    while q != 0:\n",
    "        q, r = divmod(q, 8)\n",
    "        line_number = q\n",
    "        line_digits = calculate_digits(col_cycles, line_number)\n",
    "        digit = line_digits[r]\n",
    "        digits.append(digit)\n",
    "    return digits"
   ]
  },
  {
   "cell_type": "markdown",
   "metadata": {},
   "source": [
    "Let's check our predictions\n"
   ]
  },
  {
   "cell_type": "code",
   "execution_count": null,
   "metadata": {},
   "outputs": [],
   "source": [
    "print(predict_output(col_cycles, 119))"
   ]
  },
  {
   "cell_type": "markdown",
   "metadata": {},
   "source": [
    "But we want the inverse of that. Given the output, we want to predict the A value that will generate it.\n",
    "\n",
    "So we need to inverse our algorithm.\n"
   ]
  },
  {
   "cell_type": "code",
   "execution_count": null,
   "metadata": {},
   "outputs": [],
   "source": [
    "# Given a q value and a digit value, find the r values that return a match from col_cycles\n",
    "def find_r(col_cycles, q, d):\n",
    "    solutions = []\n",
    "    for r in range(8):\n",
    "        # This formula is from the calculate_digits function\n",
    "        if col_cycles[r][q % len(col_cycles[r])] == d:\n",
    "            solutions.append(r)\n",
    "    return solutions"
   ]
  },
  {
   "cell_type": "markdown",
   "metadata": {},
   "source": [
    "Starting with the last number (q = 0 in the predict_output function), we find the r values that match and rebuild the q values one at a time.\n",
    "\n",
    "In the end, we get the list of A values that would generate the required output.\n"
   ]
  },
  {
   "cell_type": "code",
   "execution_count": null,
   "metadata": {},
   "outputs": [],
   "source": [
    "def find_possible_A_values(col_cycles, output):\n",
    "    qs = [0]\n",
    "    # Go through all digits of the output\n",
    "    for i in range(1, len(output) + 1):\n",
    "        new_qs = []\n",
    "        # Go through all possible values for the previous q\n",
    "        for q in qs:\n",
    "            # Find the r values that give the correct digit (go from the last digit to the first one)\n",
    "            solutions = find_r(col_cycles, q, output[-i])\n",
    "            for r in solutions:\n",
    "                # Calculate the resulting possible values for q for the next step\n",
    "                new_q = 8 * q + r\n",
    "                new_qs.append(new_q)\n",
    "        qs = new_qs\n",
    "    # Return the possible q values for the last step, which are possible A values\n",
    "    return qs"
   ]
  },
  {
   "cell_type": "code",
   "execution_count": null,
   "metadata": {},
   "outputs": [],
   "source": [
    "def part_2(input_file_name):\n",
    "    col_cycles = get_col_cycles(input_file_name)\n",
    "    computer = Computer(input_file_name)\n",
    "    result = min(find_possible_A_values(col_cycles, computer.program))\n",
    "    print(result)"
   ]
  },
  {
   "cell_type": "code",
   "execution_count": null,
   "metadata": {},
   "outputs": [],
   "source": [
    "part_2(EXAMPLE_2)"
   ]
  },
  {
   "cell_type": "code",
   "execution_count": null,
   "metadata": {},
   "outputs": [],
   "source": [
    "part_2(INPUT)"
   ]
  }
 ],
 "metadata": {
  "language_info": {
   "name": "python"
  }
 },
 "nbformat": 4,
 "nbformat_minor": 2
}
