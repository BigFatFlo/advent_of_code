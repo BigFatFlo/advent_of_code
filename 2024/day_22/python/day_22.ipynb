{
 "cells": [
  {
   "cell_type": "code",
   "execution_count": null,
   "metadata": {},
   "outputs": [],
   "source": [
    "EXAMPLE_1 = \"../example_1.txt\"\n",
    "EXAMPLE_2 = \"../example_2.txt\"\n",
    "INPUT = \"../input.txt\""
   ]
  },
  {
   "cell_type": "code",
   "execution_count": null,
   "metadata": {},
   "outputs": [],
   "source": [
    "def get_numbers(input_file_name):\n",
    "    numbers = []\n",
    "    with open(input_file_name, \"r\") as f:\n",
    "        for line in f:\n",
    "            numbers.append(int(line.strip().replace(\"\\n\", \"\")))\n",
    "    return numbers"
   ]
  },
  {
   "cell_type": "code",
   "execution_count": null,
   "metadata": {},
   "outputs": [],
   "source": [
    "numbers = get_numbers(EXAMPLE_1)\n",
    "print(numbers)"
   ]
  },
  {
   "cell_type": "code",
   "execution_count": null,
   "metadata": {},
   "outputs": [],
   "source": [
    "def mix(value, number):\n",
    "    return value ^ number"
   ]
  },
  {
   "cell_type": "code",
   "execution_count": null,
   "metadata": {},
   "outputs": [],
   "source": [
    "print(mix(15, 42))"
   ]
  },
  {
   "cell_type": "code",
   "execution_count": null,
   "metadata": {},
   "outputs": [],
   "source": [
    "def prune(number):\n",
    "    return number % 16777216"
   ]
  },
  {
   "cell_type": "code",
   "execution_count": null,
   "metadata": {},
   "outputs": [],
   "source": [
    "print(prune(100000000))"
   ]
  },
  {
   "cell_type": "code",
   "execution_count": null,
   "metadata": {},
   "outputs": [],
   "source": [
    "def next_number(number):\n",
    "    number = prune(mix(number * 64, number))\n",
    "    number = prune(mix(number // 32, number))\n",
    "    number = prune(mix(number * 2048, number))\n",
    "    return number"
   ]
  },
  {
   "cell_type": "code",
   "execution_count": null,
   "metadata": {},
   "outputs": [],
   "source": [
    "number = 123\n",
    "for _ in range(10):\n",
    "    number = next_number(number)\n",
    "    print(number)"
   ]
  },
  {
   "cell_type": "code",
   "execution_count": null,
   "metadata": {},
   "outputs": [],
   "source": [
    "def part_1(input_file_name):\n",
    "    numbers = get_numbers(input_file_name)\n",
    "    result = 0\n",
    "    for number in numbers:\n",
    "        for _ in range(2000):\n",
    "            number = next_number(number)\n",
    "        result += number\n",
    "    print(result)"
   ]
  },
  {
   "cell_type": "code",
   "execution_count": null,
   "metadata": {},
   "outputs": [],
   "source": [
    "part_1(EXAMPLE_1)"
   ]
  },
  {
   "cell_type": "code",
   "execution_count": null,
   "metadata": {},
   "outputs": [],
   "source": [
    "part_1(INPUT)"
   ]
  },
  {
   "cell_type": "code",
   "execution_count": null,
   "metadata": {},
   "outputs": [],
   "source": [
    "def get_price(number):\n",
    "    return int(str(number)[-1])"
   ]
  },
  {
   "cell_type": "code",
   "execution_count": null,
   "metadata": {},
   "outputs": [],
   "source": [
    "number = 123\n",
    "for _ in range(10):\n",
    "    print(number, get_price(number))\n",
    "    number = next_number(number)"
   ]
  },
  {
   "cell_type": "code",
   "execution_count": null,
   "metadata": {},
   "outputs": [],
   "source": [
    "class Series:\n",
    "    prices: list[int]\n",
    "    changes: list[int]\n",
    "    sequences: dict[tuple[int, ...], int]\n",
    "\n",
    "    def __init__(self, secret_number):\n",
    "        self.prices = []\n",
    "        self.changes = []\n",
    "        number = secret_number\n",
    "        price = get_price(number)\n",
    "        self.prices.append(price)\n",
    "        for _ in range(2000):\n",
    "            number = next_number(number)\n",
    "            price = get_price(number)\n",
    "            self.prices.append(price)\n",
    "            self.changes.append(self.prices[-1] - self.prices[-2])\n",
    "        # Align prices with changes\n",
    "        self.prices = self.prices[1:]\n",
    "\n",
    "    def find_sequences(self):\n",
    "        self.sequences = {}\n",
    "        for i in range(3, len(self.prices)):\n",
    "            sequence = tuple(self.changes[i - 3 : i + 1])\n",
    "            if sequence not in self.sequences:\n",
    "                self.sequences[sequence] = self.prices[i]"
   ]
  },
  {
   "cell_type": "code",
   "execution_count": null,
   "metadata": {},
   "outputs": [],
   "source": [
    "series = Series(123)\n",
    "for i in range(10):\n",
    "    print(series.prices[i], series.changes[i])"
   ]
  },
  {
   "cell_type": "code",
   "execution_count": null,
   "metadata": {},
   "outputs": [],
   "source": [
    "series.find_sequences()\n",
    "print(series.sequences)"
   ]
  },
  {
   "cell_type": "code",
   "execution_count": null,
   "metadata": {},
   "outputs": [],
   "source": [
    "def find_best_banana_total(numbers):\n",
    "    sequences_dict: dict[tuple[int, ...], int] = {}\n",
    "    for number in numbers:\n",
    "        series = Series(number)\n",
    "        series.find_sequences()\n",
    "        for sequence, bananas in series.sequences.items():\n",
    "            if sequence in sequences_dict:\n",
    "                sequences_dict[sequence] += bananas\n",
    "            else:\n",
    "                sequences_dict[sequence] = bananas\n",
    "    return max(sequences_dict.values())"
   ]
  },
  {
   "cell_type": "code",
   "execution_count": null,
   "metadata": {},
   "outputs": [],
   "source": [
    "def part_2(input_file_name):\n",
    "    numbers = get_numbers(input_file_name)\n",
    "    result = find_best_banana_total(numbers)\n",
    "    print(result)"
   ]
  },
  {
   "cell_type": "code",
   "execution_count": null,
   "metadata": {},
   "outputs": [],
   "source": [
    "part_2(EXAMPLE_2)"
   ]
  },
  {
   "cell_type": "code",
   "execution_count": null,
   "metadata": {},
   "outputs": [],
   "source": [
    "part_2(INPUT)"
   ]
  }
 ],
 "metadata": {
  "language_info": {
   "name": "python"
  }
 },
 "nbformat": 4,
 "nbformat_minor": 2
}
