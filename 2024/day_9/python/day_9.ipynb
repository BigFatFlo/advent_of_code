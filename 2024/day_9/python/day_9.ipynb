{
 "cells": [
  {
   "cell_type": "code",
   "execution_count": null,
   "metadata": {},
   "outputs": [],
   "source": [
    "from tabulate import tabulate\n",
    "from itertools import combinations\n",
    "\n",
    "EXAMPLE = \"../example.txt\"\n",
    "INPUT = \"../input.txt\""
   ]
  },
  {
   "cell_type": "code",
   "execution_count": null,
   "metadata": {},
   "outputs": [],
   "source": [
    "def get_disk_map(input_file_name):\n",
    "    map = []\n",
    "    with open(input_file_name, \"r\") as file:\n",
    "        for line in file:\n",
    "            map = [int(c) for c in line.strip().replace(\"\\n\", \"\")]\n",
    "    return map"
   ]
  },
  {
   "cell_type": "code",
   "execution_count": null,
   "metadata": {},
   "outputs": [],
   "source": [
    "disk_map = get_disk_map(EXAMPLE)\n",
    "print(disk_map)"
   ]
  },
  {
   "cell_type": "code",
   "execution_count": null,
   "metadata": {},
   "outputs": [],
   "source": [
    "from pydantic import BaseModel\n",
    "\n",
    "class File(BaseModel):\n",
    "    id: int\n",
    "    start: int\n",
    "    size: int\n",
    "\n",
    "\n",
    "class FreeSpace(BaseModel):\n",
    "    start: int\n",
    "    size: int\n",
    "    \n",
    "class BlockMap:\n",
    "    def __init__(self, files, free_spaces):\n",
    "        self.files: list[File] = files\n",
    "        self.free_spaces: list[FreeSpace] = free_spaces\n",
    "\n",
    "    @classmethod\n",
    "    def build(cls, disk_map):\n",
    "        files = []\n",
    "        free_spaces = []\n",
    "        current_file_id = 0\n",
    "        current_position = 0\n",
    "        for i, d in enumerate(disk_map):\n",
    "            if i % 2 == 0:\n",
    "                file_id = current_file_id\n",
    "                current_file_id += 1\n",
    "                if d > 0:\n",
    "                    file = File(id=file_id, start=current_position, size=d)\n",
    "                    files.append(file)\n",
    "            else:\n",
    "                if d > 0:\n",
    "                    free_space = FreeSpace(start=current_position, size=d)\n",
    "                    free_spaces = [free_space] + free_spaces\n",
    "            current_position += d\n",
    "        return cls(files, free_spaces)"
   ]
  },
  {
   "cell_type": "code",
   "execution_count": null,
   "metadata": {},
   "outputs": [],
   "source": [
    "block_map = BlockMap.build(disk_map)\n",
    "print(block_map.files, block_map.free_spaces)"
   ]
  },
  {
   "cell_type": "code",
   "execution_count": null,
   "metadata": {},
   "outputs": [],
   "source": [
    "def fill_first_free_space(block_map: BlockMap):\n",
    "    last_file = block_map.files.pop()\n",
    "    first_free_space = block_map.free_spaces.pop()\n",
    "    if first_free_space.size > last_file.size:\n",
    "        last_file.start = first_free_space.start\n",
    "        first_free_space.size -= last_file.size\n",
    "        first_free_space.start += last_file.size\n",
    "        block_map.free_spaces.append(first_free_space)\n",
    "        block_map.files = [last_file] + block_map.files\n",
    "    elif first_free_space.size == last_file.size:\n",
    "        last_file.start = first_free_space.start\n",
    "        block_map.files = [last_file] + block_map.files\n",
    "    elif first_free_space.size < last_file.size:\n",
    "        new_file = File(\n",
    "            id=last_file.id, start=first_free_space.start, size=first_free_space.size\n",
    "        )\n",
    "        last_file.size -= first_free_space.size\n",
    "        block_map.files = [new_file] + block_map.files + [last_file]"
   ]
  },
  {
   "cell_type": "code",
   "execution_count": null,
   "metadata": {},
   "outputs": [],
   "source": [
    "fill_first_free_space(block_map)\n",
    "print(block_map.files, block_map.free_spaces)"
   ]
  },
  {
   "cell_type": "code",
   "execution_count": null,
   "metadata": {},
   "outputs": [],
   "source": [
    "def fill_free_spaces(block_map: BlockMap):\n",
    "    while block_map.free_spaces and block_map.free_spaces[-1].start < block_map.files[-1].start:\n",
    "        fill_first_free_space(block_map)\n"
   ]
  },
  {
   "cell_type": "code",
   "execution_count": null,
   "metadata": {},
   "outputs": [],
   "source": [
    "fill_free_spaces(block_map)"
   ]
  },
  {
   "cell_type": "code",
   "execution_count": null,
   "metadata": {},
   "outputs": [],
   "source": [
    "def calculate_checksum(block_map: BlockMap):\n",
    "    checksum = 0\n",
    "    for file in block_map.files:\n",
    "        for i in range(file.start, file.start + file.size):\n",
    "            checksum += i*file.id\n",
    "    return checksum"
   ]
  },
  {
   "cell_type": "code",
   "execution_count": null,
   "metadata": {},
   "outputs": [],
   "source": [
    "def part_1(input_file_name):\n",
    "    disk_map = get_disk_map(input_file_name)\n",
    "    block_map = BlockMap.build(disk_map)\n",
    "    fill_free_spaces(block_map)\n",
    "    print(calculate_checksum(block_map))"
   ]
  },
  {
   "cell_type": "code",
   "execution_count": null,
   "metadata": {},
   "outputs": [],
   "source": [
    "part_1(EXAMPLE)"
   ]
  },
  {
   "cell_type": "code",
   "execution_count": null,
   "metadata": {},
   "outputs": [],
   "source": [
    "part_1(INPUT)"
   ]
  },
  {
   "cell_type": "code",
   "execution_count": null,
   "metadata": {},
   "outputs": [],
   "source": []
  }
 ],
 "metadata": {
  "language_info": {
   "name": "python"
  }
 },
 "nbformat": 4,
 "nbformat_minor": 2
}
