{
 "cells": [
  {
   "cell_type": "code",
   "execution_count": null,
   "metadata": {},
   "outputs": [],
   "source": [
    "from tabulate import tabulate\n",
    "\n",
    "EXAMPLE = \"../example.txt\"\n",
    "INPUT = \"../input.txt\""
   ]
  },
  {
   "cell_type": "code",
   "execution_count": null,
   "metadata": {},
   "outputs": [],
   "source": [
    "class Matrix:\n",
    "    def __init__(self, contents: list[list[str]]):\n",
    "        self.contents = contents\n",
    "        self.height = len(self.contents)\n",
    "        self.width = len(self.contents[0])\n",
    "        self.letter_positions = {'X': set(), 'A': set()}\n",
    "\n",
    "    @classmethod\n",
    "    def build(cls, input_file_name):\n",
    "        matrix = []\n",
    "        with open(input_file_name, 'r') as f:\n",
    "            for line in f:\n",
    "                matrix.append([c for c in line.strip().replace(\"\\n\", \"\")])\n",
    "        return cls(matrix)\n",
    "    \n",
    "    def find_letter(self, letter: str):\n",
    "        if letter not in self.letter_positions:\n",
    "            return\n",
    "        for i in range(self.height):\n",
    "            for j in range(self.width):\n",
    "                if self.contents[i][j] == letter:\n",
    "                    self.letter_positions[letter].add((i, j))\n",
    "\n",
    "    def check_for_xmas(self, start_i, start_j) -> int:\n",
    "        if self.contents[start_i][start_j] != 'X':\n",
    "            return 0\n",
    "        candidates = []\n",
    "        candidates.append(\"\".join([self.contents[start_i][start_j+k] for k in range(0, 4) if 0 <= start_j+k < self.width]))\n",
    "        candidates.append(\"\".join([self.contents[start_i][start_j-k] for k in range(0, 4) if 0 <= start_j-k < self.width]))\n",
    "        candidates.append(\"\".join([self.contents[start_i+k][start_j] for k in range(0, 4) if 0 <= start_i+k < self.height]))\n",
    "        candidates.append(\"\".join([self.contents[start_i-k][start_j] for k in range(0, 4) if 0 <= start_i-k < self.height]))\n",
    "        candidates.append(\"\".join([self.contents[start_i+k][start_j+k] for k in range(0, 4) if 0 <= start_i+k < self.height and 0 <= start_j+k < self.width]))\n",
    "        candidates.append(\"\".join([self.contents[start_i+k][start_j-k] for k in range(0, 4) if 0 <= start_i+k < self.height and 0 <= start_j-k < self.width]))\n",
    "        candidates.append(\"\".join([self.contents[start_i-k][start_j+k] for k in range(0, 4) if 0 <= start_i-k < self.height and 0 <= start_j+k < self.width]))\n",
    "        candidates.append(\"\".join([self.contents[start_i-k][start_j-k] for k in range(0, 4) if 0 <= start_i-k < self.height and 0 <= start_j-k < self.width]))\n",
    "        return candidates.count(\"XMAS\")\n",
    "    \n",
    "    def check_for_mas_x(self, start_i, start_j) -> int:\n",
    "        if self.contents[start_i][start_j] != 'A':\n",
    "            return 0\n",
    "        diag_0 = \"\".join([self.contents[start_i+k][start_j+k] for k in range(-1, 2) if 0 <= start_i+k < self.height and 0 <= start_j+k < self.width])\n",
    "        diag_1 = \"\".join([self.contents[start_i-k][start_j+k] for k in range(-1, 2) if 0 <= start_i-k < self.height and 0 <= start_j+k < self.width])\n",
    "        return 1 if diag_0 in [\"MAS\", \"SAM\"] and diag_1 in [\"MAS\", \"SAM\"] else 0\n",
    "    \n",
    "    def count_xmases(self) -> int:\n",
    "        self.find_letter('X')\n",
    "        result = 0\n",
    "        for i, j in self.letter_positions['X']:\n",
    "            result += self.check_for_xmas(i, j)\n",
    "        return result\n",
    "    \n",
    "    def count_mas_xes(self) -> int:\n",
    "        self.find_letter('A')\n",
    "        result = 0\n",
    "        for i, j in self.letter_positions['A']:\n",
    "            result += self.check_for_mas_x(i, j)\n",
    "        return result\n"
   ]
  },
  {
   "cell_type": "code",
   "execution_count": null,
   "metadata": {},
   "outputs": [],
   "source": [
    "matrix = Matrix.build(EXAMPLE)\n",
    "print(tabulate(matrix.contents))"
   ]
  },
  {
   "cell_type": "code",
   "execution_count": null,
   "metadata": {},
   "outputs": [],
   "source": [
    "matrix.find_letter('X')\n",
    "print(matrix.letter_positions['X'])"
   ]
  },
  {
   "cell_type": "code",
   "execution_count": null,
   "metadata": {},
   "outputs": [],
   "source": [
    "for i, j in matrix.letter_positions['X']:\n",
    "    print(matrix.check_for_xmas(i, j))"
   ]
  },
  {
   "cell_type": "code",
   "execution_count": null,
   "metadata": {},
   "outputs": [],
   "source": [
    "print(matrix.count_xmases())"
   ]
  },
  {
   "cell_type": "code",
   "execution_count": null,
   "metadata": {},
   "outputs": [],
   "source": [
    "def part_1(input_file_name):\n",
    "    matrix = Matrix.build(input_file_name)\n",
    "    print(matrix.count_xmases())"
   ]
  },
  {
   "cell_type": "code",
   "execution_count": null,
   "metadata": {},
   "outputs": [],
   "source": [
    "part_1(EXAMPLE)"
   ]
  },
  {
   "cell_type": "code",
   "execution_count": null,
   "metadata": {},
   "outputs": [],
   "source": [
    "part_1(INPUT)"
   ]
  },
  {
   "cell_type": "code",
   "execution_count": null,
   "metadata": {},
   "outputs": [],
   "source": [
    "def part_2(input_file_name):\n",
    "    matrix = Matrix.build(input_file_name)\n",
    "    print(matrix.count_mas_xes())"
   ]
  },
  {
   "cell_type": "code",
   "execution_count": null,
   "metadata": {},
   "outputs": [],
   "source": [
    "part_2(EXAMPLE)"
   ]
  },
  {
   "cell_type": "code",
   "execution_count": null,
   "metadata": {},
   "outputs": [],
   "source": [
    "part_2(INPUT)"
   ]
  }
 ],
 "metadata": {
  "language_info": {
   "name": "python"
  }
 },
 "nbformat": 4,
 "nbformat_minor": 2
}
