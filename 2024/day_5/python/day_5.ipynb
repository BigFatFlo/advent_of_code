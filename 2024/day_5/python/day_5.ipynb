{
 "cells": [
  {
   "cell_type": "code",
   "execution_count": null,
   "metadata": {},
   "outputs": [],
   "source": [
    "EXAMPLE = \"../example.txt\"\n",
    "INPUT = \"../input.txt\""
   ]
  },
  {
   "cell_type": "code",
   "execution_count": null,
   "metadata": {},
   "outputs": [],
   "source": [
    "def parse_input(input_file_name):\n",
    "    rules = []\n",
    "    updates = []\n",
    "    reading_rules = True\n",
    "    with open(input_file_name, 'r') as f:\n",
    "        for line in f:\n",
    "            line = line.replace(\"\\n\", \"\")\n",
    "            if not line:\n",
    "                reading_rules = False\n",
    "                continue\n",
    "            if reading_rules:\n",
    "                rules.append([int(s) for s in line.split('|')])\n",
    "            else:\n",
    "                updates.append([int(s) for s in line.replace(\"\\n\", \"\").split(',')])\n",
    "    return rules, updates\n"
   ]
  },
  {
   "cell_type": "code",
   "execution_count": null,
   "metadata": {},
   "outputs": [],
   "source": [
    "rules, updates = parse_input(EXAMPLE)"
   ]
  },
  {
   "cell_type": "code",
   "execution_count": null,
   "metadata": {},
   "outputs": [],
   "source": [
    "print(rules, updates)"
   ]
  },
  {
   "cell_type": "code",
   "execution_count": null,
   "metadata": {},
   "outputs": [],
   "source": [
    "def build_pages(rules):\n",
    "    pages = {}\n",
    "    for [x, y] in rules:\n",
    "        if y in pages:\n",
    "            pages[y][\"predecessors\"].add(x)\n",
    "        else:\n",
    "            pages[y] = {\"predecessors\": set([x])}\n",
    "    return pages"
   ]
  },
  {
   "cell_type": "code",
   "execution_count": null,
   "metadata": {},
   "outputs": [],
   "source": [
    "pages = build_pages(rules)\n",
    "print(pages)"
   ]
  },
  {
   "cell_type": "code",
   "execution_count": null,
   "metadata": {},
   "outputs": [],
   "source": [
    "def check_update(update, pages):\n",
    "    correct = True\n",
    "    for i in range(len(update)):\n",
    "        for j in range(len(update)):\n",
    "            if (\n",
    "                j < i\n",
    "                and update[j] in pages and update[i] in pages[update[j]][\"predecessors\"]\n",
    "                or j > i\n",
    "                and update[i] in pages and update[j] in pages[update[i]][\"predecessors\"]\n",
    "            ):\n",
    "                correct = False\n",
    "                break\n",
    "            if not correct:\n",
    "                break\n",
    "    return correct"
   ]
  },
  {
   "cell_type": "code",
   "execution_count": null,
   "metadata": {},
   "outputs": [],
   "source": [
    "for update in updates:\n",
    "    print(check_update(update, pages))"
   ]
  },
  {
   "cell_type": "code",
   "execution_count": null,
   "metadata": {},
   "outputs": [],
   "source": [
    "def get_middle_page(update):\n",
    "    return update[len(update)//2]"
   ]
  },
  {
   "cell_type": "code",
   "execution_count": null,
   "metadata": {},
   "outputs": [],
   "source": [
    "for update in updates:\n",
    "    if check_update(update, pages):\n",
    "        print(get_middle_page(update))\n"
   ]
  },
  {
   "cell_type": "code",
   "execution_count": null,
   "metadata": {},
   "outputs": [],
   "source": [
    "def part_1(input_file_name):\n",
    "    rules, updates = parse_input(input_file_name)\n",
    "    pages = build_pages(rules)\n",
    "    result = 0\n",
    "    for update in updates:\n",
    "        if check_update(update, pages):\n",
    "            result += get_middle_page(update)\n",
    "    print(result)"
   ]
  },
  {
   "cell_type": "code",
   "execution_count": null,
   "metadata": {},
   "outputs": [],
   "source": [
    "part_1(EXAMPLE)"
   ]
  },
  {
   "cell_type": "code",
   "execution_count": null,
   "metadata": {},
   "outputs": [],
   "source": [
    "part_1(INPUT)"
   ]
  },
  {
   "cell_type": "code",
   "execution_count": null,
   "metadata": {},
   "outputs": [],
   "source": [
    "def reorder_update(incorrect_update, rules, pages):\n",
    "    # Rebuild an update with pages in the correct order\n",
    "    reordered_update = []\n",
    "    for [x, y] in rules:\n",
    "        if x in incorrect_update and y in incorrect_update:\n",
    "            if x not in reordered_update and y not in reordered_update:\n",
    "                reordered_update.extend([x, y])\n",
    "            elif x not in reordered_update and y in reordered_update:\n",
    "                reordered_update.insert(reordered_update.index(y), x)\n",
    "            elif x in reordered_update and y not in reordered_update:\n",
    "                reordered_update.insert(reordered_update.index(x)+1, y)\n",
    "            elif x in reordered_update and y in reordered_update:\n",
    "                if reordered_update.index(x) < reordered_update.index(y):\n",
    "                    continue\n",
    "                # The only complicated case: both pages are already in\n",
    "                # the list but in the wrong order. So we need to swap them.\n",
    "                # But we need to be sure to move the pages between them \n",
    "                # that need to be moved to stay in order.\n",
    "                pages_to_move = []\n",
    "                i = reordered_update.index(y)+1\n",
    "                end = reordered_update.index(x)\n",
    "                # Remove the page with the highest index\n",
    "                reordered_update.pop(reordered_update.index(x))\n",
    "                while i < end:\n",
    "                    # If the current page needs to be before the page we're moving,\n",
    "                    # we need to move the current page as well\n",
    "                    if x in pages and reordered_update[i] in pages[x][\"predecessors\"]:\n",
    "                        pages_to_move.append(reordered_update.pop(i))\n",
    "                        end -= 1\n",
    "                    else:\n",
    "                        i+=1\n",
    "                pages_to_move.append(x)\n",
    "                # Now we just insert the pages that needed to move back into the list, at the right index.\n",
    "                reordered_update = reordered_update[:reordered_update.index(y)] + pages_to_move + reordered_update[reordered_update.index(y):]\n",
    "    return reordered_update"
   ]
  },
  {
   "cell_type": "code",
   "execution_count": null,
   "metadata": {},
   "outputs": [],
   "source": [
    "for update in updates:\n",
    "    if not check_update(update, pages):\n",
    "        print(reorder_update(update, rules, pages))"
   ]
  },
  {
   "cell_type": "code",
   "execution_count": null,
   "metadata": {},
   "outputs": [],
   "source": [
    "def part_2(input_file_name):\n",
    "    rules, updates = parse_input(input_file_name)\n",
    "    pages = build_pages(rules)\n",
    "    result = 0\n",
    "    for update in updates:\n",
    "        if not check_update(update, pages):\n",
    "            result += get_middle_page(reorder_update(update, rules, pages))\n",
    "    print(result)"
   ]
  },
  {
   "cell_type": "code",
   "execution_count": null,
   "metadata": {},
   "outputs": [],
   "source": [
    "part_2(EXAMPLE)"
   ]
  },
  {
   "cell_type": "code",
   "execution_count": null,
   "metadata": {},
   "outputs": [],
   "source": [
    "part_2(INPUT)"
   ]
  }
 ],
 "metadata": {
  "language_info": {
   "name": "python"
  }
 },
 "nbformat": 4,
 "nbformat_minor": 2
}
