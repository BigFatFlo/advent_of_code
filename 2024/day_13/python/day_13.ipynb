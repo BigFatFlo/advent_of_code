{
 "cells": [
  {
   "cell_type": "code",
   "execution_count": null,
   "metadata": {},
   "outputs": [],
   "source": [
    "from tabulate import tabulate\n",
    "from pydantic import BaseModel\n",
    "import math as m\n",
    "\n",
    "EXAMPLE = \"../example.txt\"\n",
    "INPUT = \"../input.txt\""
   ]
  },
  {
   "cell_type": "code",
   "execution_count": null,
   "metadata": {},
   "outputs": [],
   "source": [
    "class Machine(BaseModel):\n",
    "    A: dict[str, int] = {\"x\": 0, \"y\": 0}\n",
    "    B: dict[str, int] = {\"x\": 0, \"y\": 0}\n",
    "    prize: dict[str, int] = {\"x\": 0, \"y\": 0}\n",
    "    winnable: bool = True"
   ]
  },
  {
   "cell_type": "code",
   "execution_count": null,
   "metadata": {},
   "outputs": [],
   "source": [
    "def get_machines(input_file_name):\n",
    "    machines = []\n",
    "    with open(input_file_name, 'r') as f:\n",
    "        machine_index = 0\n",
    "        for line in f:\n",
    "            if line == \"\\n\":\n",
    "                continue\n",
    "            prefix, coords = line.replace(\"\\n\", \"\").split(':')\n",
    "            if prefix == \"Prize\":\n",
    "                x, y = coords.split(\",\")\n",
    "                x, y = x.strip().split('=')[1], y.strip().split('=')[1]\n",
    "                coords = {\"x\":int(x), \"y\":int(y)}\n",
    "                machines[machine_index].prize = coords\n",
    "                machine_index+=1\n",
    "            else:\n",
    "                button = prefix.split(\" \")[1]\n",
    "                x, y = coords.split(\",\")\n",
    "                x, y = x.strip().split('+')[1], y.strip().split('+')[1]\n",
    "                coords = {\"x\":int(x), \"y\":int(y)}\n",
    "                if button == 'A':\n",
    "                    new_machine = Machine(A=coords)\n",
    "                    machines.append(new_machine)\n",
    "                else:\n",
    "                    machines[machine_index].B = coords\n",
    "    return machines"
   ]
  },
  {
   "cell_type": "code",
   "execution_count": null,
   "metadata": {},
   "outputs": [],
   "source": [
    "machines = get_machines(EXAMPLE)\n",
    "print(tabulate(machines))"
   ]
  },
  {
   "cell_type": "code",
   "execution_count": null,
   "metadata": {},
   "outputs": [],
   "source": [
    "def reduce(machine: Machine):\n",
    "    # Check if the didiophantine equations have solutions\n",
    "    for c in [\"x\", \"y\"]:\n",
    "        cA = machine.A[c]\n",
    "        cB = machine.B[c]\n",
    "        cP = machine.prize[c]\n",
    "        gcd = m.gcd(cA, cB)\n",
    "        if cP % gcd != 0:\n",
    "            machine.winnable = False\n",
    "            return\n",
    "        # Divide to get coprime coordinates \n",
    "        machine.A[c], machine.B[c], machine.prize[c] = cA//gcd, cB//gcd, cP//gcd"
   ]
  },
  {
   "cell_type": "code",
   "execution_count": null,
   "metadata": {},
   "outputs": [],
   "source": [
    "machine = machines[0]    \n",
    "reduce(machine)\n",
    "print(machine)"
   ]
  },
  {
   "cell_type": "code",
   "execution_count": null,
   "metadata": {},
   "outputs": [],
   "source": [
    "def solve_bezout(a, b):\n",
    "    # Find Bézout coefficients for two coprime numbers, using Euclid's algorithm\n",
    "    if m.gcd(a, b) != 1:\n",
    "        raise(ValueError)\n",
    "    r, u, v, r1, u1, v1 = a, 1, 0, b, 0, 1\n",
    "    while r1 != 0:\n",
    "        q = r//r1\n",
    "        r, u, v, r1, u1, v1 = r1, u1, v1, r - q *r1, u - q*u1, v - q*v1\n",
    "    if r != 1:\n",
    "        raise(ValueError)\n",
    "    return (u, v)"
   ]
  },
  {
   "cell_type": "code",
   "execution_count": null,
   "metadata": {},
   "outputs": [],
   "source": [
    "print(solve_bezout(120, 23))"
   ]
  },
  {
   "cell_type": "code",
   "execution_count": null,
   "metadata": {},
   "outputs": [],
   "source": [
    "def find_bezout_solutions(machine: Machine):\n",
    "    # Find solutions for both diophantine equations\n",
    "    bezout_solutions = {}\n",
    "    for c in [\"x\", \"y\"]:\n",
    "        cA = machine.A[c]\n",
    "        cB = machine.B[c]\n",
    "        cP = machine.prize[c]\n",
    "        u, v = solve_bezout(cA, cB)\n",
    "        bezout_solutions[c] = (cP*u, cP*v)\n",
    "    return bezout_solutions"
   ]
  },
  {
   "cell_type": "code",
   "execution_count": null,
   "metadata": {},
   "outputs": [],
   "source": [
    "bezout_solutions = find_bezout_solutions(machine)\n",
    "print(bezout_solutions)"
   ]
  },
  {
   "cell_type": "code",
   "execution_count": null,
   "metadata": {},
   "outputs": [],
   "source": [
    "def add_offset(machines: list[Machine]):\n",
    "    for machine in machines:\n",
    "        machine.prize[\"x\"] += 10000000000000\n",
    "        machine.prize[\"y\"] += 10000000000000"
   ]
  },
  {
   "cell_type": "code",
   "execution_count": null,
   "metadata": {},
   "outputs": [],
   "source": [
    "def find_unique_solution(bezout_solutions, machine):\n",
    "    # Calculate unique coefficients that satisfy both diophantine equations\n",
    "    ux, vx, ax, bx = bezout_solutions[\"x\"][0], bezout_solutions[\"x\"][1], machine.A[\"x\"], machine.B[\"x\"]\n",
    "    uy, vy, ay, by = bezout_solutions[\"y\"][0], bezout_solutions[\"y\"][1], machine.A[\"y\"], machine.B[\"y\"]\n",
    "    # If there is an integer that verifies the following, there's a solution\n",
    "    ky: float = (ax*(ux-uy) + bx*(vx-vy))/(ax*by-bx*ay)\n",
    "    if ky.is_integer():\n",
    "        u = uy + by * ky\n",
    "        v = vy - ay * ky\n",
    "        return (int(u), int(v))\n",
    "    else:\n",
    "        return None"
   ]
  },
  {
   "cell_type": "code",
   "execution_count": null,
   "metadata": {},
   "outputs": [],
   "source": [
    "def find_solution(machine: Machine):\n",
    "    reduce(machine)\n",
    "    if not machine.winnable:\n",
    "        return None\n",
    "    bezout_solutions = find_bezout_solutions(machine)\n",
    "    solution = find_unique_solution(bezout_solutions, machine)\n",
    "    return solution"
   ]
  },
  {
   "cell_type": "code",
   "execution_count": null,
   "metadata": {},
   "outputs": [],
   "source": [
    "def count_tokens(solution):\n",
    "    return solution[0] * 3 + solution[1]"
   ]
  },
  {
   "cell_type": "code",
   "execution_count": null,
   "metadata": {},
   "outputs": [],
   "source": [
    "def get_total_count(input_file_name, offset = False):\n",
    "    machines = get_machines(input_file_name)\n",
    "    if offset:\n",
    "        add_offset(machines)\n",
    "    result = 0\n",
    "    for machine in machines:\n",
    "        solution = find_solution(machine)\n",
    "        if solution:\n",
    "            result += count_tokens(solution)\n",
    "    return result"
   ]
  },
  {
   "cell_type": "code",
   "execution_count": null,
   "metadata": {},
   "outputs": [],
   "source": [
    "def part_1(input_file_name):\n",
    "    print(get_total_count(input_file_name))"
   ]
  },
  {
   "cell_type": "code",
   "execution_count": null,
   "metadata": {},
   "outputs": [],
   "source": [
    "part_1(EXAMPLE)"
   ]
  },
  {
   "cell_type": "code",
   "execution_count": null,
   "metadata": {},
   "outputs": [],
   "source": [
    "part_1(INPUT)"
   ]
  },
  {
   "cell_type": "code",
   "execution_count": null,
   "metadata": {},
   "outputs": [],
   "source": [
    "def part_2(input_file_name):\n",
    "    print(get_total_count(input_file_name, offset=True))"
   ]
  },
  {
   "cell_type": "code",
   "execution_count": null,
   "metadata": {},
   "outputs": [],
   "source": [
    "part_2(EXAMPLE)"
   ]
  },
  {
   "cell_type": "code",
   "execution_count": null,
   "metadata": {},
   "outputs": [],
   "source": [
    "part_2(INPUT)"
   ]
  },
  {
   "cell_type": "markdown",
   "metadata": {},
   "source": [
    "Let's rewrite it without even using diophantine equations"
   ]
  },
  {
   "cell_type": "code",
   "execution_count": null,
   "metadata": {},
   "outputs": [],
   "source": [
    "def find_solution(machine: Machine):\n",
    "    ax, bx, px = machine.A[\"x\"], machine.B[\"x\"], machine.prize[\"x\"]\n",
    "    ay, by, py = machine.A[\"y\"], machine.B[\"y\"], machine.prize[\"y\"]\n",
    "    kb: float = (ay*px - ax*py)/(ay*bx-ax*by)\n",
    "    ka: float = (px - bx*kb)/ax\n",
    "    if ka.is_integer() and kb.is_integer():\n",
    "        return (int(ka), int(kb))\n",
    "    return None"
   ]
  },
  {
   "cell_type": "code",
   "execution_count": null,
   "metadata": {},
   "outputs": [],
   "source": [
    "def get_total_count(input_file_name, offset = False):\n",
    "    machines = get_machines(input_file_name)\n",
    "    if offset:\n",
    "        add_offset(machines)\n",
    "    result = 0\n",
    "    for machine in machines:\n",
    "        solution = find_solution(machine)\n",
    "        if solution:\n",
    "            result += count_tokens(solution)\n",
    "    return result"
   ]
  },
  {
   "cell_type": "code",
   "execution_count": null,
   "metadata": {},
   "outputs": [],
   "source": [
    "def part_1(input_file_name):\n",
    "    print(get_total_count(input_file_name))\n",
    "\n",
    "part_1(EXAMPLE)\n",
    "part_1(INPUT)\n",
    "\n",
    "def part_2(input_file_name):\n",
    "    print(get_total_count(input_file_name, offset=True))\n",
    "part_2(EXAMPLE)\n",
    "part_2(INPUT)"
   ]
  }
 ],
 "metadata": {
  "language_info": {
   "name": "python"
  }
 },
 "nbformat": 4,
 "nbformat_minor": 2
}
