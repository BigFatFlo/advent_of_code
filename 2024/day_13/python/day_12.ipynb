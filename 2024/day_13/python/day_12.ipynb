{
 "cells": [
  {
   "cell_type": "code",
   "execution_count": null,
   "metadata": {},
   "outputs": [],
   "source": [
    "from tabulate import tabulate\n",
    "from pydantic import BaseModel\n",
    "\n",
    "EXAMPLE = \"../example.txt\"\n",
    "INPUT = \"../input.txt\""
   ]
  },
  {
   "cell_type": "code",
   "execution_count": null,
   "metadata": {},
   "outputs": [],
   "source": [
    "class Machine(BaseModel):\n",
    "    A: dict[str, int] = {\"x\": 0, \"y\": 0}\n",
    "    B: dict[str, int] = {\"x\": 0, \"y\": 0}\n",
    "    prize: dict[str, int] = {\"x\": 0, \"y\": 0}\n",
    "    winnable: bool = True"
   ]
  },
  {
   "cell_type": "code",
   "execution_count": null,
   "metadata": {},
   "outputs": [],
   "source": [
    "def get_machines(input_file_name):\n",
    "    machines = []\n",
    "    with open(input_file_name, 'r') as f:\n",
    "        machine_index = 0\n",
    "        for line in f:\n",
    "            if line == \"\\n\":\n",
    "                continue\n",
    "            prefix, coords = line.replace(\"\\n\", \"\").split(':')\n",
    "            if prefix == \"Prize\":\n",
    "                x, y = coords.split(\",\")\n",
    "                x, y = x.strip().split('=')[1], y.strip().split('=')[1]\n",
    "                coords = {\"x\":int(x), \"y\":int(y)}\n",
    "                machines[machine_index].prize = coords\n",
    "                machine_index+=1\n",
    "            else:\n",
    "                button = prefix.split(\" \")[1]\n",
    "                x, y = coords.split(\",\")\n",
    "                x, y = x.strip().split('+')[1], y.strip().split('+')[1]\n",
    "                coords = {\"x\":int(x), \"y\":int(y)}\n",
    "                if button == 'A':\n",
    "                    new_machine = Machine(A=coords)\n",
    "                    machines.append(new_machine)\n",
    "                else:\n",
    "                    machines[machine_index].B = coords\n",
    "    return machines"
   ]
  },
  {
   "cell_type": "code",
   "execution_count": null,
   "metadata": {},
   "outputs": [],
   "source": [
    "machines = get_machines(EXAMPLE)\n",
    "print(tabulate(machines))"
   ]
  },
  {
   "cell_type": "code",
   "execution_count": null,
   "metadata": {},
   "outputs": [],
   "source": [
    "import math as m\n",
    "\n",
    "def reduce(machine: Machine):\n",
    "    for c in [\"x\", \"y\"]:\n",
    "        cA = machine.A[c]\n",
    "        cB = machine.B[c]\n",
    "        cP = machine.prize[c]\n",
    "        gcd = m.gcd(cA, cB)\n",
    "        if cP % gcd != 0:\n",
    "            machine.winnable = False\n",
    "            return\n",
    "        machine.A[c], machine.B[c], machine.prize[c] = cA//gcd, cB//gcd, cP//gcd"
   ]
  },
  {
   "cell_type": "code",
   "execution_count": null,
   "metadata": {},
   "outputs": [],
   "source": [
    "machine = machines[0]    \n",
    "reduce(machine)\n",
    "print(machine)"
   ]
  },
  {
   "cell_type": "code",
   "execution_count": null,
   "metadata": {},
   "outputs": [],
   "source": [
    "def solve_bezout(a, b):\n",
    "    if m.gcd(a, b) != 1:\n",
    "        raise(ValueError)\n",
    "    r, u, v, r1, u1, v1 = a, 1, 0, b, 0, 1\n",
    "    while r1 != 0:\n",
    "        q = r//r1\n",
    "        r, u, v, r1, u1, v1 = r1, u1, v1, r - q *r1, u - q*u1, v - q*v1\n",
    "    if r != 1:\n",
    "        raise(ValueError)\n",
    "    return (u, v)"
   ]
  },
  {
   "cell_type": "code",
   "execution_count": null,
   "metadata": {},
   "outputs": [],
   "source": [
    "print(solve_bezout(120, 23))"
   ]
  },
  {
   "cell_type": "code",
   "execution_count": null,
   "metadata": {},
   "outputs": [],
   "source": [
    "def find_bezout_solutions(machine: Machine):\n",
    "    bezout_solutions = {}\n",
    "    for c in [\"x\", \"y\"]:\n",
    "        cA = machine.A[c]\n",
    "        cB = machine.B[c]\n",
    "        cP = machine.prize[c]\n",
    "        u, v = solve_bezout(cA, cB)\n",
    "        bezout_solutions[c] = (cP*u, cP*v)\n",
    "    return bezout_solutions"
   ]
  },
  {
   "cell_type": "code",
   "execution_count": null,
   "metadata": {},
   "outputs": [],
   "source": [
    "bezout_solutions = find_bezout_solutions(machine)\n",
    "print(bezout_solutions)"
   ]
  },
  {
   "cell_type": "code",
   "execution_count": null,
   "metadata": {},
   "outputs": [],
   "source": [
    "def find_range(u, v, a, b):\n",
    "    dir = -1 if u >= 0 else 1\n",
    "    k = 0\n",
    "    solutions = set()\n",
    "    while u+k*b < 0:\n",
    "        k += dir\n",
    "    while (dir == -1 and u+k*b >= 0) or (dir == 1 and u+k*b <= 100):\n",
    "        if v-k*a >= 0 and v-k*a <= 100 and u+k*b >= 0 and u+k*b <= 100:\n",
    "            solutions.add((u+k*b, v-k*a))\n",
    "        k += dir\n",
    "    return solutions"
   ]
  },
  {
   "cell_type": "code",
   "execution_count": null,
   "metadata": {},
   "outputs": [],
   "source": [
    "range_x = find_range(bezout_solutions['x'][0], bezout_solutions['x'][1], machine.A['x'], machine.B['x'])\n",
    "range_y = find_range(bezout_solutions['y'][0], bezout_solutions['y'][1], machine.A['y'], machine.B['y'])\n",
    "print(range_x)\n",
    "print(range_y)\n",
    "print(range_x.intersection(range_y))"
   ]
  },
  {
   "cell_type": "code",
   "execution_count": null,
   "metadata": {},
   "outputs": [],
   "source": [
    "def find_strategies(machine: Machine):\n",
    "    reduce(machine)\n",
    "    if not machine.winnable:\n",
    "        return set()\n",
    "    bezout_solutions = find_bezout_solutions(machine)\n",
    "    ranges = {}\n",
    "    for c in [\"x\", \"y\"]:\n",
    "        ranges[c] = find_range(bezout_solutions[c][0], bezout_solutions[c][1], machine.A[c], machine.B[c])\n",
    "    return ranges[\"x\"].intersection(ranges[\"y\"])\n",
    "    "
   ]
  },
  {
   "cell_type": "code",
   "execution_count": null,
   "metadata": {},
   "outputs": [],
   "source": [
    "print(find_strategies(machine))"
   ]
  },
  {
   "cell_type": "code",
   "execution_count": null,
   "metadata": {},
   "outputs": [],
   "source": [
    "def count_tokens(strategy):\n",
    "    return strategy[0] * 3 + strategy[1]"
   ]
  },
  {
   "cell_type": "code",
   "execution_count": null,
   "metadata": {},
   "outputs": [],
   "source": [
    "def find_min(machine: Machine):\n",
    "    strategies = find_strategies(machine)\n",
    "    if not machine.winnable: \n",
    "        return 0\n",
    "    tokens = []\n",
    "    for strategy in strategies:\n",
    "        tokens.append(count_tokens(strategy))\n",
    "    if len(tokens) == 0:\n",
    "        return 0\n",
    "    return min(tokens)"
   ]
  },
  {
   "cell_type": "code",
   "execution_count": null,
   "metadata": {},
   "outputs": [],
   "source": [
    "print(find_min(machine))"
   ]
  },
  {
   "cell_type": "code",
   "execution_count": null,
   "metadata": {},
   "outputs": [],
   "source": [
    "for machine in machines:\n",
    "    print(find_min(machine))"
   ]
  },
  {
   "cell_type": "code",
   "execution_count": null,
   "metadata": {},
   "outputs": [],
   "source": [
    "def part_1(input_file_name):\n",
    "    machines = get_machines(input_file_name)\n",
    "    result = 0\n",
    "    for machine in machines:\n",
    "        result += find_min(machine)\n",
    "    print(result)"
   ]
  },
  {
   "cell_type": "code",
   "execution_count": null,
   "metadata": {},
   "outputs": [],
   "source": [
    "part_1(EXAMPLE)"
   ]
  },
  {
   "cell_type": "code",
   "execution_count": null,
   "metadata": {},
   "outputs": [],
   "source": [
    "part_1(INPUT)"
   ]
  }
 ],
 "metadata": {
  "language_info": {
   "name": "python"
  }
 },
 "nbformat": 4,
 "nbformat_minor": 2
}
