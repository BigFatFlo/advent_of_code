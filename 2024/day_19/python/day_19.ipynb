{
 "cells": [
  {
   "cell_type": "code",
   "execution_count": null,
   "metadata": {},
   "outputs": [],
   "source": [
    "from functools import cache\n",
    "\n",
    "EXAMPLE = \"../example.txt\"\n",
    "INPUT = \"../input.txt\""
   ]
  },
  {
   "cell_type": "code",
   "execution_count": null,
   "metadata": {},
   "outputs": [],
   "source": [
    "def parse_input(input_file_name):\n",
    "    towels = set()\n",
    "    designs = []\n",
    "    reading_towels = True\n",
    "    with open(input_file_name, 'r') as f:\n",
    "        for line in f:\n",
    "            if line == '\\n':\n",
    "                reading_towels = False\n",
    "                continue\n",
    "            if reading_towels:\n",
    "                for towel in line.strip().replace('\\n', '').split(','):\n",
    "                    towels.add(towel.strip())\n",
    "                continue\n",
    "            else:\n",
    "                designs.append(line.strip().replace('\\n', ''))\n",
    "    return towels, designs"
   ]
  },
  {
   "cell_type": "code",
   "execution_count": null,
   "metadata": {},
   "outputs": [],
   "source": [
    "towels, designs = parse_input(EXAMPLE)\n",
    "print(towels)\n",
    "print(designs)"
   ]
  },
  {
   "cell_type": "markdown",
   "metadata": {},
   "source": [
    "For any given design, we go through all the towels to find the ones that are a prefix to the design.\n",
    "\n",
    "Then we remove the prefix and add the result to our list of next designs we'll need to check."
   ]
  },
  {
   "cell_type": "code",
   "execution_count": null,
   "metadata": {},
   "outputs": [],
   "source": [
    "def get_next_designs(towels, design):\n",
    "    next_designs = []\n",
    "    for towel in towels:\n",
    "        if design.startswith(towel):\n",
    "            next_designs.append(design[len(towel):])\n",
    "    return next_designs"
   ]
  },
  {
   "cell_type": "markdown",
   "metadata": {},
   "source": [
    "Let's create a Towels class to be able to cache the calls to get_next_designs, it should allow us to speed up the runs since the same designs can come up many different times."
   ]
  },
  {
   "cell_type": "code",
   "execution_count": null,
   "metadata": {},
   "outputs": [],
   "source": [
    "class Towels:\n",
    "    towels: set\n",
    "\n",
    "    def __init__(self, towels):\n",
    "        self.towels = towels\n",
    "\n",
    "    @cache\n",
    "    def get_next_designs(self, design):\n",
    "        next_designs = []\n",
    "        for towel in self.towels:\n",
    "            if design.startswith(towel):\n",
    "                next_designs.append(design[len(towel):])\n",
    "        return next_designs"
   ]
  },
  {
   "cell_type": "code",
   "execution_count": null,
   "metadata": {},
   "outputs": [],
   "source": [
    "towels = Towels(towels)"
   ]
  },
  {
   "cell_type": "code",
   "execution_count": null,
   "metadata": {},
   "outputs": [],
   "source": [
    "def design_is_possible(towels, design):\n",
    "    designs = set([design])\n",
    "    while designs:\n",
    "        new_designs = set()\n",
    "        for design in designs:\n",
    "            # Find the designs that have a prefix compatible with the towels and get their tails\n",
    "            next_designs = towels.get_next_designs(design)\n",
    "            if '' in next_designs:\n",
    "                # The tail is empty, we've successfully reached the end of the design\n",
    "                return True\n",
    "            for next_design in next_designs:\n",
    "                # Update the designs we need to check in the next step\n",
    "                new_designs.add(next_design)\n",
    "        designs = new_designs\n",
    "    return False"
   ]
  },
  {
   "cell_type": "code",
   "execution_count": null,
   "metadata": {},
   "outputs": [],
   "source": [
    "for design in designs:\n",
    "    print(design_is_possible(towels, design))"
   ]
  },
  {
   "cell_type": "code",
   "execution_count": null,
   "metadata": {},
   "outputs": [],
   "source": [
    "def part_1(input_file_name):\n",
    "    towels, designs = parse_input(input_file_name)\n",
    "    towels = Towels(towels)\n",
    "    result = 0\n",
    "    for design in designs:\n",
    "        if design_is_possible(towels, design):\n",
    "            result += 1\n",
    "    print(result)"
   ]
  },
  {
   "cell_type": "code",
   "execution_count": null,
   "metadata": {},
   "outputs": [],
   "source": [
    "part_1(EXAMPLE)"
   ]
  },
  {
   "cell_type": "code",
   "execution_count": null,
   "metadata": {},
   "outputs": [],
   "source": [
    "part_1(INPUT)"
   ]
  },
  {
   "cell_type": "code",
   "execution_count": null,
   "metadata": {},
   "outputs": [],
   "source": [
    "def nb_of_arrangements(towels, design):\n",
    "    # Keep track of the number of times we've been able to build any design\n",
    "    designs = {design: 1}\n",
    "    result = 0\n",
    "    while designs:\n",
    "        new_designs = {}\n",
    "        for design, count in designs.items():\n",
    "            # For each unique design, we call the function only once\n",
    "            next_designs = towels.get_next_designs(design)\n",
    "            # Next designs contains the tails reachable from the current design\n",
    "            # Each one is reachable in \"count\" different ways\n",
    "            for next_design in next_designs:\n",
    "                if next_design == '':\n",
    "                    # We've successfully reached the end of a design in \"count\" different ways\n",
    "                    # Add it to the total\n",
    "                    result += next_designs.count('')*count\n",
    "                    continue\n",
    "                # Update our design dict for the next step\n",
    "                if next_design in new_designs:\n",
    "                    new_designs[next_design] += count\n",
    "                else:\n",
    "                    new_designs[next_design] = count\n",
    "        # Move on to the next step\n",
    "        designs = new_designs\n",
    "    return result"
   ]
  },
  {
   "cell_type": "code",
   "execution_count": null,
   "metadata": {},
   "outputs": [],
   "source": [
    "def part_2(input_file_name):\n",
    "    towels, designs = parse_input(input_file_name)\n",
    "    towels = Towels(towels)\n",
    "    result = 0\n",
    "    for design in designs:\n",
    "        nb = nb_of_arrangements(towels, design)\n",
    "        result += nb\n",
    "    print(result)"
   ]
  },
  {
   "cell_type": "code",
   "execution_count": null,
   "metadata": {},
   "outputs": [],
   "source": [
    "part_2(EXAMPLE)"
   ]
  },
  {
   "cell_type": "code",
   "execution_count": null,
   "metadata": {},
   "outputs": [],
   "source": [
    "part_2(INPUT)"
   ]
  }
 ],
 "metadata": {
  "language_info": {
   "name": "python"
  }
 },
 "nbformat": 4,
 "nbformat_minor": 2
}
