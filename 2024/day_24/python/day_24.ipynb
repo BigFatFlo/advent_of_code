{
 "cells": [
  {
   "cell_type": "code",
   "execution_count": null,
   "metadata": {},
   "outputs": [],
   "source": [
    "EXAMPLE_1 = \"../example_1.txt\"\n",
    "EXAMPLE_2 = \"../example_2.txt\"\n",
    "INPUT = \"../input.txt\""
   ]
  },
  {
   "cell_type": "code",
   "execution_count": null,
   "metadata": {},
   "outputs": [],
   "source": [
    "def parse_input(input_file_name):\n",
    "    wires = []\n",
    "    gates = []\n",
    "    with open(input_file_name, 'r') as f:\n",
    "        reading_wires = True\n",
    "        for line in f:\n",
    "            if line == '\\n':\n",
    "                reading_wires = False\n",
    "                continue\n",
    "            if reading_wires:\n",
    "                wire, value = line.strip().replace('\\n', '').split(':')\n",
    "                value = bool(int(value.strip()))\n",
    "                wires.append((wire, value))\n",
    "            else:\n",
    "                inputs, output = line.strip().replace('\\n', '').split('->')\n",
    "                output = output.strip()\n",
    "                input0, gate, input1 = [s.strip() for s in inputs.strip().split(' ')]\n",
    "                gates.append((input0, gate, input1, output))\n",
    "    return wires, gates"
   ]
  },
  {
   "cell_type": "code",
   "execution_count": null,
   "metadata": {},
   "outputs": [],
   "source": [
    "wires, gates = parse_input(EXAMPLE_1)\n",
    "print(wires, gates)"
   ]
  },
  {
   "cell_type": "code",
   "execution_count": null,
   "metadata": {},
   "outputs": [],
   "source": [
    "class Gate:\n",
    "    name: str\n",
    "    op: str\n",
    "    inputs: list[bool | None]\n",
    "    output: bool | None\n",
    "    children: list[str]\n",
    "\n",
    "    def __init__(self, op, name):\n",
    "        self.name = name\n",
    "        self.output = None\n",
    "        self.inputs = [None, None]\n",
    "        self.op = op\n",
    "        self.children = []\n",
    "\n",
    "    def add_child(self, name):\n",
    "        self.children.append(name)\n",
    "\n",
    "    def set_input(self, value, device):\n",
    "        for i in range(2):\n",
    "            if self.inputs[i] is None:\n",
    "                self.inputs[i] = value\n",
    "                break\n",
    "        if None not in self.inputs:\n",
    "            self.generate_output(device)\n",
    "\n",
    "    def generate_output(self, device):\n",
    "        if self.inputs[0] is None or self.inputs[1] is None:\n",
    "            return\n",
    "        match self.op:\n",
    "            case \"AND\":\n",
    "                self.output = self.inputs[0] and self.inputs[1]\n",
    "            case \"OR\":\n",
    "                self.output = self.inputs[0] or self.inputs[1]\n",
    "            case \"XOR\":\n",
    "                self.output = self.inputs[0] ^ self.inputs[1]\n",
    "            case \"PASS\":\n",
    "                self.output = self.inputs[0]\n",
    "        for child in self.children:\n",
    "            device[child].set_input(self.output, device)"
   ]
  },
  {
   "cell_type": "code",
   "execution_count": null,
   "metadata": {},
   "outputs": [],
   "source": [
    "def build_device(wires, gates):\n",
    "    DEVICE = {}\n",
    "    for name, _ in wires:\n",
    "        new_gate = Gate('PASS', name)\n",
    "        DEVICE[name] = new_gate\n",
    "\n",
    "    for input0, op, input1, name in gates:\n",
    "        if name in DEVICE:\n",
    "            DEVICE[name].op = op\n",
    "        else:\n",
    "            new_gate = Gate(op=op, name=name)\n",
    "            DEVICE[name] = new_gate\n",
    "        if input0 in DEVICE:\n",
    "            DEVICE[input0].add_child(name)\n",
    "        else:\n",
    "            DEVICE[input0] = Gate(op=None, name=input0)\n",
    "            DEVICE[input0].add_child(name)\n",
    "        if input1 in DEVICE:\n",
    "            DEVICE[input1].add_child(name)\n",
    "        else:\n",
    "            DEVICE[input1] = Gate(op=None, name=input1)\n",
    "            DEVICE[input1].add_child(name)\n",
    "    \n",
    "    return DEVICE"
   ]
  },
  {
   "cell_type": "code",
   "execution_count": null,
   "metadata": {},
   "outputs": [],
   "source": [
    "DEVICE = build_device(wires, gates)"
   ]
  },
  {
   "cell_type": "code",
   "execution_count": null,
   "metadata": {},
   "outputs": [],
   "source": [
    "def start_device(device, wires):\n",
    "    for name, state in wires:\n",
    "        device[name].set_input(state, device)\n",
    "        device[name].set_input(state, device)"
   ]
  },
  {
   "cell_type": "code",
   "execution_count": null,
   "metadata": {},
   "outputs": [],
   "source": [
    "start_device(DEVICE, wires)"
   ]
  },
  {
   "cell_type": "code",
   "execution_count": null,
   "metadata": {},
   "outputs": [],
   "source": [
    "for gate in DEVICE.values():\n",
    "    print(gate.name, gate.output)"
   ]
  },
  {
   "cell_type": "code",
   "execution_count": null,
   "metadata": {},
   "outputs": [],
   "source": [
    "def get_number(device):\n",
    "    number = 0\n",
    "    for name, gate in device.items():\n",
    "        if name.startswith('z'):\n",
    "            index = int(name[1:])\n",
    "            value = int(gate.output)\n",
    "            number += 2**index * value\n",
    "    return number"
   ]
  },
  {
   "cell_type": "code",
   "execution_count": null,
   "metadata": {},
   "outputs": [],
   "source": [
    "print(get_number(DEVICE))"
   ]
  },
  {
   "cell_type": "code",
   "execution_count": null,
   "metadata": {},
   "outputs": [],
   "source": [
    "def part_1(input_file_name):\n",
    "    wires, gates = parse_input(input_file_name)\n",
    "    DEVICE = build_device(wires, gates)\n",
    "    start_device(DEVICE, wires)\n",
    "    result = get_number(DEVICE)\n",
    "    print(result)"
   ]
  },
  {
   "cell_type": "code",
   "execution_count": null,
   "metadata": {},
   "outputs": [],
   "source": [
    "part_1(EXAMPLE_1)"
   ]
  },
  {
   "cell_type": "code",
   "execution_count": null,
   "metadata": {},
   "outputs": [],
   "source": [
    "part_1(EXAMPLE_2)"
   ]
  },
  {
   "cell_type": "code",
   "execution_count": null,
   "metadata": {},
   "outputs": [],
   "source": [
    "part_1(INPUT)"
   ]
  },
  {
   "cell_type": "code",
   "execution_count": null,
   "metadata": {},
   "outputs": [],
   "source": [
    "wires, gates = parse_input(INPUT)"
   ]
  },
  {
   "cell_type": "markdown",
   "metadata": {},
   "source": [
    "The device is supposed to be an adder. Let's define how an adder should work, bit by bit and then compare with the device we have in order to find discrepancies.\n",
    "\n",
    "For each new bit position, let's calculate the expected values for xn&yn xn^yn, zn and cn (carry-over)"
   ]
  },
  {
   "cell_type": "code",
   "execution_count": null,
   "metadata": {},
   "outputs": [],
   "source": [
    "nb_of_wires = 45\n",
    "\n",
    "def get_gates_for_inputs(input0, input1, gates):\n",
    "    result = {}\n",
    "    for (i0, op, i1, output) in gates:\n",
    "        if sorted([input0, input1]) == sorted([i0, i1]):\n",
    "            result[op] = output\n",
    "    return result\n",
    "\n",
    "def get_gates_for_output(output, gates):\n",
    "    result = {}\n",
    "    for (i0, op, i1, o) in gates:\n",
    "        if o == output:\n",
    "            result[op] = sorted([i0, i1])\n",
    "    return result\n",
    "\n",
    "def swap_gates(gates, gates_to_swap):\n",
    "    for k, (i0, op, i1, o) in enumerate(gates):\n",
    "        new_o = None\n",
    "        for idx, g in enumerate(gates_to_swap):\n",
    "            if o == g and new_o is None:\n",
    "                new_o = gates_to_swap[1-idx]\n",
    "        gates[k] = (i0, op, i1, new_o if new_o is not None else o)\n",
    "\n",
    "regs_to_swap = []\n",
    "\n",
    "i = 0\n",
    "\n",
    "while i < nb_of_wires:\n",
    "    x = f\"x{i:02d}\"\n",
    "    y = f\"y{i:02d}\"\n",
    "    z = f\"z{i:02d}\"\n",
    "\n",
    "    matching_gates = get_gates_for_inputs(x, y, gates)\n",
    "    xi_xor_yi = matching_gates[\"XOR\"]\n",
    "    xi_and_yi = matching_gates[\"AND\"]\n",
    "    if \"OR\" in matching_gates:\n",
    "        print(\"Error\")\n",
    "\n",
    "    print(f\"{x} AND {y} = {xi_and_yi}\")\n",
    "    print(f\"{x} XOR {y} = {xi_xor_yi}\")\n",
    "        \n",
    "    if i == 0:\n",
    "        # Checking def for z_i\n",
    "        matching_gates = get_gates_for_inputs(x, y, gates)\n",
    "        if \"XOR\" in matching_gates and matching_gates[\"XOR\"] == z:\n",
    "            # z00 is correctly defined\n",
    "            print(f\"z00 correctly defined: {y} XOR {x} = {z}\")\n",
    "        else:\n",
    "            print(\"DISCREPANCY\")\n",
    "        # The value to carry over is x00 & y00\n",
    "        prev_c = xi_and_yi\n",
    "        print(f\"New co: {prev_c}\")\n",
    "        i += 1\n",
    "        continue\n",
    "\n",
    "    print(f\"Prev Carry-over = {prev_c}\")\n",
    "\n",
    "    # Checking def for z_i\n",
    "    matching_gates = get_gates_for_inputs(xi_xor_yi, prev_c, gates)\n",
    "    if \"OR\" in matching_gates:\n",
    "        print(\"WTF\")\n",
    "        break\n",
    "    if \"XOR\" in matching_gates and \"AND\" in matching_gates:\n",
    "        should_be_z = matching_gates[\"XOR\"]\n",
    "        right_reg_for_c = matching_gates[\"AND\"]\n",
    "        if should_be_z == z:\n",
    "            # z_i is correctly defined\n",
    "            print(f\"{z} correctly defined: {xi_xor_yi} XOR {prev_c} = {z}\")\n",
    "            # right hand register for c_i\n",
    "            right_reg_for_c = right_reg_for_c\n",
    "        elif right_reg_for_c == z:\n",
    "            print(f\"Need to swap {matching_gates[\"AND\"]} with {should_be_z}\")\n",
    "            regs_to_swap.extend([right_reg_for_c, should_be_z])\n",
    "            swap_gates(gates, [right_reg_for_c, should_be_z])\n",
    "            continue\n",
    "            # right_reg_for_c = should_be_z\n",
    "        else:\n",
    "            print(f\"Missing def for {z}\")\n",
    "            print(f\"Need to swap {should_be_z} with {z}\")\n",
    "            regs_to_swap.extend([z, should_be_z])\n",
    "            swap_gates(gates, [should_be_z, z])\n",
    "            continue\n",
    "    else:\n",
    "        print(f\"Missing XOR or AND gate for {xi_xor_yi} and {prev_c}\")\n",
    "        matching_gates = get_gates_for_output(z, gates)\n",
    "        if \"AND\" in matching_gates or \"OR\" in matching_gates:\n",
    "            print(\"WTF2\")\n",
    "        if \"XOR\" in matching_gates:\n",
    "            swap = False\n",
    "            if xi_xor_yi == matching_gates[\"XOR\"][0]:\n",
    "                print(f\"Need to swap {matching_gates[\"XOR\"][1]} with {prev_c}\")\n",
    "                gates_to_swap = [prev_c, matching_gates[\"XOR\"][1]]\n",
    "                # prev_c = matching_gates[\"XOR\"][1]\n",
    "                swap = True\n",
    "            elif xi_xor_yi == matching_gates[\"XOR\"][1]:\n",
    "                print(f\"Need to swap {matching_gates[\"XOR\"][0]} with {prev_c}\")\n",
    "                gates_to_swap = [prev_c, matching_gates[\"XOR\"][0]]\n",
    "                # prev_c = matching_gates[\"XOR\"][0]\n",
    "                swap = True\n",
    "            elif prev_c == matching_gates[\"XOR\"][0]:\n",
    "                print(f\"Need to swap {matching_gates[\"XOR\"][1]} with {xi_xor_yi}\")\n",
    "                gates_to_swap = [xi_xor_yi, matching_gates[\"XOR\"][1]]\n",
    "                # xi_xor_yi = matching_gates[\"XOR\"][1]\n",
    "                swap = True\n",
    "            elif prev_c == matching_gates[\"XOR\"][1]:\n",
    "                print(f\"Need to swap {matching_gates[\"XOR\"][0]} with {xi_xor_yi}\")\n",
    "                gates_to_swap = [xi_xor_yi, matching_gates[\"XOR\"][0]]\n",
    "                # xi_xor_yi = matching_gates[\"XOR\"][0]\n",
    "                swap = True\n",
    "            if swap:\n",
    "                regs_to_swap.extend(gates_to_swap)\n",
    "                swap_gates(gates, gates_to_swap)\n",
    "                continue\n",
    "            else:\n",
    "                print(\"Swap failed\")\n",
    "        else:\n",
    "            print(\"WTF3\")\n",
    "            break\n",
    "\n",
    "    # Checking def for c_i\n",
    "    matching_gates = get_gates_for_inputs(xi_and_yi, right_reg_for_c, gates)\n",
    "    if \"OR\" in matching_gates:\n",
    "        if matching_gates[\"OR\"] == z:\n",
    "            print(f\"Need to swap {matching_gates[\"OR\"]} with {should_be_z}\")\n",
    "            regs_to_swap.extend([matching_gates[\"OR\"], should_be_z])\n",
    "            swap_gates(gates, [matching_gates[\"OR\"], should_be_z])\n",
    "            continue\n",
    "        else:\n",
    "            prev_c = matching_gates[\"OR\"]\n",
    "    else:\n",
    "        print(f\"Missing OR gate for {xi_and_yi} and {right_reg_for_c}\")\n",
    "        break\n",
    "    i += 1\n",
    "\n",
    "print(\",\".join(sorted(regs_to_swap)))\n",
    "# bpf,fdw,hcc,hqc,qcw,z05,z11,z35"
   ]
  }
 ],
 "metadata": {
  "language_info": {
   "name": "python"
  }
 },
 "nbformat": 4,
 "nbformat_minor": 2
}
