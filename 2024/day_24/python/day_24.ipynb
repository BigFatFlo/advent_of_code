{
 "cells": [
  {
   "cell_type": "code",
   "execution_count": null,
   "metadata": {},
   "outputs": [],
   "source": [
    "EXAMPLE_1 = \"../example_1.txt\"\n",
    "EXAMPLE_2 = \"../example_2.txt\"\n",
    "INPUT = \"../input.txt\""
   ]
  },
  {
   "cell_type": "code",
   "execution_count": null,
   "metadata": {},
   "outputs": [],
   "source": [
    "def parse_input(input_file_name):\n",
    "    wires = []\n",
    "    gates = []\n",
    "    with open(input_file_name, 'r') as f:\n",
    "        reading_wires = True\n",
    "        for line in f:\n",
    "            if line == '\\n':\n",
    "                reading_wires = False\n",
    "                continue\n",
    "            if reading_wires:\n",
    "                wire, value = line.strip().replace('\\n', '').split(':')\n",
    "                value = bool(int(value.strip()))\n",
    "                wires.append((wire, value))\n",
    "            else:\n",
    "                inputs, output = line.strip().replace('\\n', '').split('->')\n",
    "                output = output.strip()\n",
    "                input0, gate, input1 = [s.strip() for s in inputs.strip().split(' ')]\n",
    "                gates.append((input0, gate, input1, output))\n",
    "    return wires, gates"
   ]
  },
  {
   "cell_type": "code",
   "execution_count": null,
   "metadata": {},
   "outputs": [],
   "source": [
    "wires, gates = parse_input(EXAMPLE_1)\n",
    "print(wires, gates)"
   ]
  },
  {
   "cell_type": "markdown",
   "metadata": {},
   "source": [
    "For part 1, we use a Gate structure that stores all the gates that depend on the output of each one. \n",
    "\n",
    "This way, when one gate has both input value set, its output can be generated and all the gates that depend on it can be updated in turn.\n",
    "\n",
    "A wire is simply a special \"PASS\" gate that has two identical inputs and whose output is equal to the input value."
   ]
  },
  {
   "cell_type": "code",
   "execution_count": null,
   "metadata": {},
   "outputs": [],
   "source": [
    "class Gate:\n",
    "    op: str\n",
    "    inputs: list[bool | None]\n",
    "    output: bool | None\n",
    "    children: list[str]\n",
    "\n",
    "    def __init__(self, op):\n",
    "        self.output = None\n",
    "        self.inputs = [None, None]\n",
    "        self.op = op\n",
    "        self.children = []\n",
    "\n",
    "    def add_child(self, name):\n",
    "        self.children.append(name)\n",
    "\n",
    "    def set_input(self, value, device):\n",
    "        for i in range(2):\n",
    "            if self.inputs[i] is None:\n",
    "                self.inputs[i] = value\n",
    "                break\n",
    "        if None not in self.inputs:\n",
    "            self.generate_output(device)\n",
    "\n",
    "    def generate_output(self, device):\n",
    "        if self.inputs[0] is None or self.inputs[1] is None:\n",
    "            return\n",
    "        match self.op:\n",
    "            case \"AND\":\n",
    "                self.output = self.inputs[0] and self.inputs[1]\n",
    "            case \"OR\":\n",
    "                self.output = self.inputs[0] or self.inputs[1]\n",
    "            case \"XOR\":\n",
    "                self.output = self.inputs[0] ^ self.inputs[1]\n",
    "            case \"PASS\":\n",
    "                self.output = self.inputs[0]\n",
    "        for child in self.children:\n",
    "            device[child].set_input(self.output, device)"
   ]
  },
  {
   "cell_type": "markdown",
   "metadata": {},
   "source": [
    "The device is simply the collection of all the gates, with their connections to each other.\n",
    "\n",
    "The name of a gate is the name of its output."
   ]
  },
  {
   "cell_type": "code",
   "execution_count": null,
   "metadata": {},
   "outputs": [],
   "source": [
    "def build_device(wires, gates):\n",
    "    DEVICE = {}\n",
    "    for name, _ in wires:\n",
    "        new_gate = Gate('PASS')\n",
    "        DEVICE[name] = new_gate\n",
    "\n",
    "    for input0, op, input1, name in gates:\n",
    "        # Inputs and outputs are not initialized in the same way\n",
    "        # It all depends on which side of a gate a name first appears in the list\n",
    "        if name in DEVICE:\n",
    "            # The current output already appeared as an input\n",
    "            DEVICE[name].op = op\n",
    "        else:\n",
    "            # The current output has never been seen before\n",
    "            new_gate = Gate(op=op)\n",
    "            DEVICE[name] = new_gate\n",
    "        for input in [input0, input1]:\n",
    "            if input in DEVICE:\n",
    "                # The current input already appeared as an input or an output\n",
    "                DEVICE[input].add_child(name)\n",
    "            else:\n",
    "                # The current input has never been seen before\n",
    "                DEVICE[input] = Gate(op=None)\n",
    "                DEVICE[input].add_child(name)\n",
    "    return DEVICE"
   ]
  },
  {
   "cell_type": "code",
   "execution_count": null,
   "metadata": {},
   "outputs": [],
   "source": [
    "DEVICE = build_device(wires, gates)"
   ]
  },
  {
   "cell_type": "markdown",
   "metadata": {},
   "source": [
    "To start the device, we simply initialize the inputs for the wire gates. Both inputs need to be set in order for the gate output to be generated. We could also have a special case in the Gate class definition for wires but it doesn't really make a difference."
   ]
  },
  {
   "cell_type": "code",
   "execution_count": null,
   "metadata": {},
   "outputs": [],
   "source": [
    "def start_device(device, wires):\n",
    "    for name, state in wires:\n",
    "        device[name].set_input(state, device)\n",
    "        device[name].set_input(state, device)"
   ]
  },
  {
   "cell_type": "code",
   "execution_count": null,
   "metadata": {},
   "outputs": [],
   "source": [
    "start_device(DEVICE, wires)"
   ]
  },
  {
   "cell_type": "markdown",
   "metadata": {},
   "source": [
    "Once the device is started, it runs until all gates have received their two inputs and generated their output."
   ]
  },
  {
   "cell_type": "code",
   "execution_count": null,
   "metadata": {},
   "outputs": [],
   "source": [
    "for name, gate in DEVICE.items():\n",
    "    print(name, gate.output)"
   ]
  },
  {
   "cell_type": "markdown",
   "metadata": {},
   "source": [
    "Now we just need a function to calculate the binary value on the $z_i$ gates"
   ]
  },
  {
   "cell_type": "code",
   "execution_count": null,
   "metadata": {},
   "outputs": [],
   "source": [
    "def get_number(device):\n",
    "    number = 0\n",
    "    for name, gate in device.items():\n",
    "        if name.startswith('z'):\n",
    "            index = int(name[1:])\n",
    "            value = int(gate.output)\n",
    "            number += 2**index * value\n",
    "    return number"
   ]
  },
  {
   "cell_type": "code",
   "execution_count": null,
   "metadata": {},
   "outputs": [],
   "source": [
    "print(get_number(DEVICE))"
   ]
  },
  {
   "cell_type": "code",
   "execution_count": null,
   "metadata": {},
   "outputs": [],
   "source": [
    "def part_1(input_file_name):\n",
    "    wires, gates = parse_input(input_file_name)\n",
    "    DEVICE = build_device(wires, gates)\n",
    "    start_device(DEVICE, wires)\n",
    "    result = get_number(DEVICE)\n",
    "    print(result)"
   ]
  },
  {
   "cell_type": "code",
   "execution_count": null,
   "metadata": {},
   "outputs": [],
   "source": [
    "part_1(EXAMPLE_1)"
   ]
  },
  {
   "cell_type": "code",
   "execution_count": null,
   "metadata": {},
   "outputs": [],
   "source": [
    "part_1(EXAMPLE_2)"
   ]
  },
  {
   "cell_type": "code",
   "execution_count": null,
   "metadata": {},
   "outputs": [],
   "source": [
    "part_1(INPUT)"
   ]
  },
  {
   "cell_type": "markdown",
   "metadata": {},
   "source": [
    "The device is supposed to be an adder. Let's define how an adder actually works, bit by bit, and then we'll need to compare the device we have with the theoretical definitions in order to find discrepancies.\n",
    "\n",
    "For bit 0 we simply have:\n",
    "\n",
    "$z_{00} = x_{00} \\land y_{00}$\n",
    "\n",
    "Starting at bit 1 we have to take into account the value that carries over ($c$) from the previous bit.\n",
    "\n",
    "$z_{01} = (x_{01} \\land y_{01}) \\land c_{00}$\n",
    "\n",
    "with $c_{00} = x_{00} \\mathrel{\\&} y_{00}$\n",
    "\n",
    "And the value to carry over from bit 1 to bit 2 is:\n",
    "\n",
    "$c_{01} = (x_{01} \\mathrel{\\&} y_{01}) \\mid ((x_{01} \\land y_{01}) \\mathrel{\\&} c_{00})$\n",
    "\n",
    "So in general we have:\n",
    "\n",
    "$z_{i} = (x_{i} \\land y_{i}) \\land c_{i-1}$\n",
    "\n",
    "$c_{i} = (x_{i} \\mathrel{\\&} y_{i}) \\mid ((x_{i} \\land y_{i}) \\mathrel{\\&} c_{i-1})$"
   ]
  },
  {
   "cell_type": "code",
   "execution_count": null,
   "metadata": {},
   "outputs": [],
   "source": [
    "wires, gates = parse_input(INPUT)\n",
    "nb_of_bits = len(wires) // 2"
   ]
  },
  {
   "cell_type": "markdown",
   "metadata": {},
   "source": [
    "From now on we'll call the wires registers because we'll treat them as such.\n",
    "\n",
    "So first we need functions to find how registers are defined in our device"
   ]
  },
  {
   "cell_type": "code",
   "execution_count": null,
   "metadata": {},
   "outputs": [],
   "source": [
    "def get_output_regs_for_inputs(input0, input1, gates):\n",
    "    result = {}\n",
    "    for (i0, op, i1, output) in gates:\n",
    "        # The order of the inputs is random so we sort them to order the inputs\n",
    "        if sorted([input0, input1]) == sorted([i0, i1]):\n",
    "            # We store the output register based on the operation needed to get it from the inputs\n",
    "            result[op] = output\n",
    "    return result\n",
    "\n",
    "def get_input_regs_for_output(output, gates):\n",
    "    result = {}\n",
    "    for (i0, op, i1, o) in gates:\n",
    "        if o == output:\n",
    "            # We order the inputs and store them based on the operation needed to get the output from them\n",
    "            result[op] = sorted([i0, i1])\n",
    "    return result"
   ]
  },
  {
   "cell_type": "markdown",
   "metadata": {},
   "source": [
    "As we go through all the bits, we'll encounter some discrepancies and we'll need to swap registers."
   ]
  },
  {
   "cell_type": "code",
   "execution_count": null,
   "metadata": {},
   "outputs": [],
   "source": [
    "def swap_regs(gates, regs_to_swap):\n",
    "    # Update the gate definitions whose output is one of the registers to swap\n",
    "    for k, (i0, op, i1, output) in enumerate(gates):\n",
    "        swapped_output = None\n",
    "        for idx, g in enumerate(regs_to_swap):\n",
    "            # We need to check if the output reg has already been swapped, so we don't swap it back to its original value\n",
    "            if output == g and swapped_output is None:\n",
    "                swapped_output = regs_to_swap[1-idx]\n",
    "        gates[k] = (i0, op, i1, swapped_output if swapped_output is not None else output)"
   ]
  },
  {
   "cell_type": "code",
   "execution_count": null,
   "metadata": {},
   "outputs": [],
   "source": [
    "def check_bit(bit_nb, prev_c, gates, debug):\n",
    "    x_i = f\"x{bit_nb:02d}\"\n",
    "    y_i = f\"y{bit_nb:02d}\"\n",
    "    z_i = f\"z{bit_nb:02d}\"\n",
    "\n",
    "    # Look for the gates that calculate xi ^ yi and xi & yi\n",
    "    output_regs = get_output_regs_for_inputs(x_i, y_i, gates)\n",
    "    # Store the registers that hold each value\n",
    "    xi_xor_yi = output_regs[\"XOR\"]\n",
    "    xi_and_yi = output_regs[\"AND\"]\n",
    "    # xi | yi is never needed so it shouldn't be calculated\n",
    "    if \"OR\" in output_regs:\n",
    "        print(f\"Error: gate calculating {x_i} | {y_i}\")\n",
    "        raise(ValueError)\n",
    "\n",
    "    if debug:\n",
    "        print(f\"{x_i} AND {y_i} = {xi_and_yi}\")\n",
    "        print(f\"{x_i} XOR {y_i} = {xi_xor_yi}\")\n",
    "        print(f\"Prev c = {prev_c}\")\n",
    "        \n",
    "    # Bit 0 is a special case because there is no previous value to carry over\n",
    "    if bit_nb == 0:\n",
    "        # z_00 should be equal to x0 ^ y0 so we just need to check that\n",
    "        if xi_xor_yi == z_i:\n",
    "            # z00 is correctly defined\n",
    "            if debug:\n",
    "                print(f\"z00 correctly defined: {y_i} XOR {x_i} = {z_i}\")\n",
    "        else:\n",
    "            print(f\"z00 incorrectly defined\")\n",
    "            raise(ValueError)\n",
    "        # The value to carry over is x00 & y00\n",
    "        c = xi_and_yi\n",
    "        # There are no registers to swap\n",
    "        return True, c, []\n",
    "\n",
    "    # General case: bit_nb >= 1\n",
    "\n",
    "    # Look for the gates that calculate (xi ^ yi) ^ ci-1 and (xi ^ yi) & ci-1\n",
    "    output_regs = get_output_regs_for_inputs(xi_xor_yi, prev_c, gates)\n",
    "    # The or value is not needed so it shouldn't be calculated\n",
    "    if \"OR\" in output_regs:\n",
    "        print(f\"Error: gate calculating (xi ^ yi) | ci-1\")\n",
    "        raise(ValueError)\n",
    "    if \"XOR\" in output_regs:\n",
    "        # The correct gate to calculate z_i exists, we need to check that its output is actually z_i\n",
    "        should_be_z_i = output_regs[\"XOR\"]\n",
    "        if should_be_z_i == z_i:\n",
    "            # z_i is correctly defined\n",
    "            if debug:\n",
    "                print(f\"{z_i} correctly defined: {xi_xor_yi} XOR {prev_c} = {z_i}\")\n",
    "        else:\n",
    "            # The register holding (xi ^ yi) ^ ci-1 is not equal to z_i so we need to swap it with z_i\n",
    "            if debug:\n",
    "                print(f\"Need to swap {z_i} with {should_be_z_i}\")\n",
    "            regs_to_swap = [z_i, should_be_z_i]\n",
    "            return False, None, regs_to_swap\n",
    "    else:\n",
    "        # The correct gate to calculate z_i doesn't exist, meaning either xi ^ yi or ci-1 are not set to the correct register\n",
    "        # Look for the gate that defines z_i\n",
    "        input_regs = get_input_regs_for_output(z_i, gates)\n",
    "        # We should find a XOR gate only\n",
    "        if \"AND\" in input_regs or \"OR\" in input_regs:\n",
    "            print(f\"Error: AND or OR gate resulting in {z_i}\")\n",
    "            raise(ValueError)\n",
    "        if \"XOR\" in input_regs:\n",
    "            swap = False\n",
    "            if xi_xor_yi == input_regs[\"XOR\"][0]:\n",
    "                if debug:\n",
    "                    print(f\"Need to swap {input_regs[\"XOR\"][1]} with {prev_c}\")\n",
    "                regs_to_swap = [prev_c, input_regs[\"XOR\"][1]]\n",
    "                swap = True\n",
    "            elif xi_xor_yi == input_regs[\"XOR\"][1]:\n",
    "                if debug:\n",
    "                    print(f\"Need to swap {input_regs[\"XOR\"][0]} with {prev_c}\")\n",
    "                regs_to_swap = [prev_c, input_regs[\"XOR\"][0]]\n",
    "                swap = True\n",
    "            elif prev_c == input_regs[\"XOR\"][0]:\n",
    "                if debug:\n",
    "                    print(f\"Need to swap {input_regs[\"XOR\"][1]} with {xi_xor_yi}\")\n",
    "                regs_to_swap = [xi_xor_yi, input_regs[\"XOR\"][1]]\n",
    "                swap = True\n",
    "            elif prev_c == input_regs[\"XOR\"][1]:\n",
    "                if debug:\n",
    "                    print(f\"Need to swap {input_regs[\"XOR\"][0]} with {xi_xor_yi}\")\n",
    "                regs_to_swap = [xi_xor_yi, input_regs[\"XOR\"][0]]\n",
    "                swap = True\n",
    "            if swap:\n",
    "                return False, None, regs_to_swap\n",
    "            else:\n",
    "                print(f\"Error: couldn't find swap to fix {z_i}\")\n",
    "                raise(ValueError)\n",
    "        else:\n",
    "            print(f\"Error: no XOR gate resulting in {z_i}\")\n",
    "            raise(ValueError)\n",
    "\n",
    "\n",
    "    if \"AND\" in output_regs:\n",
    "        # The correct gate to calculate the right hand part of c_i exists, we need to check that its output is actually used with xi & yi to get the c_i\n",
    "        right_reg_for_c = output_regs[\"AND\"]\n",
    "        output_regs = get_output_regs_for_inputs(xi_and_yi, right_reg_for_c, gates)\n",
    "        if \"OR\" in output_regs:\n",
    "            c = output_regs[\"OR\"]\n",
    "            return True, c, []\n",
    "        else:\n",
    "            print(f\"Missing OR gate for {xi_and_yi} and {right_reg_for_c}\")\n",
    "            raise(ValueError)\n",
    "    else:\n",
    "        print(f\"Error: no AND gate resulting in right hand of c_{nb_of_bits}\")\n",
    "        raise(ValueError)"
   ]
  },
  {
   "cell_type": "code",
   "execution_count": null,
   "metadata": {},
   "outputs": [],
   "source": [
    "def find_regs_to_swap(gates, nb_of_bits, debug=False):\n",
    "    regs_to_swap = []\n",
    "    bit_nb = 0\n",
    "    c = None\n",
    "    while bit_nb < nb_of_bits:\n",
    "        bit_is_valid, new_c, new_regs_to_swap = check_bit(bit_nb, c, gates, debug)\n",
    "        if new_c is not None:\n",
    "            c = new_c\n",
    "        if bit_is_valid:\n",
    "            bit_nb += 1\n",
    "        else:\n",
    "            regs_to_swap.extend(new_regs_to_swap)\n",
    "            swap_regs(gates, new_regs_to_swap)\n",
    "    return regs_to_swap"
   ]
  },
  {
   "cell_type": "code",
   "execution_count": null,
   "metadata": {},
   "outputs": [],
   "source": [
    "find_regs_to_swap(gates, nb_of_bits, debug=True)"
   ]
  },
  {
   "cell_type": "code",
   "execution_count": null,
   "metadata": {},
   "outputs": [],
   "source": [
    "def part_1(input_file_name):\n",
    "    wires, gates = parse_input(input_file_name)\n",
    "    nb_of_bits = len(wires) // 2\n",
    "    regs_to_swap = find_regs_to_swap(gates, nb_of_bits)\n",
    "    print(\",\".join(sorted(regs_to_swap)))"
   ]
  },
  {
   "cell_type": "code",
   "execution_count": null,
   "metadata": {},
   "outputs": [],
   "source": [
    "part_1(INPUT)"
   ]
  }
 ],
 "metadata": {
  "language_info": {
   "name": "python"
  }
 },
 "nbformat": 4,
 "nbformat_minor": 2
}
