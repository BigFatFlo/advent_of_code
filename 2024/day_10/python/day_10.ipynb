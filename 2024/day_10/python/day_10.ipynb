{
 "cells": [
  {
   "cell_type": "code",
   "execution_count": null,
   "metadata": {},
   "outputs": [],
   "source": [
    "from tabulate import tabulate\n",
    "\n",
    "EXAMPLE = \"../example.txt\"\n",
    "INPUT = \"../input.txt\""
   ]
  },
  {
   "cell_type": "code",
   "execution_count": null,
   "metadata": {},
   "outputs": [],
   "source": [
    "def get_map(input_file_name):\n",
    "    map = []\n",
    "    with open(input_file_name, 'r') as f:\n",
    "        for line in f:\n",
    "            map.append([int(c) for c in line.replace(\"\\n\", \"\").strip()])\n",
    "    return map"
   ]
  },
  {
   "cell_type": "code",
   "execution_count": null,
   "metadata": {},
   "outputs": [],
   "source": [
    "map = get_map(EXAMPLE)\n",
    "height = len(map)\n",
    "width = len(map[0])\n",
    "print(tabulate(map))"
   ]
  },
  {
   "cell_type": "code",
   "execution_count": null,
   "metadata": {},
   "outputs": [],
   "source": [
    "def find_trail_heads(map):\n",
    "    trail_heads = set()\n",
    "    height = len(map)\n",
    "    width = len(map[0])\n",
    "    for i in range(height):\n",
    "        for j in range(width):\n",
    "            if map[i][j] == 0:\n",
    "                trail_heads.add((i, j))\n",
    "    return trail_heads"
   ]
  },
  {
   "cell_type": "code",
   "execution_count": null,
   "metadata": {},
   "outputs": [],
   "source": [
    "trail_heads = find_trail_heads(map)\n",
    "print(trail_heads)"
   ]
  },
  {
   "cell_type": "code",
   "execution_count": null,
   "metadata": {},
   "outputs": [],
   "source": [
    "def find_next_positions(map, current_row, current_col):\n",
    "    height = len(map)\n",
    "    width = len(map[0])\n",
    "    next_positions = []\n",
    "    directions = [(1, 0), (-1, 0), (0, 1), (0, -1)]\n",
    "    for (i, j) in directions:\n",
    "        row, col = current_row + i, current_col + j\n",
    "        if 0 <= row < height and 0 <= col < width and map[row][col] == map[current_row][current_col] + 1:\n",
    "            next_positions.append((row, col))\n",
    "    return next_positions"
   ]
  },
  {
   "cell_type": "code",
   "execution_count": null,
   "metadata": {},
   "outputs": [],
   "source": [
    "def find_final_positions(map, start_row, start_col, unique = True):\n",
    "    final_positions = []\n",
    "    current_trails = [(start_row, start_col)]\n",
    "    while current_trails:\n",
    "        next_trails = []\n",
    "        for (current_row, current_col) in current_trails:\n",
    "            next_positions = find_next_positions(map, current_row, current_col)\n",
    "            for next_row, next_col in next_positions:\n",
    "                if map[next_row][next_col] == 9:\n",
    "                    final_positions.append((next_row, next_col))\n",
    "                else:\n",
    "                    next_trails.append((next_row, next_col))\n",
    "        current_trails = next_trails\n",
    "    if unique:\n",
    "        return set(final_positions)\n",
    "    else:\n",
    "        return final_positions\n",
    "        "
   ]
  },
  {
   "cell_type": "code",
   "execution_count": null,
   "metadata": {},
   "outputs": [],
   "source": [
    "for (row, col) in trail_heads:\n",
    "    final_positions = find_final_positions(map, row, col)\n",
    "    print(final_positions)\n",
    "    print(len(final_positions))"
   ]
  },
  {
   "cell_type": "code",
   "execution_count": null,
   "metadata": {},
   "outputs": [],
   "source": [
    "def part_1(input_file_name):\n",
    "    map = get_map(input_file_name)\n",
    "    trail_heads = find_trail_heads(map)\n",
    "    result = 0\n",
    "    for (row, col) in trail_heads:\n",
    "        result += len(find_final_positions(map, row, col))\n",
    "    print(result)"
   ]
  },
  {
   "cell_type": "code",
   "execution_count": null,
   "metadata": {},
   "outputs": [],
   "source": [
    "part_1(EXAMPLE)"
   ]
  },
  {
   "cell_type": "code",
   "execution_count": null,
   "metadata": {},
   "outputs": [],
   "source": [
    "part_1(INPUT)"
   ]
  },
  {
   "cell_type": "code",
   "execution_count": null,
   "metadata": {},
   "outputs": [],
   "source": [
    "def part_2(input_file_name):\n",
    "    map = get_map(input_file_name)\n",
    "    trail_heads = find_trail_heads(map)\n",
    "    result = 0\n",
    "    for (row, col) in trail_heads:\n",
    "        result += len(find_final_positions(map, row, col, unique = False))\n",
    "    print(result)"
   ]
  },
  {
   "cell_type": "code",
   "execution_count": null,
   "metadata": {},
   "outputs": [],
   "source": [
    "part_2(EXAMPLE)"
   ]
  },
  {
   "cell_type": "code",
   "execution_count": null,
   "metadata": {},
   "outputs": [],
   "source": [
    "part_2(INPUT)"
   ]
  }
 ],
 "metadata": {
  "language_info": {
   "name": "python"
  }
 },
 "nbformat": 4,
 "nbformat_minor": 2
}
