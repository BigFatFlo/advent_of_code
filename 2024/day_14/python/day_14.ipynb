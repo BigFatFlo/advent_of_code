{
 "cells": [
  {
   "cell_type": "code",
   "execution_count": null,
   "metadata": {},
   "outputs": [],
   "source": [
    "from tabulate import tabulate\n",
    "from pydantic import BaseModel\n",
    "import matplotlib.pyplot as plt\n",
    "import numpy as np\n",
    "from matplotlib.animation import FuncAnimation, PillowWriter\n",
    "\n",
    "EXAMPLE = \"../example.txt\"\n",
    "EXAMPLE_TREE = \"../example_tree.txt\"\n",
    "INPUT = \"../input.txt\""
   ]
  },
  {
   "cell_type": "code",
   "execution_count": null,
   "metadata": {},
   "outputs": [],
   "source": [
    "EXAMPLE_H=7\n",
    "EXAMPLE_W=11\n",
    "INPUT_H=103\n",
    "INPUT_W=101"
   ]
  },
  {
   "cell_type": "code",
   "execution_count": null,
   "metadata": {},
   "outputs": [],
   "source": [
    "class Coords(BaseModel):\n",
    "    x: int\n",
    "    y: int"
   ]
  },
  {
   "cell_type": "code",
   "execution_count": null,
   "metadata": {},
   "outputs": [],
   "source": [
    "class Robot(BaseModel):\n",
    "    position: Coords\n",
    "    velocity: Coords\n",
    "    quadrant: Coords = Coords(x=-1, y=-1)"
   ]
  },
  {
   "cell_type": "code",
   "execution_count": null,
   "metadata": {},
   "outputs": [],
   "source": [
    "def get_robots(input_file_name):\n",
    "    robots = []\n",
    "    with open(input_file_name, 'r') as f:\n",
    "        for line in f:\n",
    "            # p=0,4 v=3,-3\n",
    "            p, v = line.strip().replace(\"\\n\", \"\").split(\" \")\n",
    "            _, p = p.split('=')\n",
    "            px, py = p.split(',')\n",
    "            position = Coords(x=int(px), y=int(py))\n",
    "            _, v = v.split('=')\n",
    "            vx, vy = v.split(',')\n",
    "            velocity = Coords(x=int(vx), y=int(vy))\n",
    "            robot = Robot(position=position, velocity=velocity)\n",
    "            robots.append(robot)\n",
    "    return robots"
   ]
  },
  {
   "cell_type": "code",
   "execution_count": null,
   "metadata": {},
   "outputs": [],
   "source": [
    "robots = get_robots(EXAMPLE)\n",
    "print(tabulate(robots))"
   ]
  },
  {
   "cell_type": "code",
   "execution_count": null,
   "metadata": {},
   "outputs": [],
   "source": [
    "def move_robot(robot: Robot, seconds, height, width):\n",
    "    robot.position.x += (robot.velocity.x * seconds)\n",
    "    robot.position.x = robot.position.x % width\n",
    "    robot.position.y += (robot.velocity.y * seconds) % height\n",
    "    robot.position.y = robot.position.y % height\n"
   ]
  },
  {
   "cell_type": "code",
   "execution_count": null,
   "metadata": {},
   "outputs": [],
   "source": [
    "print(robots[-2])\n",
    "for s in range(5):\n",
    "    move_robot(robots[-2], 1, EXAMPLE_H, EXAMPLE_W)\n",
    "    print(robots[-2])"
   ]
  },
  {
   "cell_type": "code",
   "execution_count": null,
   "metadata": {},
   "outputs": [],
   "source": [
    "def find_quadrant(robot, height, width):\n",
    "    quadrant_x, quadrant_y = -1, -1\n",
    "    if robot.position.x < width // 2:\n",
    "        quadrant_x = 0\n",
    "    elif robot.position.x > width // 2:\n",
    "        quadrant_x = 1\n",
    "    if robot.position.y < height // 2:\n",
    "        quadrant_y = 0\n",
    "    elif robot.position.y > height // 2:\n",
    "        quadrant_y = 1\n",
    "    robot.quadrant = Coords(x=quadrant_x, y=quadrant_y)"
   ]
  },
  {
   "cell_type": "code",
   "execution_count": null,
   "metadata": {},
   "outputs": [],
   "source": [
    "def part_1(input_file_name, height, width):\n",
    "    robots = get_robots(input_file_name)\n",
    "    robots_per_quadrant = {}\n",
    "    for i in [0, 1]:\n",
    "        for j in [0, 1]:\n",
    "            robots_per_quadrant[(i, j)] = 0\n",
    "    for robot in robots:\n",
    "        move_robot(robot, 100, height, width)\n",
    "        find_quadrant(robot, height, width)\n",
    "        if robot.quadrant.x != -1 and robot.quadrant.y != -1:\n",
    "            robots_per_quadrant[(robot.quadrant.x, robot.quadrant.y)] += 1\n",
    "    result = m.prod(robots_per_quadrant.values())\n",
    "    print(result)\n",
    "        "
   ]
  },
  {
   "cell_type": "code",
   "execution_count": null,
   "metadata": {},
   "outputs": [],
   "source": [
    "part_1(EXAMPLE, EXAMPLE_H, EXAMPLE_W)"
   ]
  },
  {
   "cell_type": "code",
   "execution_count": null,
   "metadata": {},
   "outputs": [],
   "source": [
    "part_1(INPUT, INPUT_H, INPUT_W)"
   ]
  },
  {
   "cell_type": "markdown",
   "metadata": {},
   "source": [
    "For Part 2, best way I found is to \n",
    "- generate a gif of the robot positions\n",
    "- notice that every 100 frames or so, they seem to congregate\n",
    "- generate a gif with these specific frames\n",
    "- notice a goddamn christmas tree in one frame"
   ]
  },
  {
   "cell_type": "code",
   "execution_count": null,
   "metadata": {},
   "outputs": [],
   "source": [
    "def get_grid(robots, height, width):\n",
    "    grid = [[0 for _ in range(width)] for _ in range(height)]\n",
    "    for robot in robots:\n",
    "        grid[robot.position.y][robot.position.x] = 1\n",
    "    return np.array(grid)"
   ]
  },
  {
   "cell_type": "code",
   "execution_count": null,
   "metadata": {},
   "outputs": [],
   "source": [
    "def generate_gif(input_file_name, height, width, frames=10):\n",
    "    fig, ax = plt.subplots()\n",
    "\n",
    "    def update(frame, robots, height, width):\n",
    "        ax.clear()\n",
    "        grid = get_grid(robots, height, width)\n",
    "        # Move the robots 101 times, to get the next special frame\n",
    "        for robot in robots:\n",
    "            move_robot(robot, 101, height, width)\n",
    "        im = ax.imshow(grid, cmap='viridis', interpolation='nearest')\n",
    "        ax.set_title(f\"Frames: {frame}\")\n",
    "        return im,\n",
    "\n",
    "    robots = get_robots(input_file_name)\n",
    "    # Move the robots 8 times, to get the initial special frame\n",
    "    for _ in range(8):\n",
    "        for robot in robots:\n",
    "            move_robot(robot, 1, height, width)\n",
    "    ani = FuncAnimation(fig, update, frames=frames, fargs=(robots, height, width), interval=100, repeat=False)\n",
    "    ani.save(\"robot_dance.gif\", writer=PillowWriter(fps=10))"
   ]
  },
  {
   "cell_type": "code",
   "execution_count": null,
   "metadata": {},
   "outputs": [],
   "source": [
    "def part_2():\n",
    "    generate_gif(INPUT, INPUT_H, INPUT_W, frames = 70)"
   ]
  },
  {
   "cell_type": "code",
   "execution_count": null,
   "metadata": {},
   "outputs": [],
   "source": [
    "part_2()"
   ]
  }
 ],
 "metadata": {
  "language_info": {
   "name": "python"
  }
 },
 "nbformat": 4,
 "nbformat_minor": 2
}
