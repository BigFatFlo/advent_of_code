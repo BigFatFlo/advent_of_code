{
 "cells": [
  {
   "cell_type": "code",
   "execution_count": null,
   "metadata": {},
   "outputs": [],
   "source": [
    "from pydantic import BaseModel\n",
    "import matplotlib.pyplot as plt\n",
    "from matplotlib.animation import FuncAnimation, PillowWriter\n",
    "import numpy as np\n",
    "from numpy.typing import NDArray\n",
    "import math as m\n",
    "\n",
    "EXAMPLE = \"../example.txt\"\n",
    "EXAMPLE_TREE = \"../example_tree.txt\"\n",
    "INPUT = \"../input.txt\""
   ]
  },
  {
   "cell_type": "code",
   "execution_count": null,
   "metadata": {},
   "outputs": [],
   "source": [
    "EXAMPLE_H=7\n",
    "EXAMPLE_W=11\n",
    "INPUT_H=103\n",
    "INPUT_W=101"
   ]
  },
  {
   "cell_type": "code",
   "execution_count": null,
   "metadata": {},
   "outputs": [],
   "source": [
    "class Coords(BaseModel):\n",
    "    x: int\n",
    "    y: int"
   ]
  },
  {
   "cell_type": "code",
   "execution_count": null,
   "metadata": {},
   "outputs": [],
   "source": [
    "class Robot():\n",
    "    position: Coords\n",
    "    velocity: Coords\n",
    "\n",
    "    def __init__(self, position, velocity):\n",
    "        self.position = position\n",
    "        self.velocity = velocity\n",
    "\n",
    "    def quadrant(self, height, width):\n",
    "        quadrant_x, quadrant_y = -1, -1\n",
    "        if self.position.x < width // 2:\n",
    "            quadrant_x = 0\n",
    "        elif self.position.x > width // 2:\n",
    "            quadrant_x = 1\n",
    "        if self.position.y < height // 2:\n",
    "            quadrant_y = 0\n",
    "        elif self.position.y > height // 2:\n",
    "            quadrant_y = 1\n",
    "        return Coords(x=quadrant_x, y=quadrant_y)\n",
    "    \n",
    "    def move(self, seconds, height, width):\n",
    "        self.position.x += (self.velocity.x * seconds)\n",
    "        self.position.x = self.position.x % width\n",
    "        self.position.y += (self.velocity.y * seconds) % height\n",
    "        self.position.y = self.position.y % height"
   ]
  },
  {
   "cell_type": "code",
   "execution_count": null,
   "metadata": {},
   "outputs": [],
   "source": [
    "class Swarm():\n",
    "    height: int\n",
    "    width: int\n",
    "    robots: list[Robot]\n",
    "    quadrants: dict[tuple[int, int], int]\n",
    "    grid: list[list[int]]\n",
    "    size: int\n",
    "\n",
    "    def __init__(self, input_file_name, height, width):\n",
    "        self.height = height\n",
    "        self.width = width\n",
    "        self.init_quadrants()\n",
    "        self.grid = [[0 for _ in range(self.width)] for _ in range(self.height)]\n",
    "        self.robots = []\n",
    "        with open(input_file_name, 'r') as f:\n",
    "            self.parse_input(f)\n",
    "\n",
    "    def parse_input(self, f):\n",
    "        for line in f:\n",
    "            p, v = line.strip().replace(\"\\n\", \"\").split(\" \")\n",
    "            _, p = p.split('=')\n",
    "            px, py = p.split(',')\n",
    "            position = Coords(x=int(px), y=int(py))\n",
    "            _, v = v.split('=')\n",
    "            vx, vy = v.split(',')\n",
    "            velocity = Coords(x=int(vx), y=int(vy))\n",
    "            robot = Robot(position=position, velocity=velocity)\n",
    "            self.robots.append(robot)\n",
    "            self.grid[robot.position.y][robot.position.x] += 1\n",
    "            quadrant = robot.quadrant(self.height, self.width)\n",
    "            if (quadrant.x, quadrant.y) in self.quadrants:\n",
    "                self.quadrants[(quadrant.x, quadrant.y)] += 1\n",
    "        self.size = len(self.robots)\n",
    "\n",
    "    def init_quadrants(self):\n",
    "        self.quadrants = {}\n",
    "        for i in [0, 1]:\n",
    "            for j in [0, 1]:\n",
    "                self.quadrants[(i, j)] = 0\n",
    "\n",
    "    def move(self, seconds):\n",
    "        for robot in self.robots:\n",
    "            old_quadrant = robot.quadrant(self.height, self.width)\n",
    "            if (old_quadrant.x, old_quadrant.y) in self.quadrants:\n",
    "                self.quadrants[(old_quadrant.x, old_quadrant.y)] -= 1\n",
    "            self.grid[robot.position.y][robot.position.x] -= 1\n",
    "            robot.move(seconds, self.height, self.width)\n",
    "            self.grid[robot.position.y][robot.position.x] += 1\n",
    "            new_quadrant = robot.quadrant(self.height, self.width)\n",
    "            if (new_quadrant.x, new_quadrant.y) in self.quadrants:\n",
    "                self.quadrants[(new_quadrant.x, new_quadrant.y)] += 1\n",
    "\n",
    "    def safety_factor(self):\n",
    "        return m.prod(self.quadrants.values())\n",
    "    \n",
    "    def get_grid(self):\n",
    "        return np.array(self.grid)\n",
    "    \n",
    "    def is_one_quadrant_bigger(self):\n",
    "        if any(nb >= self.size / 2 for nb in self.quadrants.values()):\n",
    "            return True\n",
    "        return False"
   ]
  },
  {
   "cell_type": "code",
   "execution_count": null,
   "metadata": {},
   "outputs": [],
   "source": [
    "def part_1(input_file_name, height, width):\n",
    "    swarm = Swarm(input_file_name, height, width)\n",
    "    swarm.move(100)\n",
    "    result = swarm.safety_factor()\n",
    "    print(result)"
   ]
  },
  {
   "cell_type": "code",
   "execution_count": null,
   "metadata": {},
   "outputs": [],
   "source": [
    "part_1(EXAMPLE, EXAMPLE_H, EXAMPLE_W)"
   ]
  },
  {
   "cell_type": "code",
   "execution_count": null,
   "metadata": {},
   "outputs": [],
   "source": [
    "part_1(INPUT, INPUT_H, INPUT_W)"
   ]
  },
  {
   "cell_type": "markdown",
   "metadata": {},
   "source": [
    "For Part 2, best way I found is to \n",
    "- generate a gif of the robot positions\n",
    "- notice that every 100 frames or so, they seem to congregate\n",
    "- generate a gif with these specific frames\n",
    "- notice a goddamn christmas tree in one frame"
   ]
  },
  {
   "cell_type": "code",
   "execution_count": null,
   "metadata": {},
   "outputs": [],
   "source": [
    "class VectorizedSwarm():\n",
    "    height: int\n",
    "    width: int\n",
    "    robots: NDArray # 3-tensor (N, 2, 2): [robot_index, position_or_velocity, x_or_y]\n",
    "    quadrants: NDArray\n",
    "    size: int\n",
    "    grid: NDArray # 2D grid (height x width) with the count of robots at each position\n",
    "\n",
    "    def __init__(self, input_file_name, height, width):\n",
    "        self.height = height\n",
    "        self.width = width\n",
    "        self.robots = []\n",
    "        self.quadrants = np.array([0, 0, 0, 0])\n",
    "        self.grid = np.zeros((height, width), dtype=int)\n",
    "        with open(input_file_name, 'r') as f:\n",
    "            self.parse_input(f)\n",
    "        self.update_quadrants()\n",
    "        self.update_grid()\n",
    "\n",
    "    def parse_input(self, f):\n",
    "        robots = []\n",
    "        for line in f:\n",
    "            p, v = line.strip().replace(\"\\n\", \"\").split(\" \")\n",
    "            _, p = p.split('=')\n",
    "            px, py = p.split(',')\n",
    "            position = [int(px), int(py)]\n",
    "            _, v = v.split('=')\n",
    "            vx, vy = v.split(',')\n",
    "            velocity = [int(vx), int(vy)]\n",
    "            robot = [position, velocity]\n",
    "            robots.append(robot)\n",
    "        self.size = len(robots)\n",
    "        self.robots = np.array(robots)\n",
    "\n",
    "    def update_quadrants(self):\n",
    "        self.quadrants[:] = 0\n",
    "        half_width = self.width // 2\n",
    "        half_height = self.height // 2\n",
    "        px, py = self.robots[:, 0, 0], self.robots[:, 0, 1]\n",
    "        # Compute mask of robots to count\n",
    "        valid = (px != half_width) & (py != half_height)\n",
    "        # Compute quadrant index of each robot\n",
    "        quadrant_indices = (px[valid] > half_width) * 2 + (py[valid] > half_height)\n",
    "        # Count nb of robots for each quadrant index\n",
    "        counts = np.bincount(quadrant_indices, minlength=4)\n",
    "        self.quadrants[:] = counts\n",
    "\n",
    "    def update_grid(self):\n",
    "        self.grid[:] = 0\n",
    "        px, py = self.robots[:, 0, 0], self.robots[:, 0, 1]\n",
    "        np.add.at(self.grid, (py, px), 1)\n",
    "\n",
    "    def move(self, seconds):\n",
    "        self.robots[:, 0, :] += self.robots[:, 1, :]*seconds\n",
    "        self.robots[:, 0, 0] %= self.width\n",
    "        self.robots[:, 0, 1] %= self.height\n",
    "        self.update_quadrants()\n",
    "        self.update_grid()\n",
    "\n",
    "    def safety_factor(self):\n",
    "        return m.prod(self.quadrants)\n",
    "    \n",
    "    def is_one_quadrant_bigger(self):\n",
    "        if any(nb >= self.size / 2 for nb in self.quadrants):\n",
    "            return True\n",
    "        return False"
   ]
  },
  {
   "cell_type": "code",
   "execution_count": null,
   "metadata": {},
   "outputs": [],
   "source": [
    "def generate_gif(input_file_name, height, width, frames=10):\n",
    "    fig, ax = plt.subplots()\n",
    "\n",
    "    def update(frame, swarm: Swarm):\n",
    "        ax.clear()\n",
    "        grid = swarm.grid\n",
    "        # Move the swarm 101 times, to get the next special frame\n",
    "        swarm.move(101)\n",
    "        im = ax.imshow(grid, cmap='viridis', interpolation='nearest')\n",
    "        ax.set_title(f\"Frames: {frame}\")\n",
    "        return im,\n",
    "\n",
    "    swarm = VectorizedSwarm(input_file_name, height, width)\n",
    "    # Move the swarm 8 times, to get the initial special frame\n",
    "    swarm.move(8)\n",
    "    ani = FuncAnimation(fig, update, frames=frames, fargs=(swarm,), interval=100, repeat=False)\n",
    "    ani.save(\"robot_dance.gif\", writer=PillowWriter(fps=10))"
   ]
  },
  {
   "cell_type": "code",
   "execution_count": null,
   "metadata": {},
   "outputs": [],
   "source": [
    "def part_2():\n",
    "    generate_gif(INPUT, INPUT_H, INPUT_W, frames = 70)"
   ]
  },
  {
   "cell_type": "code",
   "execution_count": null,
   "metadata": {},
   "outputs": [],
   "source": [
    "part_2()"
   ]
  },
  {
   "cell_type": "markdown",
   "metadata": {},
   "source": [
    "The christmas tree appears after 6876 seconds.\n",
    "Let's try and find that automatically, without looking at images."
   ]
  },
  {
   "cell_type": "code",
   "execution_count": null,
   "metadata": {},
   "outputs": [],
   "source": [
    "def part_2(input_file_name, height, width):\n",
    "    swarm = VectorizedSwarm(input_file_name, height, width)\n",
    "    result = 0\n",
    "    while not swarm.is_one_quadrant_bigger():\n",
    "        swarm.move(1)\n",
    "        result += 1\n",
    "    print(result)"
   ]
  },
  {
   "cell_type": "code",
   "execution_count": null,
   "metadata": {},
   "outputs": [],
   "source": [
    "part_2(INPUT, INPUT_H, INPUT_W)"
   ]
  }
 ],
 "metadata": {
  "language_info": {
   "name": "python"
  }
 },
 "nbformat": 4,
 "nbformat_minor": 2
}
