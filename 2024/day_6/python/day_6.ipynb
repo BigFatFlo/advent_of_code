{
 "cells": [
  {
   "cell_type": "code",
   "execution_count": null,
   "metadata": {},
   "outputs": [],
   "source": [
    "from tabulate import tabulate\n",
    "\n",
    "EXAMPLE = \"../example.txt\"\n",
    "INPUT = \"../input.txt\""
   ]
  },
  {
   "cell_type": "code",
   "execution_count": null,
   "metadata": {},
   "outputs": [],
   "source": [
    "def get_matrix(input_file_name):\n",
    "    matrix = []\n",
    "    with open(input_file_name, \"r\") as file:\n",
    "        for line in file:\n",
    "            matrix.append([c for c in line.strip().replace(\"\\n\", \"\")])\n",
    "    return matrix\n"
   ]
  },
  {
   "cell_type": "code",
   "execution_count": null,
   "metadata": {},
   "outputs": [],
   "source": [
    "matrix = get_matrix(EXAMPLE)\n",
    "print(tabulate(matrix, tablefmt=\"grid\"))"
   ]
  },
  {
   "cell_type": "code",
   "execution_count": null,
   "metadata": {},
   "outputs": [],
   "source": [
    "def find_start(matrix):\n",
    "    for i, row in enumerate(matrix):\n",
    "        for j, col in enumerate(row):\n",
    "            if col == \">\":\n",
    "                return (i, j), \"right\"\n",
    "            elif col == \"<\":\n",
    "                return (i, j), \"left\"\n",
    "            elif col == \"^\":\n",
    "                return (i, j), \"up\"\n",
    "            elif col == \"v\":\n",
    "                return (i, j), \"down\"\n",
    "    return (-1, -1), \"right\""
   ]
  },
  {
   "cell_type": "code",
   "execution_count": null,
   "metadata": {},
   "outputs": [],
   "source": [
    "start, direction = find_start(matrix)\n",
    "print(start, direction)"
   ]
  },
  {
   "cell_type": "code",
   "execution_count": null,
   "metadata": {},
   "outputs": [],
   "source": [
    "def find_obstacles(matrix):\n",
    "    obstacles = set()\n",
    "    for i, row in enumerate(matrix):\n",
    "        for j, col in enumerate(row):\n",
    "            if col == \"#\":\n",
    "                obstacles.add((i, j))\n",
    "    return obstacles"
   ]
  },
  {
   "cell_type": "code",
   "execution_count": null,
   "metadata": {},
   "outputs": [],
   "source": [
    "obstacles = find_obstacles(matrix)\n",
    "print(obstacles)"
   ]
  },
  {
   "cell_type": "code",
   "execution_count": null,
   "metadata": {},
   "outputs": [],
   "source": [
    "def build_obstacle_map(matrix):\n",
    "    obstacles = find_obstacles(matrix)\n",
    "    height = len(matrix)\n",
    "    width = len(matrix[0])\n",
    "    obstacle_map = {\"rows\": [[] for _ in range(height)], \"columns\": [[] for _ in range(width)]}\n",
    "    for obstacle in obstacles:\n",
    "        row = obstacle[0]\n",
    "        col = obstacle[1]\n",
    "        i = 0\n",
    "        while i < len(obstacle_map[\"rows\"][row]) and col > obstacle_map[\"rows\"][row][i]:\n",
    "            i+=1\n",
    "        obstacle_map[\"rows\"][row].insert(i, col)\n",
    "        i = 0\n",
    "        while i < len(obstacle_map[\"columns\"][col]) and row > obstacle_map[\"columns\"][col][i]:\n",
    "            i+=1\n",
    "        obstacle_map[\"columns\"][col].insert(i, row)\n",
    "    return obstacle_map"
   ]
  },
  {
   "cell_type": "code",
   "execution_count": null,
   "metadata": {},
   "outputs": [],
   "source": [
    "obstacle_map = build_obstacle_map(matrix)\n",
    "print(obstacle_map)\n"
   ]
  },
  {
   "cell_type": "code",
   "execution_count": null,
   "metadata": {},
   "outputs": [],
   "source": [
    "def find_next_position(obstacle_map, position, direction):\n",
    "    current_row = position[0]\n",
    "    current_col = position[1]\n",
    "    match direction:\n",
    "        case \"right\":\n",
    "            # Check if an obstacle is in the same row, to the right\n",
    "            for col in obstacle_map[\"rows\"][current_row]:\n",
    "                if col > current_col:\n",
    "                    # If so, return the position right before the obstacle\n",
    "                    return (current_row, col - 1), \"down\"\n",
    "            # If no obstacle, then the guard leaves the grid\n",
    "            return (-1, -1), \"right\"\n",
    "        case \"left\":\n",
    "            # Check if an obstacle is in the same row, to the left\n",
    "            for col in reversed(obstacle_map[\"rows\"][current_row]):\n",
    "                if col < current_col:\n",
    "                    # If so, return the position right before the obstacle\n",
    "                    return (current_row, col + 1), \"up\"\n",
    "            # If no obstacle, then the guard leaves the grid\n",
    "            return (-1, -1), \"left\"\n",
    "        case \"down\":\n",
    "            # Check if an obstacle is in the same column, down from the current position\n",
    "            for row in obstacle_map[\"columns\"][current_col]:\n",
    "                if row > current_row:\n",
    "                    # If so, return the position right before the obstacle\n",
    "                    return (row - 1, current_col), \"left\"\n",
    "            # If no obstacle, then the guard leaves the grid\n",
    "            return (-1, -1), \"down\"\n",
    "        case \"up\": \n",
    "            # Check if an obstacle is in the same column, up from the current position\n",
    "            for row in reversed(obstacle_map[\"columns\"][current_col]):\n",
    "                if row < current_row:\n",
    "                    # If so, return the position right before the obstacle\n",
    "                    return (row + 1, current_col), \"right\"\n",
    "            # If no obstacle, then the guard leaves the grid\n",
    "            return (-1, -1), \"up\"\n",
    "    return (-1, -1), \"up\"\n"
   ]
  },
  {
   "cell_type": "code",
   "execution_count": null,
   "metadata": {},
   "outputs": [],
   "source": [
    "def find_path(obstacle_map, start_position, start_direction):\n",
    "    path = [(start_position, start_direction)]\n",
    "    position = start_position\n",
    "    direction = start_direction\n",
    "    while position != (-1, -1):\n",
    "        position, direction = find_next_position(obstacle_map, position, direction)    \n",
    "        path.append((position, direction))\n",
    "    return path"
   ]
  },
  {
   "cell_type": "code",
   "execution_count": null,
   "metadata": {},
   "outputs": [],
   "source": [
    "path = find_path(obstacle_map, start, direction)\n",
    "print(path)"
   ]
  },
  {
   "cell_type": "code",
   "execution_count": null,
   "metadata": {},
   "outputs": [],
   "source": [
    "def find_nb_of_positions(path, height, width):\n",
    "    visited_positions = set()\n",
    "    i = 0\n",
    "    while i < len(path) - 1:\n",
    "        (current_row, current_col), current_direction = path[i]\n",
    "        (next_row, next_col), _ = path[i+1]\n",
    "        if next_row == -1 and next_col == -1:\n",
    "            match current_direction:\n",
    "                case \"right\":\n",
    "                    for col in range(current_col, width):\n",
    "                        visited_positions.add((current_row, col))\n",
    "                case \"left\":\n",
    "                    for col in range(0, current_col+1):\n",
    "                        visited_positions.add((current_row, col))\n",
    "                case \"down\":\n",
    "                    for row in range(current_row, height):\n",
    "                        visited_positions.add((row, current_col))\n",
    "                case \"up\":\n",
    "                    for row in range(0, current_row+1):\n",
    "                        visited_positions.add((row, current_col))\n",
    "        if current_row == next_row:\n",
    "            for col in range(min(current_col, next_col), max(current_col, next_col)+1):\n",
    "                visited_positions.add((current_row, col))\n",
    "        elif current_col == next_col:\n",
    "            for row in range(min(current_row, next_row), max(current_row, next_row)+1):\n",
    "                visited_positions.add((row, current_col))\n",
    "        i+=1\n",
    "    return len(visited_positions)\n"
   ]
  },
  {
   "cell_type": "code",
   "execution_count": null,
   "metadata": {},
   "outputs": [],
   "source": [
    "print(find_nb_of_positions(path, len(matrix), len(matrix[0])))"
   ]
  },
  {
   "cell_type": "code",
   "execution_count": null,
   "metadata": {},
   "outputs": [],
   "source": [
    "def part_1(input_file_name):\n",
    "    matrix = get_matrix(input_file_name)\n",
    "    height = len(matrix)\n",
    "    width = len(matrix[0])\n",
    "    start_position, start_direction = find_start(matrix)\n",
    "    obstacle_map = build_obstacle_map(matrix)\n",
    "    path = find_path(obstacle_map, start_position, start_direction)\n",
    "    print(find_nb_of_positions(path, height, width))"
   ]
  },
  {
   "cell_type": "code",
   "execution_count": null,
   "metadata": {},
   "outputs": [],
   "source": [
    "part_1(EXAMPLE)"
   ]
  },
  {
   "cell_type": "code",
   "execution_count": null,
   "metadata": {},
   "outputs": [],
   "source": [
    "part_1(INPUT)"
   ]
  },
  {
   "cell_type": "code",
   "execution_count": null,
   "metadata": {},
   "outputs": [],
   "source": [
    "def find_loop(obstacle_map, start_position, start_direction):\n",
    "    path = [(start_position, start_direction)]\n",
    "    position = start_position\n",
    "    direction = start_direction\n",
    "    while position != (-1, -1):\n",
    "        position, direction = find_next_position(obstacle_map, position, direction)    \n",
    "        if (position, direction) in path:\n",
    "            return True\n",
    "        path.append((position, direction))\n",
    "    return False"
   ]
  },
  {
   "cell_type": "code",
   "execution_count": null,
   "metadata": {},
   "outputs": [],
   "source": [
    "def add_obstacle(obstacle_map, row, col):\n",
    "    obstacle_map[\"rows\"][row].append(col)\n",
    "    obstacle_map[\"columns\"][col].append(row)\n",
    "    obstacle_map[\"rows\"][row].sort()\n",
    "    obstacle_map[\"columns\"][col].sort()\n",
    "    return obstacle_map"
   ]
  },
  {
   "cell_type": "code",
   "execution_count": null,
   "metadata": {},
   "outputs": [],
   "source": [
    "def remove_obstacle(obstacle_map, row, col):\n",
    "    obstacle_map[\"rows\"][row].remove(col)\n",
    "    obstacle_map[\"columns\"][col].remove(row)\n",
    "    return obstacle_map"
   ]
  },
  {
   "cell_type": "code",
   "execution_count": null,
   "metadata": {},
   "outputs": [],
   "source": [
    "def part_2(input_file_name):\n",
    "    matrix = get_matrix(input_file_name)\n",
    "    height = len(matrix)\n",
    "    width = len(matrix[0])\n",
    "    start_position, start_direction = find_start(matrix)\n",
    "    obstacle_map = build_obstacle_map(matrix)\n",
    "    result = 0\n",
    "    for i in range(height):\n",
    "        for j in range(width):\n",
    "            if matrix[i][j] == \".\":\n",
    "                obstacle_map = add_obstacle(obstacle_map, i, j)\n",
    "                if find_loop(obstacle_map, start_position, start_direction):\n",
    "                    result += 1\n",
    "                obstacle_map = remove_obstacle(obstacle_map, i, j)\n",
    "    print(result)"
   ]
  },
  {
   "cell_type": "code",
   "execution_count": null,
   "metadata": {},
   "outputs": [],
   "source": [
    "part_2(EXAMPLE)"
   ]
  },
  {
   "cell_type": "code",
   "execution_count": null,
   "metadata": {},
   "outputs": [],
   "source": [
    "part_2(INPUT)"
   ]
  }
 ],
 "metadata": {
  "language_info": {
   "name": "python"
  }
 },
 "nbformat": 4,
 "nbformat_minor": 2
}
