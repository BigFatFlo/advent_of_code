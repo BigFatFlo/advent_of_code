{
 "cells": [
  {
   "cell_type": "code",
   "execution_count": null,
   "metadata": {},
   "outputs": [],
   "source": [
    "EXAMPLE = \"../example.txt\"\n",
    "INPUT = \"../input.txt\""
   ]
  },
  {
   "cell_type": "code",
   "execution_count": null,
   "metadata": {},
   "outputs": [],
   "source": [
    "def get_lists(input_file_name: str) -> tuple[list[int], list[int]]:\n",
    "    left = []\n",
    "    right = []\n",
    "\n",
    "    with open(input_file_name, 'r') as f:\n",
    "        for line in f:\n",
    "            l, r = [int(x) for x in line.strip().replace(\"\\n\", \"\").split(\"   \")]\n",
    "            left.append(l)\n",
    "            right.append(r)\n",
    "\n",
    "    return left, right"
   ]
  },
  {
   "cell_type": "code",
   "execution_count": null,
   "metadata": {},
   "outputs": [],
   "source": [
    "left, right = get_lists(EXAMPLE)\n",
    "print(left, right)"
   ]
  },
  {
   "cell_type": "code",
   "execution_count": null,
   "metadata": {},
   "outputs": [],
   "source": [
    "def get_distances(left: list[int], right: list[int]) -> list[int]:\n",
    "    distances = []\n",
    "    left.sort()\n",
    "    right.sort()\n",
    "\n",
    "    for i, _ in enumerate(left):\n",
    "        distances.append(abs(left[i] - right[i]))\n",
    "\n",
    "    return distances\n",
    "        "
   ]
  },
  {
   "cell_type": "code",
   "execution_count": null,
   "metadata": {},
   "outputs": [],
   "source": [
    "distances = get_distances(left, right)\n",
    "print(distances)"
   ]
  },
  {
   "cell_type": "code",
   "execution_count": null,
   "metadata": {},
   "outputs": [],
   "source": [
    "def part_1(input_file_name: str) -> None:\n",
    "    left, right = get_lists(input_file_name)\n",
    "    distances = get_distances(left, right)\n",
    "    result = sum(distances)\n",
    "    print(result)"
   ]
  },
  {
   "cell_type": "code",
   "execution_count": null,
   "metadata": {},
   "outputs": [],
   "source": [
    "part_1(EXAMPLE)"
   ]
  },
  {
   "cell_type": "code",
   "execution_count": null,
   "metadata": {},
   "outputs": [],
   "source": [
    "part_1(INPUT)\n"
   ]
  },
  {
   "cell_type": "code",
   "execution_count": null,
   "metadata": {},
   "outputs": [],
   "source": [
    "def get_similarities(left: list[int], right: list[int]) -> list[int]:\n",
    "    similarities = []\n",
    "    for i in left:\n",
    "        similarities.append(i * right.count(i))\n",
    "    return similarities"
   ]
  },
  {
   "cell_type": "code",
   "execution_count": null,
   "metadata": {},
   "outputs": [],
   "source": [
    "def part_2(input_file_name: str) -> None:\n",
    "    left, right = get_lists(input_file_name)\n",
    "    similarities = get_similarities(left, right)\n",
    "    result = sum(similarities)\n",
    "    print(result)"
   ]
  },
  {
   "cell_type": "code",
   "execution_count": null,
   "metadata": {},
   "outputs": [],
   "source": [
    "part_2(EXAMPLE)"
   ]
  },
  {
   "cell_type": "code",
   "execution_count": null,
   "metadata": {},
   "outputs": [],
   "source": [
    "part_2(INPUT)\n"
   ]
  }
 ],
 "metadata": {
  "language_info": {
   "name": "python"
  }
 },
 "nbformat": 4,
 "nbformat_minor": 2
}
