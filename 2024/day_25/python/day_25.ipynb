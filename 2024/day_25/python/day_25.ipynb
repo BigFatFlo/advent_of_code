{
 "cells": [
  {
   "cell_type": "code",
   "execution_count": null,
   "metadata": {},
   "outputs": [],
   "source": [
    "from tabulate import tabulate\n",
    "\n",
    "EXAMPLE = \"../example.txt\"\n",
    "INPUT = \"../input.txt\""
   ]
  },
  {
   "cell_type": "code",
   "execution_count": null,
   "metadata": {},
   "outputs": [],
   "source": [
    "def parse_input(input_file_name):\n",
    "    keys = []\n",
    "    locks = []\n",
    "    current_key = None\n",
    "    current_lock = None\n",
    "    with open(input_file_name, 'r') as f:\n",
    "        for line in f:\n",
    "            if line == '\\n':\n",
    "                if current_key is not None:\n",
    "                    keys.append(current_key)\n",
    "                    current_key = None\n",
    "                if current_lock is not None:\n",
    "                    locks.append(current_lock)\n",
    "                    current_lock = None\n",
    "                continue\n",
    "            if current_key is None and current_lock is None:\n",
    "                if '.' in line:\n",
    "                    current_key = []\n",
    "                elif '#' in line:\n",
    "                    current_lock = []\n",
    "                else:\n",
    "                    raise(ValueError)\n",
    "            if current_key is not None:\n",
    "                current_key.append(line.strip().replace('\\n', ''))\n",
    "            if current_lock is not None:\n",
    "                current_lock.append(line.strip().replace('\\n', ''))\n",
    "        # Adding last lock/key as there is no empty line at the end of the file\n",
    "        if current_key is not None:\n",
    "            keys.append(current_key)\n",
    "            current_key = None\n",
    "        if current_lock is not None:\n",
    "            locks.append(current_lock)\n",
    "            current_lock = None\n",
    "    return keys, locks"
   ]
  },
  {
   "cell_type": "code",
   "execution_count": null,
   "metadata": {},
   "outputs": [],
   "source": [
    "keys, locks = parse_input(EXAMPLE)\n",
    "for key in keys:\n",
    "    print(tabulate(key))\n",
    "for lock in locks:\n",
    "    print(tabulate(lock))"
   ]
  },
  {
   "cell_type": "code",
   "execution_count": null,
   "metadata": {},
   "outputs": [],
   "source": [
    "def get_pin_heights(schematic):\n",
    "    height = len(schematic)\n",
    "    width = len(schematic[0])\n",
    "    pin_heights = []\n",
    "    for j in range(width):\n",
    "        nb_of_pins = 0\n",
    "        for i in range(1, height-1):\n",
    "            if schematic[i][j] == '#':\n",
    "                nb_of_pins += 1\n",
    "        pin_heights.append(nb_of_pins)\n",
    "    return tuple(pin_heights)"
   ]
  },
  {
   "cell_type": "code",
   "execution_count": null,
   "metadata": {},
   "outputs": [],
   "source": [
    "for key in keys:\n",
    "    print(get_pin_heights(key))\n",
    "for lock in locks:\n",
    "    print(get_pin_heights(lock))"
   ]
  },
  {
   "cell_type": "markdown",
   "metadata": {},
   "source": [
    "For each column, for each possible pin height, we build a set of all the keys that have that height for that column."
   ]
  },
  {
   "cell_type": "code",
   "execution_count": null,
   "metadata": {},
   "outputs": [],
   "source": [
    "def build_key_set():\n",
    "    key_set = []\n",
    "    for _ in range(5):\n",
    "        key_set.append([])\n",
    "        for _ in range(6):\n",
    "            key_set[-1].append(set())\n",
    "    return key_set"
   ]
  },
  {
   "cell_type": "code",
   "execution_count": null,
   "metadata": {},
   "outputs": [],
   "source": [
    "key_set = build_key_set()\n",
    "print(key_set)"
   ]
  },
  {
   "cell_type": "code",
   "execution_count": null,
   "metadata": {},
   "outputs": [],
   "source": [
    "def fill_key_set(key_set, keys):\n",
    "    for key in keys:\n",
    "        pin_heights = get_pin_heights(key)\n",
    "        for i in range(5):\n",
    "            pin_height = pin_heights[i]\n",
    "            key_set[i][pin_height].add(pin_heights)"
   ]
  },
  {
   "cell_type": "code",
   "execution_count": null,
   "metadata": {},
   "outputs": [],
   "source": [
    "fill_key_set(key_set, keys)\n",
    "print(key_set)"
   ]
  },
  {
   "cell_type": "markdown",
   "metadata": {},
   "source": [
    "Finding the pairs is now only a matter of calculating the intersection of all the necessary sets for each lock."
   ]
  },
  {
   "cell_type": "code",
   "execution_count": null,
   "metadata": {},
   "outputs": [],
   "source": [
    "def find_nb_of_pairs(key_set, locks):\n",
    "    total = 0\n",
    "    for lock in locks:\n",
    "        pin_heights = get_pin_heights(lock)\n",
    "        matching_keys = None\n",
    "        for i in range(5):\n",
    "            pin_height = pin_heights[i]\n",
    "            possible_matches = set()\n",
    "            for j in range(6):\n",
    "                if pin_height + j < 6:\n",
    "                    possible_matches |= key_set[i][j]\n",
    "            if matching_keys is None:\n",
    "                matching_keys = possible_matches\n",
    "            else:\n",
    "                matching_keys &= possible_matches\n",
    "        if matching_keys is not None:\n",
    "            total += len(matching_keys)\n",
    "    return total"
   ]
  },
  {
   "cell_type": "code",
   "execution_count": null,
   "metadata": {},
   "outputs": [],
   "source": [
    "def part_1(input_file_name):\n",
    "    keys, locks = parse_input(input_file_name)\n",
    "    key_set = build_key_set()\n",
    "    fill_key_set(key_set, keys)\n",
    "    result = find_nb_of_pairs(key_set, locks)\n",
    "    print(result)"
   ]
  },
  {
   "cell_type": "code",
   "execution_count": null,
   "metadata": {},
   "outputs": [],
   "source": [
    "part_1(EXAMPLE)"
   ]
  },
  {
   "cell_type": "code",
   "execution_count": null,
   "metadata": {},
   "outputs": [],
   "source": [
    "part_1(INPUT)"
   ]
  }
 ],
 "metadata": {
  "language_info": {
   "name": "python"
  }
 },
 "nbformat": 4,
 "nbformat_minor": 2
}
