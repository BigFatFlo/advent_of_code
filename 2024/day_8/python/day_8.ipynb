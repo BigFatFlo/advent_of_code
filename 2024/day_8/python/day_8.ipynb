{
 "cells": [
  {
   "cell_type": "code",
   "execution_count": null,
   "metadata": {},
   "outputs": [],
   "source": [
    "from tabulate import tabulate\n",
    "from itertools import combinations\n",
    "\n",
    "EXAMPLE = \"../example.txt\"\n",
    "INPUT = \"../input.txt\""
   ]
  },
  {
   "cell_type": "code",
   "execution_count": null,
   "metadata": {},
   "outputs": [],
   "source": [
    "def build_matrix(input_file_name):\n",
    "    matrix = []\n",
    "    with open(input_file_name, \"r\") as file:\n",
    "        for line in file:\n",
    "            row = [c for c in line.strip().replace(\"\\n\", \"\")]\n",
    "            matrix.append(row)\n",
    "    return matrix"
   ]
  },
  {
   "cell_type": "code",
   "execution_count": null,
   "metadata": {},
   "outputs": [],
   "source": [
    "matrix = build_matrix(EXAMPLE)\n",
    "height = len(matrix)\n",
    "width = len(matrix[0])\n",
    "print(tabulate(matrix))"
   ]
  },
  {
   "cell_type": "code",
   "execution_count": null,
   "metadata": {},
   "outputs": [],
   "source": [
    "def find_antennas(matrix):\n",
    "    antennas = {}\n",
    "    height = len(matrix)\n",
    "    width = len(matrix[0])\n",
    "    for i in range(height):\n",
    "        for j in range(width):\n",
    "            c = matrix[i][j]\n",
    "            if c != '.':\n",
    "                if c in antennas:\n",
    "                    antennas[c].add((i, j))\n",
    "                else:\n",
    "                    antennas[c] = set([(i, j)])\n",
    "    return antennas"
   ]
  },
  {
   "cell_type": "code",
   "execution_count": null,
   "metadata": {},
   "outputs": [],
   "source": [
    "antennas = find_antennas(matrix)\n",
    "print(antennas)"
   ]
  },
  {
   "cell_type": "code",
   "execution_count": null,
   "metadata": {},
   "outputs": [],
   "source": [
    "def find_antinodes_for_antennas_1(first_antenna, second_antenna, height, width):\n",
    "    row_f, col_f = first_antenna\n",
    "    row_s, col_s = second_antenna\n",
    "    row_distance = row_f - row_s\n",
    "    col_distance = col_f - col_s\n",
    "    result = []\n",
    "    for (new_row, new_col) in [(row_f + row_distance,  col_f + col_distance), (row_s - row_distance, col_s - col_distance)]:\n",
    "        if 0 <= new_row < height and 0 <= new_col < width:\n",
    "            result.append((new_row, new_col))\n",
    "    return result"
   ]
  },
  {
   "cell_type": "code",
   "execution_count": null,
   "metadata": {},
   "outputs": [],
   "source": [
    "for (first_antenna, second_antenna) in combinations(antennas['0'], r=2):\n",
    "    print(f\"{first_antenna} & {second_antenna}: {find_antinodes_for_antennas_1(first_antenna, second_antenna, height, width)}\")"
   ]
  },
  {
   "cell_type": "code",
   "execution_count": null,
   "metadata": {},
   "outputs": [],
   "source": [
    "def find_all_antinodes(all_antennas, find_antinodes, height, width):\n",
    "    antinodes = set()\n",
    "    for antennas in all_antennas.values():\n",
    "        for (first_antenna, second_antenna) in combinations(antennas, r=2):\n",
    "            for antinode in find_antinodes(first_antenna, second_antenna, height, width):\n",
    "                antinodes.add(antinode)\n",
    "    return antinodes"
   ]
  },
  {
   "cell_type": "code",
   "execution_count": null,
   "metadata": {},
   "outputs": [],
   "source": [
    "antinodes = find_all_antinodes(antennas, find_antinodes_for_antennas_1, height, width)\n",
    "print(antinodes)"
   ]
  },
  {
   "cell_type": "code",
   "execution_count": null,
   "metadata": {},
   "outputs": [],
   "source": [
    "def part_1(input_file_name):\n",
    "    matrix = build_matrix(input_file_name)\n",
    "    height = len(matrix)\n",
    "    width = len(matrix[0])\n",
    "    antennas = find_antennas(matrix)\n",
    "    antinodes = find_all_antinodes(antennas, find_antinodes_for_antennas_1, height, width)\n",
    "    result = len(antinodes)\n",
    "    print(result)"
   ]
  },
  {
   "cell_type": "code",
   "execution_count": null,
   "metadata": {},
   "outputs": [],
   "source": [
    "part_1(EXAMPLE)"
   ]
  },
  {
   "cell_type": "code",
   "execution_count": null,
   "metadata": {},
   "outputs": [],
   "source": [
    "part_1(INPUT)"
   ]
  },
  {
   "cell_type": "code",
   "execution_count": null,
   "metadata": {},
   "outputs": [],
   "source": [
    "def find_antinodes_for_antennas_2(first_antenna, second_antenna, height, width):\n",
    "    antinodes = set()\n",
    "    row_f, col_f = first_antenna\n",
    "    row_s, col_s = second_antenna\n",
    "    row_distance = row_f - row_s\n",
    "    col_distance = col_f - col_s\n",
    "    for rate in [-1, 1]:\n",
    "        i = 0\n",
    "        antinode_row = row_f + rate*i*row_distance\n",
    "        antinode_col = col_f + rate*i*col_distance\n",
    "        while 0 <= antinode_row < height and 0 <= antinode_col < width:\n",
    "            antinode = (antinode_row, antinode_col)\n",
    "            antinodes.add(antinode)\n",
    "            i+=1\n",
    "            antinode_row = row_f + rate*i*row_distance\n",
    "            antinode_col = col_f + rate*i*col_distance\n",
    "    return antinodes"
   ]
  },
  {
   "cell_type": "code",
   "execution_count": null,
   "metadata": {},
   "outputs": [],
   "source": [
    "for (first_antenna, second_antenna) in combinations(antennas['A'], r=2):\n",
    "    print(f\"{first_antenna} & {second_antenna}: {find_antinodes_for_antennas_2(first_antenna, second_antenna, height, width)}\")"
   ]
  },
  {
   "cell_type": "code",
   "execution_count": null,
   "metadata": {},
   "outputs": [],
   "source": [
    "def part_2(input_file_name):\n",
    "    matrix = build_matrix(input_file_name)\n",
    "    height = len(matrix)\n",
    "    width = len(matrix[0])\n",
    "    antennas = find_antennas(matrix)\n",
    "    antinodes = find_all_antinodes(antennas, find_antinodes_for_antennas_2, height, width)\n",
    "    result = len(antinodes)\n",
    "    print(result)"
   ]
  },
  {
   "cell_type": "code",
   "execution_count": null,
   "metadata": {},
   "outputs": [],
   "source": [
    "part_2(EXAMPLE)"
   ]
  },
  {
   "cell_type": "code",
   "execution_count": null,
   "metadata": {},
   "outputs": [],
   "source": [
    "part_2(INPUT)"
   ]
  }
 ],
 "metadata": {
  "language_info": {
   "name": "python"
  }
 },
 "nbformat": 4,
 "nbformat_minor": 2
}
