{
 "cells": [
  {
   "cell_type": "code",
   "execution_count": null,
   "metadata": {},
   "outputs": [],
   "source": [
    "from functools import cache\n",
    "\n",
    "EXAMPLE = \"../example.txt\"\n",
    "INPUT = \"../input.txt\""
   ]
  },
  {
   "cell_type": "code",
   "execution_count": null,
   "metadata": {},
   "outputs": [],
   "source": [
    "def get_codes(input_file_name):\n",
    "    codes = []\n",
    "    with open(input_file_name, 'r') as f:\n",
    "        for line in f:\n",
    "            codes.append(line.strip().replace(\"\\n\", \"\"))\n",
    "    return codes"
   ]
  },
  {
   "cell_type": "code",
   "execution_count": null,
   "metadata": {},
   "outputs": [],
   "source": [
    "codes = get_codes(EXAMPLE)\n",
    "print(codes)"
   ]
  },
  {
   "cell_type": "code",
   "execution_count": null,
   "metadata": {},
   "outputs": [],
   "source": [
    "DIGITS = {'A': (3, 2), '0': (3, 1), '1': (2, 0), '2': (2, 1), '3': (2, 2), '4': (1, 0), '5': (1, 1), '6': (1, 2), '7': (0, 0), '8': (0, 1), '9': (0, 2), 'FORBIDDEN': (3, 0)}\n",
    "ARROWS = {'A': (0, 2), '^': (0, 1), '<': (1, 0), 'v': (1, 1), '>': (1, 2), 'FORBIDDEN': (0, 0)}"
   ]
  },
  {
   "cell_type": "code",
   "execution_count": null,
   "metadata": {},
   "outputs": [],
   "source": [
    "def get_arrow_moves_between_entities(e1, e2, desc):\n",
    "    vertical_diff = desc[e2][0] - desc[e1][0]\n",
    "    horizontal_diff = desc[e2][1] - desc[e1][1]\n",
    "    nb_of_vertical_moves = abs(vertical_diff)\n",
    "    nb_of_horizontal_moves = abs(horizontal_diff)\n",
    "    moves = {'^': 0, '<': 0, 'v': 0, '>': 0}\n",
    "    if vertical_diff <= 0:\n",
    "        moves['^'] = nb_of_vertical_moves\n",
    "    else:\n",
    "        moves['v'] = nb_of_vertical_moves\n",
    "    if horizontal_diff >= 0:\n",
    "        moves['>'] = nb_of_horizontal_moves\n",
    "    else:\n",
    "        moves['<'] = nb_of_horizontal_moves\n",
    "    return moves"
   ]
  },
  {
   "cell_type": "code",
   "execution_count": null,
   "metadata": {},
   "outputs": [],
   "source": [
    "@cache\n",
    "def get_arrow_moves_between_digits(d1, d2):\n",
    "    return get_arrow_moves_between_entities(d1, d2, DIGITS)\n",
    "\n",
    "@cache\n",
    "def get_arrow_moves_between_arrows(a1, a2):\n",
    "    return get_arrow_moves_between_entities(a1, a2, ARROWS)"
   ]
  },
  {
   "cell_type": "code",
   "execution_count": null,
   "metadata": {},
   "outputs": [],
   "source": [
    "print(\"0 to 9: \", get_arrow_moves_between_digits('0', '9'))\n",
    "print(\"7 to 2: \", get_arrow_moves_between_digits('7', '2'))\n",
    "print(\"A to <: \", get_arrow_moves_between_arrows('A', '<'))\n",
    "print(\"^ to >: \", get_arrow_moves_between_arrows('^', '>'))"
   ]
  },
  {
   "cell_type": "code",
   "execution_count": null,
   "metadata": {},
   "outputs": [],
   "source": [
    "def get_possible_sequences(arrow_moves: dict) -> list[str]:\n",
    "    sequences = []\n",
    "    if not any([nb > 0 for nb in arrow_moves.values()]):\n",
    "        return [\"\"]\n",
    "    for arrow, nb in arrow_moves.items():\n",
    "        if nb > 0:\n",
    "            new_arrow_moves = arrow_moves.copy()\n",
    "            new_arrow_moves[arrow] -= 1\n",
    "            sequences += [arrow + tail for tail in get_possible_sequences(new_arrow_moves)]\n",
    "    return sequences"
   ]
  },
  {
   "cell_type": "code",
   "execution_count": null,
   "metadata": {},
   "outputs": [],
   "source": [
    "print(\"0 to 9: \", get_arrow_moves_between_digits('0', '9'))\n",
    "print(get_possible_sequences(get_arrow_moves_between_digits('0', '9')))\n",
    "print(\"7 to 2: \", get_arrow_moves_between_digits('7', '2'))\n",
    "print(get_possible_sequences(get_arrow_moves_between_digits('7', '2')))\n",
    "print(\"3 to 7: \", get_arrow_moves_between_digits('3', '7'))\n",
    "print(get_possible_sequences(get_arrow_moves_between_digits('3', '7')))"
   ]
  },
  {
   "cell_type": "code",
   "execution_count": null,
   "metadata": {},
   "outputs": [],
   "source": [
    "ARROW_OFFSET = {'^': (-1, 0), '<': (0, -1), 'v': (1, 0), '>': (0, 1)}"
   ]
  },
  {
   "cell_type": "markdown",
   "metadata": {},
   "source": [
    "Find all the sequences of buttons to press on the n+1 level keypad in order to go from one place to another and press a button on the n level keypad"
   ]
  },
  {
   "cell_type": "code",
   "execution_count": null,
   "metadata": {},
   "outputs": [],
   "source": [
    "def get_possible_sequences_between_entities(e1, e2, desc):\n",
    "    arrow_moves = get_arrow_moves_between_entities(e1, e2, desc)\n",
    "    sequences = get_possible_sequences(arrow_moves)\n",
    "    possible_moves = []\n",
    "    start_row, start_col = desc[e1]\n",
    "    end_row, end_col = desc[e2]\n",
    "    for sequence in sequences:\n",
    "        row, col = start_row, start_col\n",
    "        for arrow in sequence:\n",
    "            r, c = row + ARROW_OFFSET[arrow][0], col + ARROW_OFFSET[arrow][1]\n",
    "            if (r, c) == desc[\"FORBIDDEN\"]:\n",
    "                break\n",
    "            row, col = r, c\n",
    "        if (row, col) == (end_row, end_col):\n",
    "            possible_moves.append(sequence + 'A')\n",
    "    return possible_moves"
   ]
  },
  {
   "cell_type": "code",
   "execution_count": null,
   "metadata": {},
   "outputs": [],
   "source": [
    "@cache\n",
    "def get_possible_sequences_between_digits(d1, d2):\n",
    "    return get_possible_sequences_between_entities(d1, d2, DIGITS)\n",
    "\n",
    "@cache\n",
    "def get_possible_sequences_between_arrows(a1, a2):\n",
    "    return get_possible_sequences_between_entities(a1, a2, ARROWS)"
   ]
  },
  {
   "cell_type": "code",
   "execution_count": null,
   "metadata": {},
   "outputs": [],
   "source": [
    "print(get_possible_sequences_between_digits('0', '9'))\n",
    "print(get_possible_sequences_between_digits('7', 'A'))\n",
    "print(get_possible_sequences_between_arrows('A', '<'))"
   ]
  },
  {
   "cell_type": "code",
   "execution_count": null,
   "metadata": {},
   "outputs": [],
   "source": [
    "def get_level1_sequences_for_level0_sequence(l0_seq):\n",
    "    level_1_sequences = ['']\n",
    "    i = 0\n",
    "    while i < len(l0_seq) - 1:\n",
    "        d1, d2 = l0_seq[i], l0_seq[i + 1]\n",
    "        l1_seqs = get_possible_sequences_between_entities(d1, d2, DIGITS)\n",
    "        new_l1_sequences = []\n",
    "        for current_l1_seq in level_1_sequences:\n",
    "            for l1_seq in l1_seqs:\n",
    "                new_l1_sequences.append(current_l1_seq + l1_seq)\n",
    "        level_1_sequences = new_l1_sequences\n",
    "        i += 1\n",
    "    return level_1_sequences"
   ]
  },
  {
   "cell_type": "code",
   "execution_count": null,
   "metadata": {},
   "outputs": [],
   "source": [
    "print(get_level1_sequences_for_level0_sequence(\"A029A\"))"
   ]
  },
  {
   "cell_type": "code",
   "execution_count": null,
   "metadata": {},
   "outputs": [],
   "source": [
    "def get_next_level_sequences_for_sequence(seq, desc):\n",
    "    next_level_sequences = ['']\n",
    "    i = 0\n",
    "    while i < len(seq) - 1:\n",
    "        e1, e2 = seq[i], seq[i + 1]\n",
    "        next_seqs = get_possible_sequences_between_entities(e1, e2, desc)\n",
    "        new_sequences = []\n",
    "        for current_seq in next_level_sequences:\n",
    "            for next_seq in next_seqs:\n",
    "                new_sequences.append(current_seq + next_seq)\n",
    "        next_level_sequences = new_sequences\n",
    "        i += 1\n",
    "    return next_level_sequences"
   ]
  },
  {
   "cell_type": "code",
   "execution_count": null,
   "metadata": {},
   "outputs": [],
   "source": [
    "@cache\n",
    "def get_next_level_sequences_for_sequence_of_digits(seq):\n",
    "    return get_next_level_sequences_for_sequence(seq, DIGITS)\n",
    "\n",
    "@cache\n",
    "def get_next_level_sequences_for_sequence_of_arrows(seq):\n",
    "    return get_next_level_sequences_for_sequence(seq, ARROWS)"
   ]
  },
  {
   "cell_type": "code",
   "execution_count": null,
   "metadata": {},
   "outputs": [],
   "source": [
    "print(get_next_level_sequences_for_sequence_of_digits(\"A0\"))\n",
    "print(get_next_level_sequences_for_sequence_of_arrows(\"A<A\"))\n",
    "print(get_next_level_sequences_for_sequence_of_arrows(\"Av<<A>>^A\")) # Answer: <vA<AA>>^AvAA<^A>A"
   ]
  },
  {
   "cell_type": "code",
   "execution_count": null,
   "metadata": {},
   "outputs": [],
   "source": [
    "def get_last_level_sequences_for_first_level_digits(d1, d2):\n",
    "    seq = d1 + d2\n",
    "    level1_sequences = get_next_level_sequences_for_sequence_of_digits(seq)\n",
    "    level2_sequences = []\n",
    "    for l1_seq in level1_sequences:\n",
    "        level2_sequences.extend(get_next_level_sequences_for_sequence_of_arrows('A' + l1_seq))\n",
    "    level3_sequences = []\n",
    "    for l2_seq in level2_sequences:\n",
    "        level3_sequences.extend(get_next_level_sequences_for_sequence_of_arrows('A' + l2_seq))\n",
    "    return level3_sequences"
   ]
  },
  {
   "cell_type": "code",
   "execution_count": null,
   "metadata": {},
   "outputs": [],
   "source": [
    "print(get_last_level_sequences_for_first_level_digits('A', '0'))\n",
    "print(get_last_level_sequences_for_first_level_digits('0', '2'))\n",
    "print(get_last_level_sequences_for_first_level_digits('2', '9'))\n",
    "print(get_last_level_sequences_for_first_level_digits('9', 'A'))"
   ]
  },
  {
   "cell_type": "code",
   "execution_count": null,
   "metadata": {},
   "outputs": [],
   "source": [
    "def get_min_length_for_code(code):\n",
    "    code = 'A' + code\n",
    "    result = 0\n",
    "    i = 0\n",
    "    while i < len(code) - 1:\n",
    "        d1, d2 = code[i], code[i+1]\n",
    "        seqs = get_last_level_sequences_for_first_level_digits(d1, d2)\n",
    "        min_l = min([len(s) for s in seqs])\n",
    "        result += min_l\n",
    "        i+=1\n",
    "    return result"
   ]
  },
  {
   "cell_type": "code",
   "execution_count": null,
   "metadata": {},
   "outputs": [],
   "source": [
    "for code in codes:\n",
    "    print(get_min_length_for_code(code))"
   ]
  },
  {
   "cell_type": "code",
   "execution_count": null,
   "metadata": {},
   "outputs": [],
   "source": [
    "def part_1(input_file_name):\n",
    "    codes = get_codes(input_file_name)\n",
    "    result = 0\n",
    "    for code in codes:\n",
    "        number = int(code[:-1])\n",
    "        length = get_min_length_for_code(code)\n",
    "        complexity = number * length\n",
    "        result += complexity\n",
    "    print(result)"
   ]
  },
  {
   "cell_type": "code",
   "execution_count": null,
   "metadata": {},
   "outputs": [],
   "source": [
    "part_1(EXAMPLE)"
   ]
  },
  {
   "cell_type": "code",
   "execution_count": null,
   "metadata": {},
   "outputs": [],
   "source": [
    "part_1(INPUT)"
   ]
  },
  {
   "cell_type": "code",
   "execution_count": null,
   "metadata": {},
   "outputs": [],
   "source": [
    "TRANSITIONS = {}\n",
    "for a1 in ARROWS:\n",
    "    for a2 in ARROWS:\n",
    "        TRANSITIONS[(a1, a2)] = sum(get_arrow_moves_between_arrows(a1, a2).values())\n",
    "print(TRANSITIONS)"
   ]
  },
  {
   "cell_type": "code",
   "execution_count": null,
   "metadata": {},
   "outputs": [],
   "source": [
    "def transitions_from_seq(seq):\n",
    "    transitions = {}\n",
    "    i = 0\n",
    "    while i < len(seq) - 1:\n",
    "        transition = (seq[i], seq[i+1])\n",
    "        if transition in transitions:\n",
    "            transitions[transition] += 1\n",
    "        else:\n",
    "            transitions[transition] = 1\n",
    "        i+=1\n",
    "    return transitions"
   ]
  },
  {
   "cell_type": "code",
   "execution_count": null,
   "metadata": {},
   "outputs": [],
   "source": [
    "def get_next_transitions_list(transition):\n",
    "    (a0, a1) = transition\n",
    "    sequences = get_possible_sequences_between_arrows(a0, a1)\n",
    "    # min_score = -1\n",
    "    # next_transitions = (-1, -1)\n",
    "    transitions_list = []\n",
    "    # print(len(sequences))\n",
    "    for seq in sequences:\n",
    "        transitions = transitions_from_seq('A' + seq)\n",
    "        transitions_list.append(transitions)\n",
    "        # score = sum([TRANSITIONS[t] for t in transitions])\n",
    "        # if min_score == -1 or score < min_score:\n",
    "        #     min_score = score\n",
    "        #     next_transitions = transitions\n",
    "    return transitions_list"
   ]
  },
  {
   "cell_type": "markdown",
   "metadata": {},
   "source": [
    "Maybe I should just try all possible versions of NEXT_TRANSITIONS"
   ]
  },
  {
   "cell_type": "code",
   "execution_count": null,
   "metadata": {},
   "outputs": [],
   "source": [
    "next_possible_transitions = []\n",
    "for transition in TRANSITIONS:\n",
    "    transitions_list = get_next_transitions_list(transition)\n",
    "    new_dict_list = []\n",
    "    if not transitions_list:\n",
    "        continue\n",
    "    for transitions in transitions_list:\n",
    "        if not next_possible_transitions:\n",
    "            new_dict = {}\n",
    "            new_dict[transition] = transitions\n",
    "            new_dict_list.append(new_dict)\n",
    "        else:\n",
    "            for next_transitions_dict in next_possible_transitions:\n",
    "                new_dict = next_transitions_dict.copy()\n",
    "                new_dict[transition] = transitions\n",
    "                new_dict_list.append(new_dict)\n",
    "    next_possible_transitions = new_dict_list\n",
    "    # print(next_possible_transitions)\n",
    "\n",
    "NEXT_TRANSITIONS = next_possible_transitions\n",
    "\n",
    "# print(NEXT_TRANSITIONS)\n",
    "print(len(NEXT_TRANSITIONS))\n",
    "for transitions in NEXT_TRANSITIONS:\n",
    "    print(transitions)"
   ]
  },
  {
   "cell_type": "code",
   "execution_count": null,
   "metadata": {},
   "outputs": [],
   "source": [
    "def get_next_level(transitions, next_transitions):\n",
    "    next_level_transitions = {}\n",
    "    for transition, i in transitions.items():\n",
    "        for next_transition, j in next_transitions[transition].items():\n",
    "            if next_transition in next_level_transitions:\n",
    "                next_level_transitions[next_transition] += i*j\n",
    "            else:\n",
    "                next_level_transitions[next_transition] = i*j\n",
    "    return next_level_transitions"
   ]
  },
  {
   "cell_type": "code",
   "execution_count": null,
   "metadata": {},
   "outputs": [],
   "source": [
    "min_l1 = -1\n",
    "min_l2 = -1\n",
    "for next_transitions in NEXT_TRANSITIONS:\n",
    "    level_0 = transitions_from_seq(\"A<A^A>^^AvvvA\")\n",
    "    level_1 = get_next_level(level_0, next_transitions)\n",
    "    length_1 = sum(level_1.values()) + 1\n",
    "    if min_l1 == -1 or length_1 < min_l1:\n",
    "        min_l1 = length_1\n",
    "    level_2 = get_next_level(level_1, next_transitions)\n",
    "    length_2 = sum(level_2.values()) + 1\n",
    "    if min_l2 == -1 or length_2 < min_l2:\n",
    "        min_l2 = length_2\n",
    "\n",
    "print(min_l1)\n",
    "print(len(\"Av<<A>>^A<A>AvA<^AA>A<vAAA>^A\"))\n",
    "print(min_l2)\n",
    "print(len(\"A<vA<AA>>^AvAA<^A>A<v<A>>^AvA^A<vA>^A<v<A>^A>AAvA^A<v<A>A>^AAAvA<^A>A\"))"
   ]
  },
  {
   "cell_type": "code",
   "execution_count": null,
   "metadata": {},
   "outputs": [],
   "source": [
    "def get_min_length_for_level_0_sequence(level_0_seq, nb_of_dir_keypads):\n",
    "    min_l = -1\n",
    "    for next_transitions in NEXT_TRANSITIONS:\n",
    "        level = transitions_from_seq('A' + level_0_seq)\n",
    "        for _ in range(nb_of_dir_keypads):\n",
    "            level = get_next_level(level, next_transitions)\n",
    "        length = sum(level.values())\n",
    "        if min_l == -1 or length < min_l:\n",
    "            min_l = length\n",
    "    return min_l"
   ]
  },
  {
   "cell_type": "code",
   "execution_count": null,
   "metadata": {},
   "outputs": [],
   "source": [
    "print(get_min_length_for_level_0_sequence(\"<A^A>^^AvvvA\", 2))"
   ]
  },
  {
   "cell_type": "code",
   "execution_count": null,
   "metadata": {},
   "outputs": [],
   "source": [
    "def get_level0_sequences_for_code(code):\n",
    "    code = \"A\" + code\n",
    "    i = 0\n",
    "    sequences = []\n",
    "    while i < len(code) - 1:\n",
    "        d1, d2 = code[i], code[i + 1]\n",
    "        seq = d1 + d2\n",
    "        level_0_sequences = get_next_level_sequences_for_sequence_of_digits(seq)\n",
    "        sequences.append(level_0_sequences)\n",
    "        i += 1\n",
    "    for i in range(1, len(sequences)):\n",
    "        new_sequences = []\n",
    "        for new_sequence in sequences[i]:\n",
    "            for old_sequence in sequences[i - 1]:\n",
    "                new_sequences.append(old_sequence + new_sequence)\n",
    "        sequences[i] = new_sequences\n",
    "    return sequences[-1]"
   ]
  },
  {
   "cell_type": "code",
   "execution_count": null,
   "metadata": {},
   "outputs": [],
   "source": [
    "print(get_level0_sequences_for_code(\"029A\"))"
   ]
  },
  {
   "cell_type": "code",
   "execution_count": null,
   "metadata": {},
   "outputs": [],
   "source": [
    "def get_min_length_for_code(code, nb_of_dir_keypads):\n",
    "    level_0_sequences = get_level0_sequences_for_code(code)\n",
    "    lengths = []\n",
    "    for level_0_seq in level_0_sequences:\n",
    "        min_l = get_min_length_for_level_0_sequence(level_0_seq, nb_of_dir_keypads)\n",
    "        lengths.append(min_l)\n",
    "    return min(lengths)"
   ]
  },
  {
   "cell_type": "code",
   "execution_count": null,
   "metadata": {},
   "outputs": [],
   "source": [
    "def part_2(input_file_name):\n",
    "    codes = get_codes(input_file_name)\n",
    "    result = 0\n",
    "    for code in codes:\n",
    "        number = int(code[:-1])\n",
    "        length = get_min_length_for_code(code, 25)\n",
    "        complexity = number * length\n",
    "        result += complexity\n",
    "    print(result)"
   ]
  },
  {
   "cell_type": "code",
   "execution_count": null,
   "metadata": {},
   "outputs": [],
   "source": [
    "part_2(EXAMPLE)"
   ]
  },
  {
   "cell_type": "code",
   "execution_count": null,
   "metadata": {},
   "outputs": [],
   "source": [
    "part_2(INPUT)"
   ]
  },
  {
   "cell_type": "code",
   "execution_count": null,
   "metadata": {},
   "outputs": [],
   "source": []
  }
 ],
 "metadata": {
  "language_info": {
   "name": "python"
  }
 },
 "nbformat": 4,
 "nbformat_minor": 2
}
