{
 "cells": [
  {
   "cell_type": "code",
   "execution_count": null,
   "metadata": {},
   "outputs": [],
   "source": [
    "from functools import cache\n",
    "\n",
    "EXAMPLE = \"../example.txt\"\n",
    "INPUT = \"../input.txt\""
   ]
  },
  {
   "cell_type": "code",
   "execution_count": null,
   "metadata": {},
   "outputs": [],
   "source": [
    "def get_codes(input_file_name):\n",
    "    codes = []\n",
    "    with open(input_file_name, \"r\") as f:\n",
    "        for line in f:\n",
    "            codes.append(line.strip().replace(\"\\n\", \"\"))\n",
    "    return codes"
   ]
  },
  {
   "cell_type": "code",
   "execution_count": null,
   "metadata": {},
   "outputs": [],
   "source": [
    "codes = get_codes(EXAMPLE)\n",
    "print(codes)"
   ]
  },
  {
   "cell_type": "code",
   "execution_count": null,
   "metadata": {},
   "outputs": [],
   "source": [
    "# Coordinates of each digit/arrow in their respective keypads (seen as a matrix)\n",
    "DIGITS = {\n",
    "    \"A\": (3, 2),\n",
    "    \"0\": (3, 1),\n",
    "    \"1\": (2, 0),\n",
    "    \"2\": (2, 1),\n",
    "    \"3\": (2, 2),\n",
    "    \"4\": (1, 0),\n",
    "    \"5\": (1, 1),\n",
    "    \"6\": (1, 2),\n",
    "    \"7\": (0, 0),\n",
    "    \"8\": (0, 1),\n",
    "    \"9\": (0, 2),\n",
    "    \"FORBIDDEN\": (3, 0),\n",
    "}\n",
    "ARROWS = {\n",
    "    \"A\": (0, 2),\n",
    "    \"^\": (0, 1),\n",
    "    \"<\": (1, 0),\n",
    "    \"v\": (1, 1),\n",
    "    \">\": (1, 2),\n",
    "    \"FORBIDDEN\": (0, 0),\n",
    "}"
   ]
  },
  {
   "cell_type": "markdown",
   "metadata": {},
   "source": [
    "Let's find the number of vertical and horizontal moves needed to go from one digit/arrow to another\n"
   ]
  },
  {
   "cell_type": "code",
   "execution_count": null,
   "metadata": {},
   "outputs": [],
   "source": [
    "def get_arrow_moves_between_entities(e1, e2, desc):\n",
    "    vertical_diff = desc[e2][0] - desc[e1][0]\n",
    "    horizontal_diff = desc[e2][1] - desc[e1][1]\n",
    "    nb_of_vertical_moves = abs(vertical_diff)\n",
    "    nb_of_horizontal_moves = abs(horizontal_diff)\n",
    "    moves = {\"^\": 0, \"<\": 0, \"v\": 0, \">\": 0}\n",
    "    if vertical_diff <= 0:\n",
    "        moves[\"^\"] = nb_of_vertical_moves\n",
    "    else:\n",
    "        moves[\"v\"] = nb_of_vertical_moves\n",
    "    if horizontal_diff >= 0:\n",
    "        moves[\">\"] = nb_of_horizontal_moves\n",
    "    else:\n",
    "        moves[\"<\"] = nb_of_horizontal_moves\n",
    "    return moves"
   ]
  },
  {
   "cell_type": "code",
   "execution_count": null,
   "metadata": {},
   "outputs": [],
   "source": [
    "@cache\n",
    "def get_arrow_moves_between_digits(d1, d2):\n",
    "    return get_arrow_moves_between_entities(d1, d2, DIGITS)\n",
    "\n",
    "\n",
    "@cache\n",
    "def get_arrow_moves_between_arrows(a1, a2):\n",
    "    return get_arrow_moves_between_entities(a1, a2, ARROWS)"
   ]
  },
  {
   "cell_type": "code",
   "execution_count": null,
   "metadata": {},
   "outputs": [],
   "source": [
    "print(\"0 to 9: \", get_arrow_moves_between_digits(\"0\", \"9\"))\n",
    "print(\"7 to 2: \", get_arrow_moves_between_digits(\"7\", \"2\"))\n",
    "print(\"A to <: \", get_arrow_moves_between_arrows(\"A\", \"<\"))\n",
    "print(\"^ to >: \", get_arrow_moves_between_arrows(\"^\", \">\"))"
   ]
  },
  {
   "cell_type": "markdown",
   "metadata": {},
   "source": [
    "Now we can find all the different ways to make a certain number of horizontal and vertical moves\n"
   ]
  },
  {
   "cell_type": "code",
   "execution_count": null,
   "metadata": {},
   "outputs": [],
   "source": [
    "def get_possible_sequences(arrow_moves: dict) -> list[str]:\n",
    "    sequences = []\n",
    "    if not any([nb > 0 for nb in arrow_moves.values()]):\n",
    "        return [\"\"]\n",
    "    for arrow, nb in arrow_moves.items():\n",
    "        if nb > 0:\n",
    "            new_arrow_moves = arrow_moves.copy()\n",
    "            new_arrow_moves[arrow] -= 1\n",
    "            sequences += [\n",
    "                arrow + tail for tail in get_possible_sequences(new_arrow_moves)\n",
    "            ]\n",
    "    return sequences"
   ]
  },
  {
   "cell_type": "code",
   "execution_count": null,
   "metadata": {},
   "outputs": [],
   "source": [
    "print(\"0 to 9: \", get_arrow_moves_between_digits(\"0\", \"9\"))\n",
    "print(get_possible_sequences(get_arrow_moves_between_digits(\"0\", \"9\")))\n",
    "print(\"7 to 2: \", get_arrow_moves_between_digits(\"7\", \"2\"))\n",
    "print(get_possible_sequences(get_arrow_moves_between_digits(\"7\", \"2\")))\n",
    "print(\"3 to 7: \", get_arrow_moves_between_digits(\"3\", \"7\"))\n",
    "print(get_possible_sequences(get_arrow_moves_between_digits(\"3\", \"7\")))"
   ]
  },
  {
   "cell_type": "code",
   "execution_count": null,
   "metadata": {},
   "outputs": [],
   "source": [
    "# The effect of an arrow on coordinates\n",
    "ARROW_OFFSET = {\"^\": (-1, 0), \"<\": (0, -1), \"v\": (1, 0), \">\": (0, 1)}"
   ]
  },
  {
   "cell_type": "markdown",
   "metadata": {},
   "source": [
    "The digit keypad is the level 0 keypad, the first directional keypad is level 1, etc.\n",
    "\n",
    "Find all the sequences of buttons to press on the (n+1)-level keypad in order to go from one place to another and press a button on the n-level keypad.\n"
   ]
  },
  {
   "cell_type": "code",
   "execution_count": null,
   "metadata": {},
   "outputs": [],
   "source": [
    "def get_possible_sequences_between_entities(e1, e2, desc):\n",
    "    arrow_moves = get_arrow_moves_between_entities(e1, e2, desc)\n",
    "    sequences = get_possible_sequences(arrow_moves)\n",
    "    possible_moves = []\n",
    "    start_row, start_col = desc[e1]\n",
    "    end_row, end_col = desc[e2]\n",
    "    for sequence in sequences:\n",
    "        row, col = start_row, start_col\n",
    "        for arrow in sequence:\n",
    "            r, c = row + ARROW_OFFSET[arrow][0], col + ARROW_OFFSET[arrow][1]\n",
    "            if (r, c) == desc[\"FORBIDDEN\"]:\n",
    "                break\n",
    "            row, col = r, c\n",
    "        if (row, col) == (end_row, end_col):\n",
    "            # Add A at the end of the sequence because we want the final button to be pressed on the n level keypad\n",
    "            possible_moves.append(sequence + \"A\")\n",
    "    return possible_moves"
   ]
  },
  {
   "cell_type": "code",
   "execution_count": null,
   "metadata": {},
   "outputs": [],
   "source": [
    "@cache\n",
    "def get_possible_sequences_between_digits(d1, d2):\n",
    "    return get_possible_sequences_between_entities(d1, d2, DIGITS)\n",
    "\n",
    "\n",
    "@cache\n",
    "def get_possible_sequences_between_arrows(a1, a2):\n",
    "    return get_possible_sequences_between_entities(a1, a2, ARROWS)"
   ]
  },
  {
   "cell_type": "code",
   "execution_count": null,
   "metadata": {},
   "outputs": [],
   "source": [
    "print(get_possible_sequences_between_digits(\"0\", \"9\"))\n",
    "print(get_possible_sequences_between_digits(\"7\", \"A\"))\n",
    "print(get_possible_sequences_between_arrows(\"A\", \"<\"))"
   ]
  },
  {
   "cell_type": "markdown",
   "metadata": {},
   "source": [
    "Find all the ways to press buttons on the level 1 keypad in order to have a certain sequence of button presses on the level 0 keypad\n"
   ]
  },
  {
   "cell_type": "code",
   "execution_count": null,
   "metadata": {},
   "outputs": [],
   "source": [
    "def get_level1_sequences_for_level0_sequence(l0_seq):\n",
    "    level_1_sequences = [\"\"]\n",
    "    i = 0\n",
    "    while i < len(l0_seq) - 1:\n",
    "        d1, d2 = l0_seq[i], l0_seq[i + 1]\n",
    "        l1_seqs = get_possible_sequences_between_entities(d1, d2, DIGITS)\n",
    "        new_l1_sequences = []\n",
    "        for current_l1_seq in level_1_sequences:\n",
    "            for l1_seq in l1_seqs:\n",
    "                new_l1_sequences.append(current_l1_seq + l1_seq)\n",
    "        level_1_sequences = new_l1_sequences\n",
    "        i += 1\n",
    "    return level_1_sequences"
   ]
  },
  {
   "cell_type": "code",
   "execution_count": null,
   "metadata": {},
   "outputs": [],
   "source": [
    "print(get_level1_sequences_for_level0_sequence(\"A029A\"))"
   ]
  },
  {
   "cell_type": "markdown",
   "metadata": {},
   "source": [
    "Let's generalize the previous function to go from an n-level sequence to (n+1)-level sequences\n"
   ]
  },
  {
   "cell_type": "code",
   "execution_count": null,
   "metadata": {},
   "outputs": [],
   "source": [
    "def get_next_level_sequences_for_sequence(seq, desc):\n",
    "    next_level_sequences = [\"\"]\n",
    "    i = 0\n",
    "    while i < len(seq) - 1:\n",
    "        e1, e2 = seq[i], seq[i + 1]\n",
    "        next_seqs = get_possible_sequences_between_entities(e1, e2, desc)\n",
    "        new_sequences = []\n",
    "        for current_seq in next_level_sequences:\n",
    "            for next_seq in next_seqs:\n",
    "                new_sequences.append(current_seq + next_seq)\n",
    "        next_level_sequences = new_sequences\n",
    "        i += 1\n",
    "    return next_level_sequences"
   ]
  },
  {
   "cell_type": "code",
   "execution_count": null,
   "metadata": {},
   "outputs": [],
   "source": [
    "@cache\n",
    "def get_next_level_sequences_for_sequence_of_digits(seq):\n",
    "    return get_next_level_sequences_for_sequence(seq, DIGITS)\n",
    "\n",
    "\n",
    "@cache\n",
    "def get_next_level_sequences_for_sequence_of_arrows(seq):\n",
    "    return get_next_level_sequences_for_sequence(seq, ARROWS)"
   ]
  },
  {
   "cell_type": "code",
   "execution_count": null,
   "metadata": {},
   "outputs": [],
   "source": [
    "print(get_next_level_sequences_for_sequence_of_digits(\"A0\"))\n",
    "print(get_next_level_sequences_for_sequence_of_arrows(\"A<A\"))\n",
    "print(\n",
    "    get_next_level_sequences_for_sequence_of_arrows(\"Av<<A>>^A\")\n",
    ")  # Answer: <vA<AA>>^AvAA<^A>A"
   ]
  },
  {
   "cell_type": "markdown",
   "metadata": {},
   "source": [
    "Now we can find all the last level sequences that allow the level 0 robot to go from one digit to another and press it\n"
   ]
  },
  {
   "cell_type": "code",
   "execution_count": null,
   "metadata": {},
   "outputs": [],
   "source": [
    "def get_last_level_sequences_for_first_level_digits(d1, d2):\n",
    "    seq = d1 + d2\n",
    "    level1_sequences = get_next_level_sequences_for_sequence_of_digits(seq)\n",
    "    level2_sequences = []\n",
    "    for l1_seq in level1_sequences:\n",
    "        level2_sequences.extend(\n",
    "            get_next_level_sequences_for_sequence_of_arrows(\"A\" + l1_seq)\n",
    "        )\n",
    "    level3_sequences = []\n",
    "    for l2_seq in level2_sequences:\n",
    "        level3_sequences.extend(\n",
    "            get_next_level_sequences_for_sequence_of_arrows(\"A\" + l2_seq)\n",
    "        )\n",
    "    return level3_sequences"
   ]
  },
  {
   "cell_type": "code",
   "execution_count": null,
   "metadata": {},
   "outputs": [],
   "source": [
    "print(get_last_level_sequences_for_first_level_digits(\"A\", \"0\"))\n",
    "print(get_last_level_sequences_for_first_level_digits(\"0\", \"2\"))\n",
    "print(get_last_level_sequences_for_first_level_digits(\"2\", \"9\"))\n",
    "print(get_last_level_sequences_for_first_level_digits(\"9\", \"A\"))"
   ]
  },
  {
   "cell_type": "markdown",
   "metadata": {},
   "source": [
    "We just need to go through all the digits in the code and find the minimal sequence at the last level to go from one digit to the next\n"
   ]
  },
  {
   "cell_type": "code",
   "execution_count": null,
   "metadata": {},
   "outputs": [],
   "source": [
    "def get_min_length_for_code(code):\n",
    "    code = \"A\" + code\n",
    "    result = 0\n",
    "    i = 0\n",
    "    while i < len(code) - 1:\n",
    "        d1, d2 = code[i], code[i + 1]\n",
    "        seqs = get_last_level_sequences_for_first_level_digits(d1, d2)\n",
    "        min_l = min([len(s) for s in seqs])\n",
    "        result += min_l\n",
    "        i += 1\n",
    "    return result"
   ]
  },
  {
   "cell_type": "code",
   "execution_count": null,
   "metadata": {},
   "outputs": [],
   "source": [
    "for code in codes:\n",
    "    print(get_min_length_for_code(code))"
   ]
  },
  {
   "cell_type": "code",
   "execution_count": null,
   "metadata": {},
   "outputs": [],
   "source": [
    "def part_1(input_file_name):\n",
    "    codes = get_codes(input_file_name)\n",
    "    result = 0\n",
    "    for code in codes:\n",
    "        number = int(code[:-1])\n",
    "        length = get_min_length_for_code(code)\n",
    "        complexity = number * length\n",
    "        result += complexity\n",
    "    print(result)"
   ]
  },
  {
   "cell_type": "code",
   "execution_count": null,
   "metadata": {},
   "outputs": [],
   "source": [
    "part_1(EXAMPLE)"
   ]
  },
  {
   "cell_type": "code",
   "execution_count": null,
   "metadata": {},
   "outputs": [],
   "source": [
    "part_1(INPUT)"
   ]
  },
  {
   "cell_type": "markdown",
   "metadata": {},
   "source": [
    "Unfortunately, the previous way of doing things doesn't scale to 25 robot controlled directional keypads (or even to 3 for that matter...)\n",
    "\n",
    "We need a more efficient way of modelizing all this.\n",
    "\n",
    "The key is to view a sequence of button presses as a set of transitions from one button to another.\n",
    "\n",
    "For instance, a $(v, A)$ transition means: go from $v$ to $A$ and press $A$.\n",
    "\n",
    "We'll focus on the directional keypads, the approach to get the possible sequences on the first directional keypad to type in the code doesn't change.\n",
    "\n",
    "***From now on, level 0 designates the first direcitonal keypad.***\n"
   ]
  },
  {
   "cell_type": "markdown",
   "metadata": {},
   "source": [
    "Start by building a set of every possible transitions\n"
   ]
  },
  {
   "cell_type": "code",
   "execution_count": null,
   "metadata": {},
   "outputs": [],
   "source": [
    "TRANSITIONS = set()\n",
    "for a1 in ARROWS:\n",
    "    if a1 == \"FORBIDDEN\":\n",
    "        continue\n",
    "    for a2 in ARROWS:\n",
    "        if a2 == \"FORBIDDEN\":\n",
    "            continue\n",
    "        TRANSITIONS.add((a1, a2))\n",
    "print(TRANSITIONS)"
   ]
  },
  {
   "cell_type": "markdown",
   "metadata": {},
   "source": [
    "Given a particular sequence of buttons, we can generate a dictionary of transitions.\n",
    "\n",
    "$\\{(v, A) : n\\}$ means that there are $n$ occurences of the $(v, A)$ transition in the sequence.\n"
   ]
  },
  {
   "cell_type": "code",
   "execution_count": null,
   "metadata": {},
   "outputs": [],
   "source": [
    "def transitions_from_seq(seq):\n",
    "    transitions = {}\n",
    "    i = 0\n",
    "    while i < len(seq) - 1:\n",
    "        transition = (seq[i], seq[i + 1])\n",
    "        if transition in transitions:\n",
    "            transitions[transition] += 1\n",
    "        else:\n",
    "            transitions[transition] = 1\n",
    "        i += 1\n",
    "    return transitions"
   ]
  },
  {
   "cell_type": "markdown",
   "metadata": {},
   "source": [
    "Given a particular transition on an n-level keypad, we can find all the possible dicts of transitions on the (n+1)-level keypad.\n",
    "\n",
    "On the (n+1)-level keypad, we always start and end at 'A'.\n"
   ]
  },
  {
   "cell_type": "code",
   "execution_count": null,
   "metadata": {},
   "outputs": [],
   "source": [
    "def get_next_level_transitions_list(transition):\n",
    "    (a0, a1) = transition\n",
    "    sequences = get_possible_sequences_between_arrows(a0, a1)\n",
    "    transitions_list = []\n",
    "    for seq in sequences:\n",
    "        transitions = transitions_from_seq(\"A\" + seq)\n",
    "        transitions_list.append(transitions)\n",
    "    return transitions_list"
   ]
  },
  {
   "cell_type": "markdown",
   "metadata": {},
   "source": [
    "The key that will make this approach way faster than the first one is that we can generate in advance how to go from an n-level transition to (n+1)-level transitions.\n",
    "\n",
    "Since each n-level transition can be achieved using one of several set of (n+1)-level transitions, we generate all the possible complete n-(n+1) mappings (with all combinations of individual n-(n+1) mappings).\n",
    "\n",
    "Then we can avoid recalculating anything or exploring different paths as we go through the 25 directional keypads.\n"
   ]
  },
  {
   "cell_type": "code",
   "execution_count": null,
   "metadata": {},
   "outputs": [],
   "source": [
    "possible_mappings = []\n",
    "for transition in TRANSITIONS:\n",
    "    next_level_transitions_list = get_next_level_transitions_list(transition)\n",
    "    updated_possible_mappings = []\n",
    "    if not next_level_transitions_list:\n",
    "        continue\n",
    "    for next_level_transitions in next_level_transitions_list:\n",
    "        if not possible_mappings:\n",
    "            # We haven't initialized any mappings\n",
    "            # We create as many mappings as we have possibilities\n",
    "            # for the next level transitions for the current transition\n",
    "            new_mapping = {}\n",
    "            new_mapping[transition] = next_level_transitions\n",
    "            updated_possible_mappings.append(new_mapping)\n",
    "        else:\n",
    "            # We have already computed mappings for the previous transitions\n",
    "            # We need to create as many copies of each of them as we have possibilities\n",
    "            # for the next level transitions for the current transition\n",
    "            for existing_mapping in possible_mappings:\n",
    "                # Each existing mapping is copied\n",
    "                new_mapping = existing_mapping.copy()\n",
    "                # Updated for the current transition\n",
    "                new_mapping[transition] = next_level_transitions\n",
    "                # Added to the list of updated mappings\n",
    "                updated_possible_mappings.append(new_mapping)\n",
    "    possible_mappings = updated_possible_mappings\n",
    "\n",
    "TRANSITION_MAPPINGS = possible_mappings\n",
    "\n",
    "print(len(TRANSITION_MAPPINGS))\n",
    "for mapping in TRANSITION_MAPPINGS:\n",
    "    print(mapping)"
   ]
  },
  {
   "cell_type": "markdown",
   "metadata": {},
   "source": [
    "Given a dict of transitions for level n, we can now get the dict of transitions for level (n+1), using a particular mapping.\n"
   ]
  },
  {
   "cell_type": "code",
   "execution_count": null,
   "metadata": {},
   "outputs": [],
   "source": [
    "def get_next_level_transitions(transitions, transition_mapping):\n",
    "    next_level_transitions = {}\n",
    "    for transition, i in transitions.items():\n",
    "        # i is the number of occurences of this transition in our input dict\n",
    "        for next_transition, j in transition_mapping[transition].items():\n",
    "            # j is the number of occurences of \"next_transition\" in the dict for the current transition, in our n-(n+1) mapping\n",
    "            # We multiply the two numbers to get the number of occurences of \"next_transition\" in the output dict\n",
    "            if next_transition in next_level_transitions:\n",
    "                next_level_transitions[next_transition] += i * j\n",
    "            else:\n",
    "                next_level_transitions[next_transition] = i * j\n",
    "    return next_level_transitions"
   ]
  },
  {
   "cell_type": "markdown",
   "metadata": {},
   "source": [
    "Let's test it out with the sequences from the example.\n",
    "\n",
    "Note that we now call level 0 the first directional keypad.\n",
    "\n",
    "We go through all possible mappings and find the length of each level sequence.\n",
    "\n",
    "To get the length of the sequence based on the dict of its transitions, we just sum the number of transitions and add 1.\n"
   ]
  },
  {
   "cell_type": "code",
   "execution_count": null,
   "metadata": {},
   "outputs": [],
   "source": [
    "min_l1 = -1\n",
    "min_l2 = -1\n",
    "for mapping in TRANSITION_MAPPINGS:\n",
    "    level_0 = transitions_from_seq(\"A<A^A>^^AvvvA\")\n",
    "    level_1 = get_next_level_transitions(level_0, mapping)\n",
    "    length_1 = sum(level_1.values()) + 1\n",
    "    if min_l1 == -1 or length_1 < min_l1:\n",
    "        min_l1 = length_1\n",
    "    level_2 = get_next_level_transitions(level_1, mapping)\n",
    "    length_2 = sum(level_2.values()) + 1\n",
    "    if min_l2 == -1 or length_2 < min_l2:\n",
    "        min_l2 = length_2\n",
    "\n",
    "print(min_l1)\n",
    "print(len(\"Av<<A>>^A<A>AvA<^AA>A<vAAA>^A\"))\n",
    "print(min_l2)\n",
    "print(len(\"A<vA<AA>>^AvAA<^A>A<v<A>>^AvA^A<vA>^A<v<A>^A>AAvA^A<v<A>A>^AAAvA<^A>A\"))"
   ]
  },
  {
   "cell_type": "markdown",
   "metadata": {},
   "source": [
    "Let's generalize the example above and write a function to get the minimum possible length of the final level sequence, based on the level 0 sequence.\n",
    "\n",
    "As above, we go through all the possible mappings.\n"
   ]
  },
  {
   "cell_type": "code",
   "execution_count": null,
   "metadata": {},
   "outputs": [],
   "source": [
    "def get_min_length_for_level_0_sequence(level_0_seq, nb_of_dir_keypads):\n",
    "    min_l = -1\n",
    "    for mapping in TRANSITION_MAPPINGS:\n",
    "        # Each robot starts on 'A' so we add it to the sequence, to get the first transition right\n",
    "        transitions = transitions_from_seq(\"A\" + level_0_seq)\n",
    "        for _ in range(nb_of_dir_keypads):\n",
    "            transitions = get_next_level_transitions(transitions, mapping)\n",
    "        length = sum(transitions.values())\n",
    "        if min_l == -1 or length < min_l:\n",
    "            min_l = length\n",
    "    return min_l"
   ]
  },
  {
   "cell_type": "code",
   "execution_count": null,
   "metadata": {},
   "outputs": [],
   "source": [
    "print(get_min_length_for_level_0_sequence(\"<A^A>^^AvvvA\", 2))"
   ]
  },
  {
   "cell_type": "markdown",
   "metadata": {},
   "source": [
    "Contrary to part 1, we'll handle the whole code at once and not go from one digit to the next.\n",
    "\n",
    "So we need to be able to get the level 0 sequence that will allow the robot to type in the whole code.\n",
    "\n",
    "To do that, we reuse the part 1 function to get the sequence for each transition in digits, and concatenate them.\n"
   ]
  },
  {
   "cell_type": "code",
   "execution_count": null,
   "metadata": {},
   "outputs": [],
   "source": [
    "def get_level0_sequences_for_code(code):\n",
    "    code = \"A\" + code\n",
    "    i = 0\n",
    "    sequences = []\n",
    "    while i < len(code) - 1:\n",
    "        # Store the level 0 sequences for each transition from one digit to the next\n",
    "        d1, d2 = code[i], code[i + 1]\n",
    "        seq = d1 + d2\n",
    "        level_0_sequences = get_next_level_sequences_for_sequence_of_digits(seq)\n",
    "        sequences.append(level_0_sequences)\n",
    "        i += 1\n",
    "    # Concatenate all level 0 sequences\n",
    "    for i in range(1, len(sequences)):\n",
    "        new_sequences = []\n",
    "        for new_sequence in sequences[i]:\n",
    "            for old_sequence in sequences[i - 1]:\n",
    "                new_sequences.append(old_sequence + new_sequence)\n",
    "        sequences[i] = new_sequences\n",
    "    return sequences[-1]"
   ]
  },
  {
   "cell_type": "code",
   "execution_count": null,
   "metadata": {},
   "outputs": [],
   "source": [
    "print(get_level0_sequences_for_code(\"029A\"))"
   ]
  },
  {
   "cell_type": "markdown",
   "metadata": {},
   "source": [
    "Now we can get the minimum length of any sequence that will result in the whole code being entered\n"
   ]
  },
  {
   "cell_type": "code",
   "execution_count": null,
   "metadata": {},
   "outputs": [],
   "source": [
    "def get_min_length_for_code(code, nb_of_dir_keypads):\n",
    "    level_0_sequences = get_level0_sequences_for_code(code)\n",
    "    lengths = []\n",
    "    for level_0_seq in level_0_sequences:\n",
    "        min_l = get_min_length_for_level_0_sequence(level_0_seq, nb_of_dir_keypads)\n",
    "        lengths.append(min_l)\n",
    "    return min(lengths)"
   ]
  },
  {
   "cell_type": "markdown",
   "metadata": {},
   "source": [
    "Finally we're able to solve part 2 by reusing the same complexity calculation as for part 1.\n"
   ]
  },
  {
   "cell_type": "code",
   "execution_count": null,
   "metadata": {},
   "outputs": [],
   "source": [
    "def part_2(input_file_name):\n",
    "    codes = get_codes(input_file_name)\n",
    "    result = 0\n",
    "    for code in codes:\n",
    "        number = int(code[:-1])\n",
    "        length = get_min_length_for_code(code, 25)\n",
    "        complexity = number * length\n",
    "        result += complexity\n",
    "    print(result)"
   ]
  },
  {
   "cell_type": "code",
   "execution_count": null,
   "metadata": {},
   "outputs": [],
   "source": [
    "part_2(EXAMPLE)"
   ]
  },
  {
   "cell_type": "markdown",
   "metadata": {},
   "source": [
    "The result for the example is not provided, which is kind of mean... Let's hope we get the correct result in the input.\n"
   ]
  },
  {
   "cell_type": "code",
   "execution_count": null,
   "metadata": {},
   "outputs": [],
   "source": [
    "part_2(INPUT)"
   ]
  },
  {
   "cell_type": "markdown",
   "metadata": {},
   "source": [
    "The result is correct! \\o/\n"
   ]
  }
 ],
 "metadata": {
  "language_info": {
   "name": "python"
  }
 },
 "nbformat": 4,
 "nbformat_minor": 2
}
