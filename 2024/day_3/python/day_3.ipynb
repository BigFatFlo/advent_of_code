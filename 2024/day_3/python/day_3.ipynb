{
 "cells": [
  {
   "cell_type": "code",
   "execution_count": null,
   "metadata": {},
   "outputs": [],
   "source": [
    "EXAMPLE_1 = \"../example_1.txt\"\n",
    "INPUT = \"../input.txt\""
   ]
  },
  {
   "cell_type": "code",
   "execution_count": null,
   "metadata": {},
   "outputs": [],
   "source": [
    "def get_sections(input_file_name: str) -> list[str]:\n",
    "    lines = []\n",
    "    with open(input_file_name, 'r') as f:\n",
    "        for line in f:\n",
    "            lines.append(line.strip().replace('\\n', \"\"))\n",
    "    return lines"
   ]
  },
  {
   "cell_type": "code",
   "execution_count": null,
   "metadata": {},
   "outputs": [],
   "source": [
    "sections = get_sections(EXAMPLE_1)\n",
    "print(sections)"
   ]
  },
  {
   "cell_type": "code",
   "execution_count": null,
   "metadata": {},
   "outputs": [],
   "source": [
    "import re\n",
    "\n",
    "def find_numbers(section: str) -> list[tuple[int, int]]:\n",
    "    regexp = r\"mul\\((\\d{1,3}),(\\d{1,3})\\)\"\n",
    "    matches = re.findall(regexp, section)\n",
    "    numbers = [(int(x), int(y)) for x, y in matches]\n",
    "    return numbers\n"
   ]
  },
  {
   "cell_type": "code",
   "execution_count": null,
   "metadata": {},
   "outputs": [],
   "source": [
    "section = sections[0]\n",
    "numbers = find_numbers(section)\n",
    "print(numbers)"
   ]
  },
  {
   "cell_type": "code",
   "execution_count": null,
   "metadata": {},
   "outputs": [],
   "source": [
    "def get_section_total(section: str) -> int:\n",
    "    numbers = find_numbers(section)\n",
    "    total = 0\n",
    "    for x, y in numbers:\n",
    "        total += x*y\n",
    "    return total"
   ]
  },
  {
   "cell_type": "code",
   "execution_count": null,
   "metadata": {},
   "outputs": [],
   "source": [
    "print(get_section_total(section))"
   ]
  },
  {
   "cell_type": "code",
   "execution_count": null,
   "metadata": {},
   "outputs": [],
   "source": [
    "def part_1(input_file_name: str) -> None:\n",
    "    sections = get_sections(input_file_name)\n",
    "    result = 0\n",
    "    for section in sections:\n",
    "        result += get_section_total(section)\n",
    "    print(result)"
   ]
  },
  {
   "cell_type": "code",
   "execution_count": null,
   "metadata": {},
   "outputs": [],
   "source": [
    "part_1(EXAMPLE_1)"
   ]
  },
  {
   "cell_type": "code",
   "execution_count": null,
   "metadata": {},
   "outputs": [],
   "source": [
    "part_1(INPUT)"
   ]
  },
  {
   "cell_type": "code",
   "execution_count": null,
   "metadata": {},
   "outputs": [],
   "source": [
    "def get_valid_subsections(section: str) -> list[str]:\n",
    "    valid_subsections = []\n",
    "    split_at_dont = section.split(\"don't()\")\n",
    "    # The first one is before the first \"don't()\" so it is valid\n",
    "    valid_subsections.append(split_at_dont[0])\n",
    "    split_at_dont = split_at_dont[1:]\n",
    "    for s in split_at_dont:\n",
    "        # For the next ones, only the parts after the first \"do()\" are valid\n",
    "        split_s_do = s.split(\"do()\")\n",
    "        split_s_do = split_s_do[1:]\n",
    "        valid_subsections.extend(split_s_do)\n",
    "    return valid_subsections\n"
   ]
  },
  {
   "cell_type": "code",
   "execution_count": null,
   "metadata": {},
   "outputs": [],
   "source": [
    "def get_full_program(sections: list[str]) -> str:\n",
    "    return \"\".join(sections)"
   ]
  },
  {
   "cell_type": "code",
   "execution_count": null,
   "metadata": {},
   "outputs": [],
   "source": [
    "EXAMPLE_2 = \"../example_2.txt\"\n",
    "sections = get_sections(EXAMPLE_2)\n",
    "full_program = get_full_program(sections)\n",
    "print(get_valid_subsections(full_program))"
   ]
  },
  {
   "cell_type": "code",
   "execution_count": null,
   "metadata": {},
   "outputs": [],
   "source": [
    "def part_2(input_file_name: str) -> None:\n",
    "    sections = get_sections(input_file_name)\n",
    "    full_program = get_full_program(sections)\n",
    "    result = 0\n",
    "    for valid_subsection in get_valid_subsections(full_program):\n",
    "        result += get_section_total(valid_subsection)\n",
    "    print(result)"
   ]
  },
  {
   "cell_type": "code",
   "execution_count": null,
   "metadata": {},
   "outputs": [],
   "source": [
    "part_2(EXAMPLE_2)"
   ]
  },
  {
   "cell_type": "code",
   "execution_count": null,
   "metadata": {},
   "outputs": [],
   "source": [
    "part_2(INPUT)"
   ]
  }
 ],
 "metadata": {
  "language_info": {
   "name": "python"
  }
 },
 "nbformat": 4,
 "nbformat_minor": 2
}
