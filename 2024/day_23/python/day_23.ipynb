{
 "cells": [
  {
   "cell_type": "code",
   "execution_count": null,
   "metadata": {},
   "outputs": [],
   "source": [
    "EXAMPLE = \"../example.txt\"\n",
    "INPUT = \"../input.txt\""
   ]
  },
  {
   "cell_type": "code",
   "execution_count": null,
   "metadata": {},
   "outputs": [],
   "source": [
    "def get_links(input_file_name):\n",
    "    links = []\n",
    "    with open(input_file_name, \"r\") as f:\n",
    "        for line in f:\n",
    "            c0, c1 = line.strip().replace('\\n', '').split('-')\n",
    "            links.append((c0, c1))\n",
    "    return links"
   ]
  },
  {
   "cell_type": "code",
   "execution_count": null,
   "metadata": {},
   "outputs": [],
   "source": [
    "links = get_links(EXAMPLE)\n",
    "print(links)"
   ]
  },
  {
   "cell_type": "code",
   "execution_count": null,
   "metadata": {},
   "outputs": [],
   "source": [
    "def get_nodes(links):\n",
    "    nodes = {}\n",
    "    for c0, c1 in links:\n",
    "        if c0 in nodes:\n",
    "            nodes[c0].append(c1)\n",
    "        else:\n",
    "            nodes[c0] = [c1]\n",
    "        if c1 in nodes:\n",
    "            nodes[c1].append(c0)\n",
    "        else:\n",
    "            nodes[c1] = [c0]\n",
    "    return nodes"
   ]
  },
  {
   "cell_type": "code",
   "execution_count": null,
   "metadata": {},
   "outputs": [],
   "source": [
    "nodes = get_nodes(links)\n",
    "print(nodes)"
   ]
  },
  {
   "cell_type": "code",
   "execution_count": null,
   "metadata": {},
   "outputs": [],
   "source": [
    "def get_groups(nodes: dict[str, list[str]]):\n",
    "    groups = set()\n",
    "    while nodes:\n",
    "        # We pop to avoid processing the same nodes multiple times\n",
    "        node0, connected_nodes = nodes.popitem()\n",
    "        while connected_nodes:\n",
    "            node1 = connected_nodes.pop()\n",
    "            if node1 not in nodes:\n",
    "                continue\n",
    "            for node2 in connected_nodes:\n",
    "                # node1 and node2 are both connected to node0\n",
    "                if node2 in nodes[node1]:\n",
    "                    # node1 and node2 are connected to each other\n",
    "                    if node0.startswith('t') or node1.startswith('t') or node2.startswith('t'):\n",
    "                        # At least one machine starts with 't'\n",
    "                        groups.add(tuple(sorted([node0, node1, node2])))\n",
    "    return groups"
   ]
  },
  {
   "cell_type": "code",
   "execution_count": null,
   "metadata": {},
   "outputs": [],
   "source": [
    "print(sorted(get_groups(nodes)))"
   ]
  },
  {
   "cell_type": "code",
   "execution_count": null,
   "metadata": {},
   "outputs": [],
   "source": [
    "def part_1(input_file_name):\n",
    "    links = get_links(input_file_name)\n",
    "    nodes = get_nodes(links)\n",
    "    groups = get_groups(nodes)\n",
    "    result = len(groups)\n",
    "    print(result)"
   ]
  },
  {
   "cell_type": "code",
   "execution_count": null,
   "metadata": {},
   "outputs": [],
   "source": [
    "part_1(EXAMPLE)"
   ]
  },
  {
   "cell_type": "code",
   "execution_count": null,
   "metadata": {},
   "outputs": [],
   "source": [
    "part_1(INPUT)"
   ]
  },
  {
   "cell_type": "markdown",
   "metadata": {},
   "source": [
    "The text is ambiguous: for part 2, the condition that one computer name must start with 't' isn't applicable anymore!"
   ]
  },
  {
   "cell_type": "markdown",
   "metadata": {},
   "source": [
    "We start by converting everything to sets, to take advantage of set methods."
   ]
  },
  {
   "cell_type": "code",
   "execution_count": null,
   "metadata": {},
   "outputs": [],
   "source": [
    "links = get_links(EXAMPLE)\n",
    "nodes = get_nodes(links)\n",
    "links = [set(list(link)) for link in links]\n",
    "for node in nodes:\n",
    "    nodes[node] = set(nodes[node])\n",
    "print(nodes)"
   ]
  },
  {
   "cell_type": "markdown",
   "metadata": {},
   "source": [
    "Given a group of interconnected computers of size n, we can build the groups of size n+1"
   ]
  },
  {
   "cell_type": "code",
   "execution_count": null,
   "metadata": {},
   "outputs": [],
   "source": [
    "def get_bigger_groups_from_group(group, nodes):\n",
    "    new_nodes = set()\n",
    "    # Find the nodes that are connected to every node in group\n",
    "    for node in group:\n",
    "        if not new_nodes:\n",
    "            new_nodes = nodes[node]\n",
    "        else:\n",
    "            new_nodes = new_nodes.intersection(nodes[node])\n",
    "    bigger_groups = []\n",
    "    for new_node in new_nodes:\n",
    "        # For each node connected to every node in group, create a new group by adding that node to group\n",
    "        bigger_group = group.union(set([new_node]))\n",
    "        bigger_groups.append(bigger_group)\n",
    "    return bigger_groups"
   ]
  },
  {
   "cell_type": "markdown",
   "metadata": {},
   "source": [
    "Now we can generalize to find all groups of size n+1 given a list of groups of size n"
   ]
  },
  {
   "cell_type": "code",
   "execution_count": null,
   "metadata": {},
   "outputs": [],
   "source": [
    "def get_bigger_groups(groups, nodes):\n",
    "    # Use a set to guarantee uniqueness\n",
    "    bigger_groups = set()\n",
    "    for group in groups:\n",
    "        bigger_groups_for_group = get_bigger_groups_from_group(group, nodes)\n",
    "        for bigger_group in bigger_groups_for_group:\n",
    "            # A set isn't hashable so we convert it to a sorted tuple\n",
    "            unique_bigger_group = tuple(sorted(list(bigger_group)))\n",
    "            bigger_groups.add(unique_bigger_group)\n",
    "    return [set(g) for g in bigger_groups]"
   ]
  },
  {
   "cell_type": "markdown",
   "metadata": {},
   "source": [
    "Now we start with the pairs of connected computers and build bigger and bigger groups until no more than one remains"
   ]
  },
  {
   "cell_type": "code",
   "execution_count": null,
   "metadata": {},
   "outputs": [],
   "source": [
    "def find_biggest_groups(links, nodes):\n",
    "    groups = links\n",
    "    while len(bigger_groups := get_bigger_groups(groups, nodes)) > 1:\n",
    "        groups = bigger_groups\n",
    "    return bigger_groups"
   ]
  },
  {
   "cell_type": "code",
   "execution_count": null,
   "metadata": {},
   "outputs": [],
   "source": [
    "biggest_groups = find_biggest_groups(links, nodes)\n",
    "print(biggest_groups)\n",
    "print(\",\".join(sorted(list(biggest_groups[0]))))"
   ]
  },
  {
   "cell_type": "code",
   "execution_count": null,
   "metadata": {},
   "outputs": [],
   "source": [
    "def part_2(input_file_name):\n",
    "    links = get_links(input_file_name)\n",
    "    nodes = get_nodes(links)\n",
    "    links = [set(list(link)) for link in links]\n",
    "    for node in nodes:\n",
    "        nodes[node] = set(nodes[node])\n",
    "    biggest_groups = find_biggest_groups(links, nodes)\n",
    "    result = \",\".join(sorted(list(biggest_groups[0])))\n",
    "    print(result)"
   ]
  },
  {
   "cell_type": "code",
   "execution_count": null,
   "metadata": {},
   "outputs": [],
   "source": [
    "part_2(EXAMPLE)"
   ]
  },
  {
   "cell_type": "code",
   "execution_count": null,
   "metadata": {},
   "outputs": [],
   "source": [
    "part_2(INPUT)"
   ]
  }
 ],
 "metadata": {
  "language_info": {
   "name": "python"
  }
 },
 "nbformat": 4,
 "nbformat_minor": 2
}
