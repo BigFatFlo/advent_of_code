{
 "cells": [
  {
   "cell_type": "code",
   "execution_count": null,
   "metadata": {},
   "outputs": [],
   "source": [
    "from tabulate import tabulate\n",
    "\n",
    "EXAMPLE = \"../example.txt\"\n",
    "EXAMPLE_HEIGHT = 7\n",
    "EXAMPLE_WIDTH = 7\n",
    "EXAMPLE_FALLEN_BYTES = 12\n",
    "\n",
    "INPUT = \"../input.txt\"\n",
    "INPUT_HEIGHT = 71\n",
    "INPUT_WIDTH = 71\n",
    "INPUT_FALLEN_BYTES = 1024"
   ]
  },
  {
   "cell_type": "code",
   "execution_count": null,
   "metadata": {},
   "outputs": [],
   "source": [
    "def get_bytes(input_file_name):\n",
    "    bytes = []\n",
    "    with open(input_file_name, \"r\") as f:\n",
    "        for line in f:\n",
    "            x, y = line.replace(\"\\n\", \"\").strip().split(',')\n",
    "            x = int(x)\n",
    "            y = int(y)\n",
    "            bytes.append((x, y))\n",
    "    return bytes"
   ]
  },
  {
   "cell_type": "code",
   "execution_count": null,
   "metadata": {},
   "outputs": [],
   "source": [
    "bytes = get_bytes(EXAMPLE)\n",
    "print(bytes)"
   ]
  },
  {
   "cell_type": "code",
   "execution_count": null,
   "metadata": {},
   "outputs": [],
   "source": [
    "def build_grid(input_height, input_width):\n",
    "    grid = []\n",
    "    for i in range(input_height):\n",
    "        grid.append(['.' for j in range(input_width)])\n",
    "    return grid"
   ]
  },
  {
   "cell_type": "code",
   "execution_count": null,
   "metadata": {},
   "outputs": [],
   "source": [
    "grid = build_grid(EXAMPLE_HEIGHT, EXAMPLE_WIDTH)\n",
    "print(tabulate(grid))"
   ]
  },
  {
   "cell_type": "code",
   "execution_count": null,
   "metadata": {},
   "outputs": [],
   "source": [
    "def build_obstacle_map(bytes, nb_of_fallen_bytes):\n",
    "    obstacle_map = set()\n",
    "    for (x, y) in bytes[:nb_of_fallen_bytes]:\n",
    "        obstacle_map.add((y, x))\n",
    "    return obstacle_map"
   ]
  },
  {
   "cell_type": "code",
   "execution_count": null,
   "metadata": {},
   "outputs": [],
   "source": [
    "nb_of_fallen_bytes = 12\n",
    "obstacle_map = build_obstacle_map(bytes, nb_of_fallen_bytes)\n",
    "print(obstacle_map)"
   ]
  },
  {
   "cell_type": "code",
   "execution_count": null,
   "metadata": {},
   "outputs": [],
   "source": [
    "def update_grid(grid, obstacle_map):\n",
    "    for (i, j) in obstacle_map:\n",
    "        grid[i][j] = '#'"
   ]
  },
  {
   "cell_type": "code",
   "execution_count": null,
   "metadata": {},
   "outputs": [],
   "source": [
    "update_grid(grid, obstacle_map)\n",
    "print(tabulate(grid))"
   ]
  },
  {
   "cell_type": "code",
   "execution_count": null,
   "metadata": {},
   "outputs": [],
   "source": [
    "def move(position, next_positions: set, nb_of_steps, obstacle_map, height, width, visited_positions, end):\n",
    "    (i, j) = position\n",
    "    visited_positions.add((i, j))\n",
    "    if (i, j) == end:\n",
    "        return True, nb_of_steps\n",
    "    for (offset_i, offset_j) in [(0, 1), (0, -1), (1, 0), (-1,0)]:\n",
    "        (new_i, new_j) = (i+offset_i, j+offset_j)\n",
    "        if 0 <= new_i < height and 0<=new_j<width and (new_i, new_j) not in visited_positions and (new_i, new_j) not in obstacle_map:\n",
    "            next_positions.add((new_i, new_j))\n",
    "    return False, nb_of_steps"
   ]
  },
  {
   "cell_type": "code",
   "execution_count": null,
   "metadata": {},
   "outputs": [],
   "source": [
    "def find_shortest_path(obstacle_map, height, width, start, end):\n",
    "    positions = set([start])\n",
    "    nb_of_steps = 0\n",
    "    visited_positions = set()\n",
    "    next_positions = set()\n",
    "    end_reached = False\n",
    "    while len(positions) > 0 and not end_reached:\n",
    "        next_positions = set()\n",
    "        for position in positions:\n",
    "            end_reached, nb_of_steps = move(position, next_positions, nb_of_steps, obstacle_map, height, width, visited_positions, end)\n",
    "            if end_reached:\n",
    "                return nb_of_steps\n",
    "        positions = next_positions\n",
    "        nb_of_steps += 1\n",
    "    return -1"
   ]
  },
  {
   "cell_type": "code",
   "execution_count": null,
   "metadata": {},
   "outputs": [],
   "source": [
    "def part_1(input_file_name, height, width, nb_of_fallen_bytes):\n",
    "    bytes = get_bytes(input_file_name)\n",
    "    obstacle_map = build_obstacle_map(bytes, nb_of_fallen_bytes)\n",
    "    start = (0, 0)\n",
    "    end = (height - 1, width - 1)\n",
    "    result = find_shortest_path(obstacle_map, height, width, start, end)\n",
    "    print(result)"
   ]
  },
  {
   "cell_type": "code",
   "execution_count": null,
   "metadata": {},
   "outputs": [],
   "source": [
    "part_1(EXAMPLE, EXAMPLE_HEIGHT, EXAMPLE_WIDTH, EXAMPLE_FALLEN_BYTES)"
   ]
  },
  {
   "cell_type": "code",
   "execution_count": null,
   "metadata": {},
   "outputs": [],
   "source": [
    "part_1(INPUT, INPUT_HEIGHT, INPUT_WIDTH, INPUT_FALLEN_BYTES)"
   ]
  },
  {
   "cell_type": "code",
   "execution_count": null,
   "metadata": {},
   "outputs": [],
   "source": [
    "def end_reachable(obstacle_map, height, width, start, end):\n",
    "    return find_shortest_path(obstacle_map, height, width, start, end) != -1"
   ]
  },
  {
   "cell_type": "code",
   "execution_count": null,
   "metadata": {},
   "outputs": [],
   "source": [
    "def part_2(input_file_name, height, width, nb_of_fallen_bytes):\n",
    "    bytes = get_bytes(input_file_name)\n",
    "    obstacle_map = build_obstacle_map(bytes, nb_of_fallen_bytes)\n",
    "    start = (0, 0)\n",
    "    end = (height - 1, width - 1)\n",
    "    i = nb_of_fallen_bytes\n",
    "    while end_reachable(obstacle_map, height, width, start, end):\n",
    "        x, y = bytes[i]\n",
    "        obstacle_map.add((y, x))\n",
    "        i += 1\n",
    "    result = (x, y)\n",
    "    print(result)"
   ]
  },
  {
   "cell_type": "code",
   "execution_count": null,
   "metadata": {},
   "outputs": [],
   "source": [
    "part_2(EXAMPLE, EXAMPLE_HEIGHT, EXAMPLE_WIDTH, EXAMPLE_FALLEN_BYTES)"
   ]
  },
  {
   "cell_type": "code",
   "execution_count": null,
   "metadata": {},
   "outputs": [],
   "source": [
    "part_2(INPUT, INPUT_HEIGHT, INPUT_WIDTH, INPUT_FALLEN_BYTES)"
   ]
  }
 ],
 "metadata": {
  "language_info": {
   "name": "python"
  }
 },
 "nbformat": 4,
 "nbformat_minor": 2
}
