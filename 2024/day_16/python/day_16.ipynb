{
 "cells": [
  {
   "cell_type": "code",
   "execution_count": null,
   "metadata": {},
   "outputs": [],
   "source": [
    "from tabulate import tabulate\n",
    "from queue import PriorityQueue\n",
    "from dataclasses import dataclass, field\n",
    "from typing import Any\n",
    "\n",
    "EXAMPLE_1 = \"../example_1.txt\"\n",
    "EXAMPLE_2 = \"../example_2.txt\"\n",
    "INPUT = \"../input.txt\""
   ]
  },
  {
   "cell_type": "code",
   "execution_count": null,
   "metadata": {},
   "outputs": [],
   "source": [
    "def parse_input(input_file_name):\n",
    "    map = []\n",
    "    with open(input_file_name, \"r\") as f:\n",
    "        for line in f:\n",
    "            map.append([c for c in line.strip().replace(\"\\n\", \"\")])\n",
    "    return map"
   ]
  },
  {
   "cell_type": "code",
   "execution_count": null,
   "metadata": {},
   "outputs": [],
   "source": [
    "map = parse_input(EXAMPLE_1)\n",
    "print(tabulate(map))"
   ]
  },
  {
   "cell_type": "code",
   "execution_count": null,
   "metadata": {},
   "outputs": [],
   "source": [
    "def find_start_end(map):\n",
    "    height = len(map)\n",
    "    width = len(map[0])\n",
    "    start, end = (-1, -1), (-1, -1)\n",
    "    for row in range(height):\n",
    "        for col in range(width):\n",
    "            if map[row][col] == \"S\":\n",
    "                start = (row, col)\n",
    "            if map[row][col] == \"E\":\n",
    "                end = (row, col)\n",
    "            if start != (-1, -1) and end != (-1, -1):\n",
    "                return (start, end)\n",
    "    return (start, end)"
   ]
  },
  {
   "cell_type": "code",
   "execution_count": null,
   "metadata": {},
   "outputs": [],
   "source": [
    "start, end = find_start_end(map)\n",
    "print(start, end)"
   ]
  },
  {
   "cell_type": "code",
   "execution_count": null,
   "metadata": {},
   "outputs": [],
   "source": [
    "def get_possible_moves(map, position, direction, score):\n",
    "    possible_moves = []\n",
    "    (row, col) = position\n",
    "    (r_dir, c_dir) = direction\n",
    "    if map[row + r_dir][col + c_dir] != \"#\":\n",
    "        # Move in current direction\n",
    "        possible_moves.append(((row + r_dir, col + c_dir), direction, score + 1))\n",
    "    for r_d, c_d in [(0, 1), (0, -1), (1, 0), (-1, 0)]:\n",
    "        # Turn 90 degrees\n",
    "        if (r_d, c_d) != (r_dir, c_dir) and (r_d, c_d) != (-r_dir, -c_dir):\n",
    "            possible_moves.append(((row, col), (r_d, c_d), score + 1000))\n",
    "    return possible_moves"
   ]
  },
  {
   "cell_type": "code",
   "execution_count": null,
   "metadata": {},
   "outputs": [],
   "source": [
    "@dataclass(order=True)\n",
    "class PrioritizedPosition:\n",
    "    score: int\n",
    "    position: Any = field(compare=False)\n",
    "    direction: Any = field(compare=False)\n",
    "    path: Any = field(compare=False)\n",
    "\n",
    "\n",
    "def move(map, queue: PriorityQueue[PrioritizedPosition], visited_positions: set, end):\n",
    "    # We use a priority queue to store the positions we explore, based on their current score\n",
    "    # Once we reach the end position, we know we've found the lowest score to get there\n",
    "    prioritied_position = queue.get()\n",
    "    current_score = prioritied_position.score\n",
    "    position = prioritied_position.position\n",
    "    direction = prioritied_position.direction\n",
    "    path: set = prioritied_position.path\n",
    "    path.add(position)\n",
    "    visited_positions.add((position, direction))\n",
    "    if position == end:\n",
    "        return True, current_score, path\n",
    "    possible_moves = get_possible_moves(map, position, direction, current_score)\n",
    "    for possible_move in possible_moves:\n",
    "        position, direction, score = possible_move\n",
    "        if (position, direction) not in visited_positions:\n",
    "            new_path = path.copy()\n",
    "            p = PrioritizedPosition(score, position, direction, new_path)\n",
    "            queue.put(p)\n",
    "    return False, current_score, path\n",
    "\n",
    "\n",
    "def find_best_paths(map):\n",
    "    start, end = find_start_end(map)\n",
    "    visited_positions = set()\n",
    "    queue: PriorityQueue[PrioritizedPosition] = PriorityQueue()\n",
    "    p = PrioritizedPosition(0, start, (0, 1), set())\n",
    "    queue.put(p)\n",
    "    end_reached = False\n",
    "    min_score = -1\n",
    "    best_spots = set()\n",
    "\n",
    "    while not end_reached and not queue.empty():\n",
    "        end_reached, score, path = move(map, queue, visited_positions, end)\n",
    "        if end_reached:\n",
    "            # We found the minimum score to reach the end\n",
    "            min_score = score\n",
    "            # We need to go through the remaining items in the queue with the minimum score\n",
    "            # (that includes positions that are not the end)\n",
    "            while score == min_score:\n",
    "                if end_reached:\n",
    "                    # We update the best spots only if the end is reached\n",
    "                    best_spots = best_spots.union(path)\n",
    "                end_reached, score, path = move(map, queue, visited_positions, end)\n",
    "            # We've unqueued all positions with a min score, we can stop now\n",
    "            break\n",
    "    return min_score, best_spots"
   ]
  },
  {
   "cell_type": "code",
   "execution_count": null,
   "metadata": {},
   "outputs": [],
   "source": [
    "def part_1(input_file_name):\n",
    "    map = parse_input(input_file_name)\n",
    "    result, _ = find_best_paths(map)\n",
    "    print(result)"
   ]
  },
  {
   "cell_type": "code",
   "execution_count": null,
   "metadata": {},
   "outputs": [],
   "source": [
    "part_1(EXAMPLE_1)"
   ]
  },
  {
   "cell_type": "code",
   "execution_count": null,
   "metadata": {},
   "outputs": [],
   "source": [
    "part_1(EXAMPLE_2)"
   ]
  },
  {
   "cell_type": "code",
   "execution_count": null,
   "metadata": {},
   "outputs": [],
   "source": [
    "part_1(INPUT)"
   ]
  },
  {
   "cell_type": "code",
   "execution_count": null,
   "metadata": {},
   "outputs": [],
   "source": [
    "def part_2(input_file_name):\n",
    "    map = parse_input(input_file_name)\n",
    "    _, best_spots = find_best_paths(map)\n",
    "    result = len(best_spots)\n",
    "    print(result)"
   ]
  },
  {
   "cell_type": "code",
   "execution_count": null,
   "metadata": {},
   "outputs": [],
   "source": [
    "part_2(EXAMPLE_1)"
   ]
  },
  {
   "cell_type": "code",
   "execution_count": null,
   "metadata": {},
   "outputs": [],
   "source": [
    "part_2(EXAMPLE_2)"
   ]
  },
  {
   "cell_type": "code",
   "execution_count": null,
   "metadata": {},
   "outputs": [],
   "source": [
    "part_2(INPUT)"
   ]
  }
 ],
 "metadata": {
  "language_info": {
   "name": "python"
  }
 },
 "nbformat": 4,
 "nbformat_minor": 2
}
