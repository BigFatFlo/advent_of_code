{
 "cells": [
  {
   "cell_type": "code",
   "execution_count": 32,
   "metadata": {},
   "outputs": [
    {
     "name": "stdout",
     "output_type": "stream",
     "text": [
      "156366\n",
      "96852\n"
     ]
    }
   ],
   "source": [
    "import json\n",
    "\n",
    "f = open(\"input.txt\", 'r')\n",
    "examples = open(\"examples.txt\", 'r')\n",
    "\n",
    "json_string = \"\"\n",
    "\n",
    "for line in f:\n",
    "    json_string = line.replace('\\n', '')\n",
    "\n",
    "json_examples_strings = []\n",
    "for line in examples:\n",
    "    json_examples_strings.append(line.replace('\\n', ''))\n",
    "\n",
    "json_strings = [json_string]\n",
    "# json_strings = json_examples_strings\n",
    "\n",
    "def countValues(object, ignore_red=False):\n",
    "    total = 0\n",
    "    if isinstance(object, dict):\n",
    "        if ignore_red and 'red' in object.values():\n",
    "            return 0\n",
    "        for e in object.values():\n",
    "            total += countValues(e, ignore_red)\n",
    "    elif isinstance(object, list):\n",
    "        for e in object:\n",
    "            total += countValues(e, ignore_red)\n",
    "    else:\n",
    "        try:\n",
    "            total+=object\n",
    "        except:\n",
    "            # print(object)\n",
    "            pass\n",
    "    return total\n",
    "    \n",
    "for json_string in json_strings:\n",
    "    json_object = json.loads(json_string)\n",
    "    print(countValues(json_object))\n",
    "    print(countValues(json_object, ignore_red=True))\n",
    "\n"
   ]
  }
 ],
 "metadata": {
  "kernelspec": {
   "display_name": ".venv",
   "language": "python",
   "name": "python3"
  },
  "language_info": {
   "codemirror_mode": {
    "name": "ipython",
    "version": 3
   },
   "file_extension": ".py",
   "mimetype": "text/x-python",
   "name": "python",
   "nbconvert_exporter": "python",
   "pygments_lexer": "ipython3",
   "version": "3.12.0"
  }
 },
 "nbformat": 4,
 "nbformat_minor": 2
}
