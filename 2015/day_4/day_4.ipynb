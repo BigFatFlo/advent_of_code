{
 "cells": [
  {
   "cell_type": "code",
   "execution_count": 24,
   "metadata": {},
   "outputs": [
    {
     "name": "stdout",
     "output_type": "stream",
     "text": [
      "609043\n",
      "1048970\n",
      "254575\n",
      "1038736\n"
     ]
    }
   ],
   "source": [
    "import hashlib\n",
    "\n",
    "input = \"bgvyzdsv\"\n",
    "example = \"abcdef\"\n",
    "example_2 = \"pqrstuv\"\n",
    "\n",
    "def getMD5(s):\n",
    "    result = hashlib.md5(s.encode())\n",
    "    return result.hexdigest()\n",
    "\n",
    "def startsWithZeroes(s, n):\n",
    "    if len(s) < n:\n",
    "        return False\n",
    "    result = True\n",
    "    for i in range(n):\n",
    "        if s[i] != '0':\n",
    "            result = False\n",
    "            break\n",
    "    return result\n",
    "\n",
    "def solve(key, n):\n",
    "    result = False\n",
    "    i = 0\n",
    "    while not result:\n",
    "        s = key + str(i)\n",
    "        result = startsWithZeroes(getMD5(s), n)\n",
    "        i+=1\n",
    "    return i-1\n",
    "\n",
    "print(solve(example, 5))\n",
    "print(solve(example_2, 5))\n",
    "print(solve(input, 5))\n",
    "print(solve(input, 6))\n"
   ]
  }
 ],
 "metadata": {
  "kernelspec": {
   "display_name": ".venv",
   "language": "python",
   "name": "python3"
  },
  "language_info": {
   "codemirror_mode": {
    "name": "ipython",
    "version": 3
   },
   "file_extension": ".py",
   "mimetype": "text/x-python",
   "name": "python",
   "nbconvert_exporter": "python",
   "pygments_lexer": "ipython3",
   "version": "3.12.0"
  }
 },
 "nbformat": 4,
 "nbformat_minor": 2
}
