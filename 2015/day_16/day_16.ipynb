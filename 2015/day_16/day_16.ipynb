{
 "cells": [
  {
   "cell_type": "code",
   "execution_count": 11,
   "metadata": {},
   "outputs": [
    {
     "name": "stdout",
     "output_type": "stream",
     "text": [
      "part1: 103\n",
      "part2: 405\n"
     ]
    }
   ],
   "source": [
    "f = open(\"input.txt\", 'r')\n",
    "\n",
    "aunt_sue = {\n",
    "    \"children\": 3,\n",
    "    \"cats\": 7,\n",
    "    \"samoyeds\": 2,\n",
    "    \"pomeranians\": 3,\n",
    "    \"akitas\": 0,\n",
    "    \"vizslas\": 0,\n",
    "    \"goldfish\": 5,\n",
    "    \"trees\": 3,\n",
    "    \"cars\": 2,\n",
    "    \"perfumes\": 1,\n",
    "}\n",
    "\n",
    "aunts = []\n",
    "\n",
    "for line in f:\n",
    "    infos = line.replace('\\n', '').replace(' ', '')\n",
    "    infos = infos[infos.find(':')+1:]\n",
    "    infos = infos.split(',')\n",
    "    i = 1\n",
    "    aunt = {}\n",
    "    for property in infos:\n",
    "        property = property.split(':')\n",
    "        name = property[0]\n",
    "        value = int(property[1])\n",
    "        aunt[name] = value\n",
    "    aunts.append(aunt)\n",
    "\n",
    "for nb, aunt in enumerate(aunts):\n",
    "    compatible = True\n",
    "    for property, value in aunt_sue.items():\n",
    "        if property in aunt and aunt[property] != value:\n",
    "            compatible = False\n",
    "    if compatible:\n",
    "        print(f\"part1: {nb+1}\")\n",
    "\n",
    "for nb, aunt in enumerate(aunts):\n",
    "    compatible = True\n",
    "    for property, value in aunt_sue.items():\n",
    "        if property in [\"cats\", \"trees\"]:\n",
    "            if property in aunt and aunt[property] <= value:\n",
    "                compatible = False\n",
    "        elif property in [\"pomeranians\", \"goldfish\"]:\n",
    "            if property in aunt and aunt[property] >= value:\n",
    "                compatible = False\n",
    "        elif property in aunt and aunt[property] != value:\n",
    "                compatible = False\n",
    "    if compatible:\n",
    "        print(f\"part2: {nb+1}\")\n"
   ]
  }
 ],
 "metadata": {
  "kernelspec": {
   "display_name": ".venv",
   "language": "python",
   "name": "python3"
  },
  "language_info": {
   "codemirror_mode": {
    "name": "ipython",
    "version": 3
   },
   "file_extension": ".py",
   "mimetype": "text/x-python",
   "name": "python",
   "nbconvert_exporter": "python",
   "pygments_lexer": "ipython3",
   "version": "3.12.0"
  }
 },
 "nbformat": 4,
 "nbformat_minor": 2
}
