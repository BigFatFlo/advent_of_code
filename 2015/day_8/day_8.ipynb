{
 "cells": [
  {
   "cell_type": "code",
   "execution_count": 9,
   "metadata": {},
   "outputs": [
    {
     "name": "stdout",
     "output_type": "stream",
     "text": [
      "1342\n",
      "2074\n"
     ]
    }
   ],
   "source": [
    "f = open(\"input.txt\", 'r')\n",
    "\n",
    "strings = []\n",
    "\n",
    "for line in f:\n",
    "    strings.append([c for c in line.replace('\\n', '')])\n",
    "\n",
    "total_code_size = 0\n",
    "total_memory_size = 0\n",
    "for s in strings:\n",
    "    total_code_size+=len(s)\n",
    "    # Start at 1 and finish at length-2 to not count the double quotes\n",
    "    i = 1\n",
    "    while i < len(s)-1:\n",
    "        c = s[i]\n",
    "        if c == '\\\\':\n",
    "            if s[i+1] == 'x':\n",
    "                i=i+4\n",
    "            else:\n",
    "                i=i+2\n",
    "        else:\n",
    "            i+=1\n",
    "        total_memory_size+=1\n",
    "\n",
    "print(total_code_size-total_memory_size)\n",
    "\n",
    "total_new_encoding_size = 0\n",
    "for s in strings:\n",
    "    # Add double quotes around string\n",
    "    total_new_encoding_size+=2\n",
    "    i = 0\n",
    "    while i < len(s):\n",
    "        c = s[i]\n",
    "        if c == '\"' or c == '\\\\':\n",
    "            total_new_encoding_size+=2\n",
    "        else:\n",
    "            total_new_encoding_size+=1\n",
    "        i+=1\n",
    "\n",
    "print(total_new_encoding_size-total_code_size)\n"
   ]
  }
 ],
 "metadata": {
  "kernelspec": {
   "display_name": ".venv",
   "language": "python",
   "name": "python3"
  },
  "language_info": {
   "codemirror_mode": {
    "name": "ipython",
    "version": 3
   },
   "file_extension": ".py",
   "mimetype": "text/x-python",
   "name": "python",
   "nbconvert_exporter": "python",
   "pygments_lexer": "ipython3",
   "version": "3.12.0"
  }
 },
 "nbformat": 4,
 "nbformat_minor": 2
}
