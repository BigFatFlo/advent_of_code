{
 "cells": [
  {
   "cell_type": "code",
   "execution_count": 17,
   "metadata": {},
   "outputs": [
    {
     "name": "stdout",
     "output_type": "stream",
     "text": [
      "170\n",
      "247\n"
     ]
    }
   ],
   "source": [
    "f = open(\"input.txt\", 'r')\n",
    "\n",
    "instructions = []\n",
    "\n",
    "class Instruction:\n",
    "    def __init__(self, instr, offset, reg) -> None:\n",
    "        self.instr = instr\n",
    "        self.offset = offset\n",
    "        self.reg = reg\n",
    "\n",
    "for line in f:\n",
    "    offset = 0\n",
    "    line = line.replace('\\n', '')\n",
    "    if ',' in line:\n",
    "        line, offset = line.split(', ')\n",
    "        if offset[0] == '+':\n",
    "            offset = int(offset[1:])\n",
    "        elif offset[0] == '-':\n",
    "            offset = -int(offset[1:])\n",
    "    instr, param = line.split(' ')\n",
    "    if param[0] == '+':\n",
    "        offset = int(param[1:])\n",
    "        reg = \"no_reg\"\n",
    "    elif param[0] == '-':\n",
    "        offset = -int(param[1:])\n",
    "        reg = \"no_reg\"\n",
    "    else:\n",
    "        reg = param\n",
    "    instructions.append(Instruction(instr, offset, reg))\n",
    "\n",
    "def runProgram(registers):\n",
    "    i = 0\n",
    "    while 0 <= i < len(instructions):\n",
    "        instruction = instructions[i]\n",
    "        match instruction.instr:\n",
    "            case \"hlf\":\n",
    "                registers[instruction.reg]=registers[instruction.reg]//2\n",
    "                i+=1\n",
    "            case \"tpl\":\n",
    "                registers[instruction.reg]*=3\n",
    "                i+=1\n",
    "            case \"inc\":\n",
    "                registers[instruction.reg]+=1\n",
    "                i+=1\n",
    "            case \"jmp\":\n",
    "                i+=instruction.offset\n",
    "            case \"jie\":\n",
    "                if registers[instruction.reg]%2 == 0:\n",
    "                    i+=instruction.offset\n",
    "                else:\n",
    "                    i+=1\n",
    "            case \"jio\":\n",
    "                if registers[instruction.reg] == 1:\n",
    "                    i+=instruction.offset\n",
    "                else:\n",
    "                    i+=1\n",
    "    \n",
    "def part1():\n",
    "    registers = {'a': 0, 'b': 0}\n",
    "    runProgram(registers)\n",
    "    print(registers['b'])\n",
    "\n",
    "def part2():\n",
    "    registers = {'a': 1, 'b': 0}\n",
    "    runProgram(registers)\n",
    "    print(registers['b'])\n",
    "\n",
    "part1()\n",
    "part2()"
   ]
  }
 ],
 "metadata": {
  "kernelspec": {
   "display_name": ".venv",
   "language": "python",
   "name": "python3"
  },
  "language_info": {
   "codemirror_mode": {
    "name": "ipython",
    "version": 3
   },
   "file_extension": ".py",
   "mimetype": "text/x-python",
   "name": "python",
   "nbconvert_exporter": "python",
   "pygments_lexer": "ipython3",
   "version": "3.12.0"
  }
 },
 "nbformat": 4,
 "nbformat_minor": 2
}
