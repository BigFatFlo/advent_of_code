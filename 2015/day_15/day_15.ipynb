{
 "cells": [
  {
   "cell_type": "code",
   "execution_count": 24,
   "metadata": {},
   "outputs": [
    {
     "name": "stdout",
     "output_type": "stream",
     "text": [
      "Sprinkles: capacity 5, durability -1, flavor 0, texture 0, calories 5\n",
      "\n",
      "PeanutButter: capacity -1, durability 3, flavor 0, texture 0, calories 1\n",
      "\n",
      "Frosting: capacity 0, durability -1, flavor 4, texture 0, calories 6\n",
      "\n",
      "Sugar: capacity -1, durability 0, flavor 0, texture 2, calories 8\n",
      "{'Sprinkles': {'capacity': 5, 'durability': -1, 'flavor': 0, 'texture': 0, 'calories': 5}, 'PeanutButter': {'capacity': -1, 'durability': 3, 'flavor': 0, 'texture': 0, 'calories': 1}, 'Frosting': {'capacity': 0, 'durability': -1, 'flavor': 4, 'texture': 0, 'calories': 6}, 'Sugar': {'capacity': -1, 'durability': 0, 'flavor': 0, 'texture': 2, 'calories': 8}}\n",
      "11171160\n"
     ]
    }
   ],
   "source": [
    "from itertools import product\n",
    "\n",
    "f = open(\"input.txt\", 'r')\n",
    "\n",
    "ingredients = {}\n",
    "\n",
    "for line in f:\n",
    "    print(line)\n",
    "    name, stats = line.replace('\\n', '').split(':')\n",
    "    stats = stats.split(',')\n",
    "    capacity = int(stats[0].split(' ')[2])\n",
    "    durability = int(stats[1].split(' ')[2])\n",
    "    flavor = int(stats[2].split(' ')[2])\n",
    "    texture = int(stats[3].split(' ')[2])\n",
    "    calories = int(stats[4].split(' ')[2])\n",
    "    ingredients[name] = {\"capacity\": capacity, \"durability\": durability, \"flavor\": flavor , \"texture\": texture , \"calories\": calories}\n",
    "\n",
    "print(ingredients)\n",
    "\n",
    "max_score = 0\n",
    "for teaspoons in product(range(101), repeat=len(ingredients)):\n",
    "    if sum(teaspoons) != 100:\n",
    "        continue\n",
    "    properties = {\"capacity\": 0, \"durability\": 0, \"flavor\": 0 , \"texture\": 0 , \"calories\": 0}\n",
    "    i = 0\n",
    "    for stats in ingredients.values():\n",
    "        for property in properties:\n",
    "            properties[property] += stats[property]*teaspoons[i]\n",
    "        i+=1\n",
    "    score = 1\n",
    "    for property in properties:\n",
    "        if property == \"calories\":\n",
    "            continue\n",
    "        properties[property] = max(0, properties[property])\n",
    "        score *= properties[property]\n",
    "    if properties[\"calories\"] == 500:\n",
    "        max_score = max(max_score, score)\n",
    "print(max_score)\n",
    "\n"
   ]
  }
 ],
 "metadata": {
  "kernelspec": {
   "display_name": ".venv",
   "language": "python",
   "name": "python3"
  },
  "language_info": {
   "codemirror_mode": {
    "name": "ipython",
    "version": 3
   },
   "file_extension": ".py",
   "mimetype": "text/x-python",
   "name": "python",
   "nbconvert_exporter": "python",
   "pygments_lexer": "ipython3",
   "version": "3.12.0"
  }
 },
 "nbformat": 4,
 "nbformat_minor": 2
}
