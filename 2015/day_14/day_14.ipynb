{
 "cells": [
  {
   "cell_type": "code",
   "execution_count": 19,
   "metadata": {},
   "outputs": [
    {
     "name": "stdout",
     "output_type": "stream",
     "text": [
      "1120\n",
      "2655\n",
      "538\n",
      "1059\n"
     ]
    }
   ],
   "source": [
    "f = open(\"input.txt\", 'r')\n",
    "\n",
    "reindeers = {}\n",
    "\n",
    "for line in f:\n",
    "    words = line.replace('\\n', '').split(' ')\n",
    "    name = words[0]\n",
    "    speed = int(words[3])\n",
    "    time_flying = int(words[6])\n",
    "    time_resting = int(words[-2])\n",
    "    reindeers[name] = {\"speed\": speed, \"time_flying\": time_flying, \"time_resting\": time_resting}\n",
    "\n",
    "def getMaxDistance(max_time):\n",
    "    max_distance = 0\n",
    "    for name, stats in reindeers.items():\n",
    "        distance = 0\n",
    "        time = 0\n",
    "        speed = stats[\"speed\"]\n",
    "        t_f = stats[\"time_flying\"]\n",
    "        t_r = stats[\"time_resting\"]\n",
    "        while time < max_time:\n",
    "            time += t_f + t_r\n",
    "            distance += speed*t_f\n",
    "        if time > max_time:\n",
    "            if time - t_r > max_time:\n",
    "                distance -= speed*(time-t_r-max_time)\n",
    "        max_distance = max(max_distance, distance)\n",
    "    return max_distance\n",
    "\n",
    "print(getMaxDistance(1000))\n",
    "print(getMaxDistance(2503))\n",
    "\n",
    "def getMaxPoints(max_time):\n",
    "    t = 0\n",
    "    score = {name: {\"points\": 0, \"distance\": 0} for name in reindeers}\n",
    "    state = {name: {\"t_f\": 0, \"t_r\": 0, \"flying\": True} for name in reindeers}\n",
    "    max_points = 0\n",
    "    while t < max_time:\n",
    "        max_distance = 0\n",
    "        for name, stats in reindeers.items():\n",
    "            if state[name][\"flying\"]:\n",
    "                state[name][\"t_f\"]+=1\n",
    "                if state[name][\"t_f\"] >= stats[\"time_flying\"]:\n",
    "                    state[name][\"t_f\"] = 0\n",
    "                    state[name][\"flying\"] = False\n",
    "                score[name][\"distance\"]+=stats[\"speed\"]\n",
    "            else:\n",
    "                state[name][\"t_r\"]+=1\n",
    "                if state[name][\"t_r\"] >= stats[\"time_resting\"]:\n",
    "                    state[name][\"t_r\"] = 0\n",
    "                    state[name][\"flying\"] = True\n",
    "            max_distance = max(max_distance, score[name][\"distance\"])\n",
    "        for name in reindeers:\n",
    "            if score[name][\"distance\"] == max_distance:\n",
    "                score[name][\"points\"]+=1\n",
    "            max_points = max(max_points, score[name][\"points\"])\n",
    "        t+=1\n",
    "    return max_points\n",
    "\n",
    "print(getMaxPoints(1000))\n",
    "print(getMaxPoints(2503))\n"
   ]
  }
 ],
 "metadata": {
  "kernelspec": {
   "display_name": ".venv",
   "language": "python",
   "name": "python3"
  },
  "language_info": {
   "codemirror_mode": {
    "name": "ipython",
    "version": 3
   },
   "file_extension": ".py",
   "mimetype": "text/x-python",
   "name": "python",
   "nbconvert_exporter": "python",
   "pygments_lexer": "ipython3",
   "version": "3.12.0"
  }
 },
 "nbformat": 4,
 "nbformat_minor": 2
}
