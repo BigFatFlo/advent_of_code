{
 "cells": [
  {
   "cell_type": "code",
   "execution_count": 12,
   "metadata": {},
   "outputs": [
    {
     "name": "stdout",
     "output_type": "stream",
     "text": [
      "400410\n",
      "15343601\n"
     ]
    }
   ],
   "source": [
    "f = open(\"input.txt\", 'r')\n",
    "\n",
    "instructions = []\n",
    "\n",
    "for line in f:\n",
    "    inst = \"\"\n",
    "    if line.startswith(\"toggle\"):\n",
    "        inst = \"toggle\"\n",
    "    elif line.startswith(\"turn on\"):\n",
    "        inst = \"turn on\"\n",
    "    elif line.startswith(\"turn off\"):\n",
    "        inst = \"turn off\"\n",
    "    line = line[len(inst):].replace('\\n', '').replace(' ', '')\n",
    "    start, end = line.split(\"through\")\n",
    "    start_i, start_j = [int(c) for c in start.split(',')]\n",
    "    end_i, end_j = [int(c) for c in end.split(',')]\n",
    "    instructions.append((inst, (start_i, start_j), (end_i, end_j)))\n",
    "\n",
    "height, width = 1000, 1000\n",
    "grid = [[0 for j in range(width)] for j in range(height)]\n",
    "\n",
    "def resetGrid(grid):\n",
    "    for i in range(height):\n",
    "        for j in range(width):\n",
    "            grid[i][j]=0\n",
    "\n",
    "def solvePart1(grid, instructions):\n",
    "    for inst in instructions:\n",
    "        inst, (start_i, start_j), (end_i, end_j) = inst\n",
    "        for i in range(start_i, end_i+1):\n",
    "            for j in range(start_j, end_j+1):\n",
    "                match inst:\n",
    "                    case \"toggle\":\n",
    "                        grid[i][j] = 1-grid[i][j]\n",
    "                    case \"turn on\":\n",
    "                        grid[i][j] = 1\n",
    "                    case \"turn off\":\n",
    "                        grid[i][j] = 0\n",
    "    total = 0\n",
    "    for i in range(height):\n",
    "        for j in range(width):\n",
    "            if grid[i][j] == 1:\n",
    "                total+=1\n",
    "    print(total)\n",
    "\n",
    "def solvePart2(grid, instructions):\n",
    "    for inst in instructions:\n",
    "        inst, (start_i, start_j), (end_i, end_j) = inst\n",
    "        for i in range(start_i, end_i+1):\n",
    "            for j in range(start_j, end_j+1):\n",
    "                match inst:\n",
    "                    case \"toggle\":\n",
    "                        grid[i][j]+=2\n",
    "                    case \"turn on\":\n",
    "                        grid[i][j]+=1\n",
    "                    case \"turn off\":\n",
    "                        grid[i][j]=max(0, grid[i][j]-1)\n",
    "    total = 0\n",
    "    for i in range(height):\n",
    "        for j in range(width):\n",
    "            total+=grid[i][j]\n",
    "    print(total)\n",
    "\n",
    "solvePart1(grid, instructions)\n",
    "resetGrid(grid)\n",
    "solvePart2(grid, instructions)\n"
   ]
  }
 ],
 "metadata": {
  "kernelspec": {
   "display_name": ".venv",
   "language": "python",
   "name": "python3"
  },
  "language_info": {
   "codemirror_mode": {
    "name": "ipython",
    "version": 3
   },
   "file_extension": ".py",
   "mimetype": "text/x-python",
   "name": "python",
   "nbconvert_exporter": "python",
   "pygments_lexer": "ipython3",
   "version": "3.12.0"
  }
 },
 "nbformat": 4,
 "nbformat_minor": 2
}
