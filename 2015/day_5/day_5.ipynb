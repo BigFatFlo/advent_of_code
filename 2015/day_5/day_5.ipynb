{
 "cells": [
  {
   "cell_type": "code",
   "execution_count": 8,
   "metadata": {},
   "outputs": [
    {
     "name": "stdout",
     "output_type": "stream",
     "text": [
      "258\n",
      "53\n"
     ]
    }
   ],
   "source": [
    "from collections import defaultdict\n",
    "\n",
    "f = open(\"input.txt\", 'r')\n",
    "\n",
    "strings = []\n",
    "\n",
    "for line in f:\n",
    "    strings.append(line.replace('\\n', ''))\n",
    "\n",
    "forbidden_strings = [\"ab\", \"cd\", \"pq\", \"xy\"]\n",
    "vowels = ['a', 'e', 'i', 'o', 'u']\n",
    "\n",
    "def isStringNice(s):\n",
    "    i = 0\n",
    "    vowel_count = 0\n",
    "    repeated_count = 0\n",
    "    last_c = ''\n",
    "    while i < len(s):\n",
    "        c = s[i]\n",
    "        if c in vowels:\n",
    "            vowel_count += 1\n",
    "        if c == last_c:\n",
    "            repeated_count += 1\n",
    "        if last_c + c in forbidden_strings:\n",
    "            return False\n",
    "        last_c = c\n",
    "        i+=1\n",
    "    return vowel_count >= 3 and repeated_count >= 1\n",
    "\n",
    "total = 0\n",
    "for s in strings:\n",
    "    is_nice = isStringNice(s)\n",
    "    if is_nice:\n",
    "        total+=1\n",
    "\n",
    "print(total)\n",
    "\n",
    "def isStringReallyNice(s):\n",
    "    pairs = defaultdict(int)\n",
    "    i = 0\n",
    "    repeated_count = 0\n",
    "    repeated_pairs_count = 0\n",
    "    last_c = ''\n",
    "    before_last_c = ''\n",
    "    while i < len(s):\n",
    "        c = s[i]\n",
    "        if c == before_last_c:\n",
    "            repeated_count += 1\n",
    "        pair = last_c + c\n",
    "        if pair != before_last_c + last_c:\n",
    "            pairs[pair]+=1\n",
    "            if pairs[pair] > 1:\n",
    "                repeated_pairs_count+=1\n",
    "        before_last_c = last_c\n",
    "        last_c = c\n",
    "        i+=1\n",
    "    return repeated_pairs_count > 0 and repeated_count > 0\n",
    "\n",
    "total = 0\n",
    "for s in strings:\n",
    "    is_nice = isStringReallyNice(s)\n",
    "    if is_nice:\n",
    "        total+=1\n",
    "\n",
    "print(total)\n"
   ]
  }
 ],
 "metadata": {
  "kernelspec": {
   "display_name": ".venv",
   "language": "python",
   "name": "python3"
  },
  "language_info": {
   "codemirror_mode": {
    "name": "ipython",
    "version": 3
   },
   "file_extension": ".py",
   "mimetype": "text/x-python",
   "name": "python",
   "nbconvert_exporter": "python",
   "pygments_lexer": "ipython3",
   "version": "3.12.0"
  }
 },
 "nbformat": 4,
 "nbformat_minor": 2
}
