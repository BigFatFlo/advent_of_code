{
 "cells": [
  {
   "cell_type": "code",
   "execution_count": 24,
   "metadata": {},
   "outputs": [
    {
     "name": "stdout",
     "output_type": "stream",
     "text": [
      "4\n",
      "1304\n",
      "3\n",
      "18\n"
     ]
    }
   ],
   "source": [
    "from collections import defaultdict\n",
    "\n",
    "def getContainers(file_name):\n",
    "    f = open(file_name, 'r')\n",
    "    containers = []\n",
    "    for line in f:\n",
    "        containers.append(int(line.replace('\\n', '')))\n",
    "    return containers\n",
    "\n",
    "def getNbOfCombinations(target, current, containers, next, nb_of_containers_used, ways_per_nb):\n",
    "    total = 0\n",
    "    if next == len(containers):\n",
    "        if current == target:\n",
    "            ways_per_nb[nb_of_containers_used]+=1\n",
    "            return 1\n",
    "        else:\n",
    "            return 0\n",
    "    else:\n",
    "        container = containers[next]\n",
    "        new_current = current + container\n",
    "        if new_current <= target:\n",
    "            total += getNbOfCombinations(target, new_current, containers, next+1, nb_of_containers_used+1, ways_per_nb)    \n",
    "        total += getNbOfCombinations(target, current, containers, next+1, nb_of_containers_used, ways_per_nb)\n",
    "    return total\n",
    "\n",
    "def part1(target, file_name):\n",
    "    containers = getContainers(file_name)\n",
    "    ways_per_nb_of_containers_used = defaultdict(int)\n",
    "    result = getNbOfCombinations(target, 0, containers, 0, 0, ways_per_nb_of_containers_used)\n",
    "    print(result)\n",
    "\n",
    "def part2(target, file_name):\n",
    "    containers = getContainers(file_name)\n",
    "    ways_per_nb_of_containers_used = defaultdict(int)\n",
    "    getNbOfCombinations(target, 0, containers, 0, 0, ways_per_nb_of_containers_used)\n",
    "    min_nb_of_containers = min(list(ways_per_nb_of_containers_used.keys()))\n",
    "    print(ways_per_nb_of_containers_used[min_nb_of_containers])\n",
    "\n",
    "part1(25, \"example.txt\")\n",
    "part1(150, \"input.txt\")\n",
    "\n",
    "part2(25, \"example.txt\")\n",
    "part2(150, \"input.txt\")\n"
   ]
  }
 ],
 "metadata": {
  "kernelspec": {
   "display_name": ".venv",
   "language": "python",
   "name": "python3"
  },
  "language_info": {
   "codemirror_mode": {
    "name": "ipython",
    "version": 3
   },
   "file_extension": ".py",
   "mimetype": "text/x-python",
   "name": "python",
   "nbconvert_exporter": "python",
   "pygments_lexer": "ipython3",
   "version": "3.12.0"
  }
 },
 "nbformat": 4,
 "nbformat_minor": 2
}
