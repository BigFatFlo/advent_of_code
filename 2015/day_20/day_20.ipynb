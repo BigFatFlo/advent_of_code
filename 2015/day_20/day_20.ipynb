{
 "cells": [
  {
   "cell_type": "code",
   "execution_count": 89,
   "metadata": {},
   "outputs": [
    {
     "name": "stdout",
     "output_type": "stream",
     "text": [
      "884520\n"
     ]
    }
   ],
   "source": [
    "import math as m\n",
    "\n",
    "input = 36000000\n",
    "\n",
    "# First way, too complex: using Euler's formula for Sigma function: https://en.wikipedia.org/wiki/Divisor_function#Other_properties_and_identities\n",
    "def sigma(n, sigmas):\n",
    "    if n < 0:\n",
    "        return 0\n",
    "    if n in sigmas:\n",
    "        return sigmas[n]\n",
    "    total = 0\n",
    "    a = 3\n",
    "    b = -1\n",
    "    c = -2*n\n",
    "    delta = b**2-4*a*c\n",
    "    max_i = int((-b+m.sqrt(delta))/(2*a))\n",
    "    for i in range(1, max_i+1):\n",
    "        j = n-(3*(i**2)-i)//2\n",
    "        k = n-(3*(i**2)+i)//2\n",
    "        if j == 0:\n",
    "            s_j = n\n",
    "        elif j in sigmas:\n",
    "            s_j = sigmas[j]\n",
    "        else:\n",
    "            s_j = sigma(j, sigmas)\n",
    "        if k == 0:\n",
    "            s_k = n\n",
    "        elif k in sigmas:\n",
    "            s_k = sigmas[k]\n",
    "        else:\n",
    "            s_k = sigma(k, sigmas)\n",
    "        # print(n, j, k, s_j, s_k)\n",
    "        total += ((-1)**(i+1))*(s_j + s_k)\n",
    "    sigmas[n] = total\n",
    "    return total\n",
    "\n",
    "# Works, but takes about 8 minutes\n",
    "def part1_sigma():\n",
    "    sigmas = {}\n",
    "    for n in range(1, 1500000):\n",
    "        s = sigma(n, sigmas)\n",
    "        if s >= input//10:\n",
    "            print(n, s)\n",
    "            break\n",
    "\n",
    "def part1(input):\n",
    "    gifts = [0 for i in range(input//10)]\n",
    "    result = m.inf\n",
    "    for i in range(1, input//10):\n",
    "        house = i\n",
    "        while house < input//10:\n",
    "            gifts[house]+=i\n",
    "            if gifts[house] >= input//10:\n",
    "                result = min(result, house)\n",
    "            house+=i\n",
    "    return result\n",
    "\n",
    "def part2(input):\n",
    "    gifts = [0 for i in range(input//11)]\n",
    "    result = m.inf\n",
    "    for i in range(1, input//11):\n",
    "        j = 1\n",
    "        house = i*j\n",
    "        while j<=50 and house < input//11:\n",
    "            gifts[house]+=i\n",
    "            if gifts[house] >= input//11:\n",
    "                result = min(result, house)\n",
    "            j+=1\n",
    "            house=i*j\n",
    "    return result\n",
    "    \n",
    "print(part1(input))\n",
    "print(part2(input))\n"
   ]
  }
 ],
 "metadata": {
  "kernelspec": {
   "display_name": ".venv",
   "language": "python",
   "name": "python3"
  },
  "language_info": {
   "codemirror_mode": {
    "name": "ipython",
    "version": 3
   },
   "file_extension": ".py",
   "mimetype": "text/x-python",
   "name": "python",
   "nbconvert_exporter": "python",
   "pygments_lexer": "ipython3",
   "version": "3.12.0"
  }
 },
 "nbformat": 4,
 "nbformat_minor": 2
}
