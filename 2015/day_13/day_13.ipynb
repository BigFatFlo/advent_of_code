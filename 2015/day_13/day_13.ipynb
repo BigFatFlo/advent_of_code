{
 "cells": [
  {
   "cell_type": "code",
   "execution_count": 33,
   "metadata": {},
   "outputs": [
    {
     "name": "stdout",
     "output_type": "stream",
     "text": [
      "733\n",
      "725\n"
     ]
    }
   ],
   "source": [
    "f = open(\"input.txt\", 'r')\n",
    "\n",
    "persons = {}\n",
    "\n",
    "for line in f:\n",
    "    words = line.replace('\\n','').split(' ')\n",
    "    person = words[0]\n",
    "    sign = words[2]\n",
    "    happiness = int(words[3])\n",
    "    neighbor = words[-1].replace('.','')\n",
    "    if person in persons:\n",
    "        persons[person][neighbor] = happiness if sign == \"gain\" else -1*happiness\n",
    "    else:\n",
    "        persons[person] = {neighbor: happiness if sign == \"gain\" else -1*happiness}\n",
    "\n",
    "def evaluateHappiness(table):\n",
    "    total = 0\n",
    "    i = 0\n",
    "    while i < len(table):\n",
    "        person = table[i]\n",
    "        ii, jj = (i-1)%len(table), (i+1)%len(table)\n",
    "        neighbors = [table[ii], table[jj]]\n",
    "        for neighbor in neighbors:\n",
    "            if neighbor in persons[person]:\n",
    "                happiness = persons[person][neighbor]\n",
    "                total += happiness\n",
    "        i+=1\n",
    "    return total\n",
    "\n",
    "def getMaxHappiness(persons):\n",
    "    person_list = list(persons.keys())\n",
    "    nb_of_persons = len(person_list)\n",
    "    current_tables = []\n",
    "    for person in person_list:\n",
    "        current_tables.append([person])\n",
    "    while len(current_tables[0]) != nb_of_persons:\n",
    "        next_tables = []\n",
    "        for table in current_tables:\n",
    "            for person in person_list:\n",
    "                if person not in table:\n",
    "                    new_table = []\n",
    "                    for p in table:\n",
    "                        new_table.append(p)\n",
    "                    new_table.append(person)\n",
    "                    next_tables.append(new_table)\n",
    "        current_tables = next_tables\n",
    "\n",
    "    max_happiness = 0\n",
    "    for table in current_tables:\n",
    "        max_happiness = max(max_happiness, evaluateHappiness(table))\n",
    "    return max_happiness\n",
    "\n",
    "print(getMaxHappiness(persons))\n",
    "\n",
    "me = {}\n",
    "for person in persons:\n",
    "    persons[person][\"me\"] = 0\n",
    "    me[person] = 0\n",
    "persons[\"me\"] = me\n",
    "\n",
    "print(getMaxHappiness(persons))"
   ]
  }
 ],
 "metadata": {
  "kernelspec": {
   "display_name": ".venv",
   "language": "python",
   "name": "python3"
  },
  "language_info": {
   "codemirror_mode": {
    "name": "ipython",
    "version": 3
   },
   "file_extension": ".py",
   "mimetype": "text/x-python",
   "name": "python",
   "nbconvert_exporter": "python",
   "pygments_lexer": "ipython3",
   "version": "3.12.0"
  }
 },
 "nbformat": 4,
 "nbformat_minor": 2
}
