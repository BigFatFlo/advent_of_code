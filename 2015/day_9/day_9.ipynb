{
 "cells": [
  {
   "cell_type": "code",
   "execution_count": 20,
   "metadata": {},
   "outputs": [
    {
     "name": "stdout",
     "output_type": "stream",
     "text": [
      "{'Faerun': {'Tristram': 65, 'Tambi': 129, 'Norrath': 144, 'Snowdin': 71, 'Straylight': 137, 'AlphaCentauri': 3, 'Arbre': 149}, 'Tristram': {'Faerun': 65, 'Tambi': 63, 'Norrath': 4, 'Snowdin': 105, 'Straylight': 125, 'AlphaCentauri': 55, 'Arbre': 14}, 'Tambi': {'Faerun': 129, 'Tristram': 63, 'Norrath': 68, 'Snowdin': 52, 'Straylight': 65, 'AlphaCentauri': 22, 'Arbre': 143}, 'Norrath': {'Faerun': 144, 'Tristram': 4, 'Tambi': 68, 'Snowdin': 8, 'Straylight': 23, 'AlphaCentauri': 136, 'Arbre': 115}, 'Snowdin': {'Faerun': 71, 'Tristram': 105, 'Tambi': 52, 'Norrath': 8, 'Straylight': 101, 'AlphaCentauri': 84, 'Arbre': 96}, 'Straylight': {'Faerun': 137, 'Tristram': 125, 'Tambi': 65, 'Norrath': 23, 'Snowdin': 101, 'AlphaCentauri': 107, 'Arbre': 14}, 'AlphaCentauri': {'Faerun': 3, 'Tristram': 55, 'Tambi': 22, 'Norrath': 136, 'Snowdin': 84, 'Straylight': 107, 'Arbre': 46}, 'Arbre': {'Faerun': 149, 'Tristram': 14, 'Tambi': 143, 'Norrath': 115, 'Snowdin': 96, 'Straylight': 14, 'AlphaCentauri': 46}}\n",
      "117\n",
      "909\n"
     ]
    }
   ],
   "source": [
    "f = open(\"input.txt\", 'r')\n",
    "\n",
    "nodes = {}\n",
    "\n",
    "for line in f:\n",
    "    [places, distance] = line.replace('\\n', '').replace(' ', '').split('=')\n",
    "    distance = int(distance)\n",
    "    start, stop = places.split('to')\n",
    "    if start in nodes:\n",
    "        nodes[start][stop] = distance\n",
    "    else:\n",
    "        nodes[start]={stop: distance}\n",
    "    if stop in nodes:\n",
    "        nodes[stop][start] = distance\n",
    "    else:\n",
    "        nodes[stop]={start: distance}\n",
    "\n",
    "print(nodes)\n",
    "\n",
    "# Held-Karp algorithm: https://en.wikipedia.org/wiki/Held–Karp_algorithm\n",
    "\n",
    "def g(s, S, e):\n",
    "    if len(S) == 0:\n",
    "        if e in nodes[s]:\n",
    "            return [nodes[s][e]]\n",
    "        else:\n",
    "            return []\n",
    "    possibles = []\n",
    "    for node in S:\n",
    "        if e in nodes[node]:\n",
    "            S.remove(node)\n",
    "            for d in g(s, S, node):\n",
    "                possibles.append(d + nodes[node][e])\n",
    "            S.add(node)\n",
    "    return possibles\n",
    "\n",
    "paths = []\n",
    "remaining = set(nodes.keys())\n",
    "for start in nodes:\n",
    "    for end in nodes:\n",
    "        if end == start:\n",
    "            continue\n",
    "        remaining.remove(start)\n",
    "        remaining.remove(end)\n",
    "        paths.append(min(g(start, remaining, end)))\n",
    "        remaining.add(start)\n",
    "        remaining.add(end)\n",
    "\n",
    "print(min(paths))\n",
    "\n",
    "paths = []\n",
    "remaining = set(nodes.keys())\n",
    "for start in nodes:\n",
    "    for end in nodes:\n",
    "        if end == start:\n",
    "            continue\n",
    "        remaining.remove(start)\n",
    "        remaining.remove(end)\n",
    "        paths.append(max(g(start, remaining, end)))\n",
    "        remaining.add(start)\n",
    "        remaining.add(end)\n",
    "\n",
    "print(max(paths))"
   ]
  }
 ],
 "metadata": {
  "kernelspec": {
   "display_name": ".venv",
   "language": "python",
   "name": "python3"
  },
  "language_info": {
   "codemirror_mode": {
    "name": "ipython",
    "version": 3
   },
   "file_extension": ".py",
   "mimetype": "text/x-python",
   "name": "python",
   "nbconvert_exporter": "python",
   "pygments_lexer": "ipython3",
   "version": "3.12.0"
  }
 },
 "nbformat": 4,
 "nbformat_minor": 2
}
