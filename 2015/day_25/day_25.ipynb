{
 "cells": [
  {
   "cell_type": "code",
   "execution_count": 20,
   "metadata": {},
   "outputs": [
    {
     "name": "stdout",
     "output_type": "stream",
     "text": [
      "8997277\n"
     ]
    }
   ],
   "source": [
    "def getTargetRC(file_name):\n",
    "    input = open(file_name, 'r')\n",
    "    target_r = 0\n",
    "    target_c = 0\n",
    "\n",
    "    for line in input:\n",
    "        i = line.find(\"row\")\n",
    "        line = line[i:].replace('.', '').replace('\\n', '')\n",
    "        row, column = line.split(', ')\n",
    "        target_r = int(row.split(' ')[1])\n",
    "        target_c = int(column.split(' ')[1])\n",
    "\n",
    "    return target_r, target_c\n",
    "\n",
    "def getCodes(file_name):\n",
    "    codes_file = open(file_name, 'r')\n",
    "    codes = []\n",
    "    for line in codes_file:\n",
    "        codes.append([])\n",
    "        numbers = line.replace('\\n', '').split(' ')\n",
    "        for number in numbers:\n",
    "            if number.isnumeric():\n",
    "                codes[-1].append(int(number))\n",
    "    return codes\n",
    "\n",
    "def generateNextDiagonal(codes):\n",
    "    height = len(codes)\n",
    "    codes.append([])\n",
    "    i = height\n",
    "    prev = codes[0][i-1]\n",
    "    while i >= 0:\n",
    "        codes[i].append((prev*252533)%33554393)\n",
    "        prev = codes[i][-1]\n",
    "        i-=1\n",
    "    \n",
    "def part1():\n",
    "    target_r, target_c = getTargetRC(\"input.txt\")\n",
    "    codes = getCodes(\"codes.txt\")\n",
    "    first_code = codes[0][0]\n",
    "    i = 0 \n",
    "    codes = [[first_code]]\n",
    "    while i < target_r + target_c:\n",
    "        generateNextDiagonal(codes)\n",
    "        i+=1\n",
    "    print(codes[target_r-1][target_c-1])\n",
    "\n",
    "part1()"
   ]
  }
 ],
 "metadata": {
  "kernelspec": {
   "display_name": ".venv",
   "language": "python",
   "name": "python3"
  },
  "language_info": {
   "codemirror_mode": {
    "name": "ipython",
    "version": 3
   },
   "file_extension": ".py",
   "mimetype": "text/x-python",
   "name": "python",
   "nbconvert_exporter": "python",
   "pygments_lexer": "ipython3",
   "version": "3.12.0"
  }
 },
 "nbformat": 4,
 "nbformat_minor": 2
}
