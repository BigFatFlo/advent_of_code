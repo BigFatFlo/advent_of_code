{
 "cells": [
  {
   "cell_type": "code",
   "execution_count": 11,
   "metadata": {},
   "outputs": [
    {
     "name": "stdout",
     "output_type": "stream",
     "text": [
      "58\n",
      "43\n",
      "1606483\n",
      "34\n",
      "14\n",
      "3842356\n"
     ]
    }
   ],
   "source": [
    "from tabulate import tabulate\n",
    "\n",
    "f = open(\"input.txt\", 'r')\n",
    "\n",
    "gifts = []\n",
    "\n",
    "for line in f:\n",
    "    [l, w, h] = [int(c) for c in line.replace('\\n', '').split('x')]\n",
    "    gifts.append((l, w, h))\n",
    "\n",
    "def wrappingPaper(gift):\n",
    "    (l, w, h) = gift\n",
    "    areas = [l*w, l*h, w*h]\n",
    "    return 2*sum(areas) + min(areas)\n",
    "\n",
    "print(wrappingPaper((2, 3, 4)))\n",
    "print(wrappingPaper((1, 1, 10)))\n",
    "\n",
    "total = 0\n",
    "for gift in gifts:\n",
    "    total += wrappingPaper(gift)\n",
    "\n",
    "print(total)\n",
    "\n",
    "def ribbon(gift):\n",
    "    (l, w, h) = gift\n",
    "    volume = l*w*h\n",
    "    perimeters = [2*(l+w), 2*(l+h), 2*(w+h)]\n",
    "    return min(perimeters) + volume\n",
    "\n",
    "print(ribbon((2, 3, 4)))\n",
    "print(ribbon((1, 1, 10)))\n",
    "\n",
    "total = 0\n",
    "for gift in gifts:\n",
    "    total += ribbon(gift)\n",
    "\n",
    "print(total)"
   ]
  }
 ],
 "metadata": {
  "kernelspec": {
   "display_name": ".venv",
   "language": "python",
   "name": "python3"
  },
  "language_info": {
   "codemirror_mode": {
    "name": "ipython",
    "version": 3
   },
   "file_extension": ".py",
   "mimetype": "text/x-python",
   "name": "python",
   "nbconvert_exporter": "python",
   "pygments_lexer": "ipython3",
   "version": "3.12.0"
  }
 },
 "nbformat": 4,
 "nbformat_minor": 2
}
