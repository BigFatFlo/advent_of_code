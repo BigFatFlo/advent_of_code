{
 "cells": [
  {
   "cell_type": "code",
   "execution_count": 5,
   "metadata": {},
   "outputs": [
    {
     "name": "stdout",
     "output_type": "stream",
     "text": [
      "99\n",
      "10723906903\n",
      "44\n",
      "74850409\n"
     ]
    }
   ],
   "source": [
    "from itertools import product\n",
    "\n",
    "def parseInput(file_name):\n",
    "    f = open(file_name, 'r')\n",
    "    presents = []\n",
    "\n",
    "    for line in f:\n",
    "        presents.append(int(line.replace('\\n', '')))\n",
    "\n",
    "    return presents\n",
    "\n",
    "def getQuantumEntanglement(presents):\n",
    "    qe = 1\n",
    "    for present in presents:\n",
    "        qe*=present\n",
    "    return qe\n",
    "\n",
    "def findQE(file_name, nb_of_groups):\n",
    "    presents = parseInput(file_name)\n",
    "    presents.sort()\n",
    "    presents.reverse()\n",
    "    total_sum = sum(presents)\n",
    "    if total_sum%nb_of_groups != 0:\n",
    "        raise(ValueError)\n",
    "    nb_of_presents_in_first_group = 0\n",
    "    min_quantum_entanglement = None\n",
    "    while min_quantum_entanglement == None:\n",
    "        nb_of_presents_in_first_group += 1\n",
    "        for presents_in_first_group in product(presents, repeat=nb_of_presents_in_first_group):\n",
    "            # Check if an element is repeated\n",
    "            if len(set(presents_in_first_group)) < len(presents_in_first_group):\n",
    "                continue\n",
    "            if sum(presents_in_first_group) != total_sum / nb_of_groups:\n",
    "                continue\n",
    "            qe = getQuantumEntanglement(presents_in_first_group)\n",
    "            # For some reason, it seems that the first solution found is the right one.\n",
    "            # Also, the rest of the presents split evenly.\n",
    "            # Otherwise you need to check if the other presents can be split or not\n",
    "            # for each possible first group with this nb of presents in it.\n",
    "            # I tried it but couldn't find a solution that finished in a reasonable time.\n",
    "            min_quantum_entanglement = qe\n",
    "            break\n",
    "    return min_quantum_entanglement\n",
    "\n",
    "def part1(file_name):\n",
    "    print(findQE(file_name, 3))\n",
    "\n",
    "def part2(file_name):\n",
    "    print(findQE(file_name, 4))\n",
    "\n",
    "part1(\"example.txt\")\n",
    "part1(\"input.txt\")\n",
    "part2(\"example.txt\")\n",
    "part2(\"input.txt\")\n"
   ]
  }
 ],
 "metadata": {
  "kernelspec": {
   "display_name": ".venv",
   "language": "python",
   "name": "python3"
  },
  "language_info": {
   "codemirror_mode": {
    "name": "ipython",
    "version": 3
   },
   "file_extension": ".py",
   "mimetype": "text/x-python",
   "name": "python",
   "nbconvert_exporter": "python",
   "pygments_lexer": "ipython3",
   "version": "3.12.0"
  }
 },
 "nbformat": 4,
 "nbformat_minor": 2
}
